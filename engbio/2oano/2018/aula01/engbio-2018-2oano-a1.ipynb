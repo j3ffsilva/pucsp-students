{
 "cells": [
  {
   "cell_type": "markdown",
   "metadata": {},
   "source": [
    "<figure>\n",
    "  <IMG SRC=\"http://www.pucsp.br/sites/default/files/download/brasao-PUCSP-assinatura-principal-RGB.png\" WIDTH=75 ALIGN=\"right\">\n",
    "</figure>\n",
    "\n",
    "# Computação Exploratória com Python\n"
   ]
  },
  {
   "cell_type": "markdown",
   "metadata": {},
   "source": [
    "## Semana 1 - aula 1"
   ]
  },
  {
   "cell_type": "markdown",
   "metadata": {},
   "source": [
    "## Fundamentos e Plotagem\n",
    "### Os primeiros passos em Python\n",
    "Python é uma linguagem de programação de software livre utilizada para a criação de scripts e aplicações. Python pode ser utilizada para quase qualquer coisa. Por exemplo, você pode usar Python como uma calculadora. Posicione seu cursor na célula de código abaixo e pressione [shift][enter]. A saída deve ser 12."
   ]
  },
  {
   "cell_type": "code",
   "execution_count": 1,
   "metadata": {},
   "outputs": [
    {
     "data": {
      "text/plain": [
       "12"
      ]
     },
     "execution_count": 1,
     "metadata": {},
     "output_type": "execute_result"
    }
   ],
   "source": [
    "6 * 2"
   ]
  },
  {
   "cell_type": "markdown",
   "metadata": {},
   "source": [
    "Note que colocamos o espaço extra para tornar o código mais legível. `2 * 3` funciona tanto quanto `2*3`. No entanto, recomendamos fortemente colocar os espaços. Essas regras que aumentam a legibilidade do código são consideradas boas práticas.\n",
    "\n",
    "Na sua programação, você irá necessitar armazenar valores em variáveis."
   ]
  },
  {
   "cell_type": "code",
   "execution_count": null,
   "metadata": {},
   "outputs": [],
   "source": [
    "a = 6\n",
    "b = 2\n",
    "a * b"
   ]
  },
  {
   "cell_type": "markdown",
   "metadata": {},
   "source": [
    "Tanto `a` quanto `b` são agora variáveis. Cada variável tem um tipo. Neste caso, os tipos são inteiros. Para imprimir o valor de uma variável na tela, use a função `print` (o último comando é automaticamente impresso na tela se não for armazenado em uma variável, como mostrado acima)."
   ]
  },
  {
   "cell_type": "code",
   "execution_count": null,
   "metadata": {},
   "outputs": [],
   "source": [
    "print(a)\n",
    "print(b)\n",
    "print(a * b)\n",
    "print(a / b)"
   ]
  },
  {
   "cell_type": "markdown",
   "metadata": {},
   "source": [
    "Podemos adicionar algum texto à função `print` colocando o texto entre aspas (tanto faz se aspas simples ou duplas, contanto que você use as mesmas no início e no final), e separe a string de texto e a variável por vírgula"
   ]
  },
  {
   "cell_type": "code",
   "execution_count": null,
   "metadata": {},
   "outputs": [],
   "source": [
    "print('o valor de a eh', a)"
   ]
  },
  {
   "cell_type": "markdown",
   "metadata": {},
   "source": [
    "Uma variável pode ser elevada a um poder usando `**`\n",
    "(um chapéu `^`, como usado em algumas outras linguagens, não funciona)."
   ]
  },
  {
   "cell_type": "code",
   "execution_count": null,
   "metadata": {},
   "outputs": [],
   "source": [
    "a ** b"
   ]
  },
  {
   "cell_type": "markdown",
   "metadata": {},
   "source": [
    "### <a name=\"ex1\"></a> Exercício 1, primeiro código Python\n",
    "Calcule o valor do polinômio $y=ax^2+bx+c$ at $x=-2$, $x=0$, e $x=2$ usando $a=1$, $b=1$, $c=-6$."
   ]
  },
  {
   "cell_type": "code",
   "execution_count": null,
   "metadata": {},
   "outputs": [],
   "source": []
  },
  {
   "cell_type": "markdown",
   "metadata": {},
   "source": [
    "<a href=\"#ex1answer\">Resposta do Exercício 1</a>"
   ]
  },
  {
   "cell_type": "markdown",
   "metadata": {},
   "source": [
    "### Divisão\n",
    "A divisão funciona também"
   ]
  },
  {
   "cell_type": "code",
   "execution_count": null,
   "metadata": {},
   "outputs": [],
   "source": [
    "print('1/3 resulta em ', 1 / 3)"
   ]
  },
  {
   "cell_type": "markdown",
   "metadata": {},
   "source": [
    "(Nota para usuários do Python 2: `1 / 3` fornece zero no Python 2, já que a divisão de dois inteiros retorna um inteiro. Use` 1.0 / 3` em vez disso."
   ]
  },
  {
   "cell_type": "markdown",
   "metadata": {},
   "source": [
    "### Mais sobre variáveis\n",
    "Depois de criar uma variável em uma sessão do Python, ela permanecerá na memória, para que você possa usá-la em outras células também. Por exemplo, a variável `a`, que foi definida anteriormente neste Notebook, ainda existe. Será '6', a menos que você o tenha alterado no Exercício 1."
   ]
  },
  {
   "cell_type": "code",
   "execution_count": null,
   "metadata": {},
   "outputs": [],
   "source": [
    "print('a:', a)"
   ]
  },
  {
   "cell_type": "markdown",
   "metadata": {},
   "source": [
    "Você, como usuário, decide a ordem na qual os blocos de código são executados. Por exemplo, `In [6]` significa que é a sexta execução de um bloco de código. Se você alterar o mesmo bloco de código e executá-lo novamente, ele receberá o número 7. Se você definir a variável `a` no bloco de códigos 7, ele sobrescreverá o valor de `a` definido em um bloco de código anterior.\n",
    "\n",
    "Os nomes das variáveis podem ser tão grandes quanto quiser (você vai precisar digitá-las depois). Escolher nomes descritivos ajuda na compreensão do código. \n",
    "\n",
    "Os nomes das variáveis não podem ter espaços nem podem começar com um número. E faz diferença se os nomes das variáveis fazem distinção entre maiúsculas e minúsculas. Então a variável `umlocal` não é a mesma que a variável `umLocal`. O nome de uma variável pode ser o que você quiser, exceto palavras reservadas na linguagem Python. Por exemplo, não é possível criar uma variável para `for = 7`, já que `for` é uma palavra reservada. \n",
    "\n",
    "Você aprenderá muitas das palavras reservadas mais para frente; elas ficam coloridas em verde quando você as digita no bloco de anotações."
   ]
  },
  {
   "cell_type": "markdown",
   "metadata": {},
   "source": [
    "### Fundamentos da plotagem e um primeiro array\n",
    "Plotagem não faz parte do Python padrão. Felizmente, existem pacotes para criar belos gráficos. Um pacote é uma biblioteca de funções para um conjunto específico de tarefas. Existem muitos pacotes no Python e vamos usar vários deles. \n",
    "\n",
    "O pacote gráfico que usaremos é chamado `matplotlib`. Para poder usar as funções de plotagem em `matplotlib`, temos que instalá-lo e importá-lo."
   ]
  },
  {
   "cell_type": "markdown",
   "metadata": {},
   "source": [
    "#### Instalação de pacotes (Ubuntu) [CodeAnywhere]\n",
    "\n",
    "Para poder utilizar os pacotes primeiro precisamos instalá-los. No Ubuntu, existem diversas maneiras de instalar pacotes, como por exemplo com apt-get ou o pip. Neste tutorial, vamos utilizar o apt-get. \n",
    "\n",
    "Antes de instalar qualquer pacote devemos atualizar o gerenciador de pacotes primeiro."
   ]
  },
  {
   "cell_type": "markdown",
   "metadata": {},
   "source": [
    "###### Instalação dos pacotes no Ubuntu (Terminal Shell)\n",
    "\n",
    "*Copie e cole a linha de comando abaixo em um terminal Ubuntu*\n",
    "\n",
    "`sudo apt-get update`\n",
    "\n",
    "*Em seguida, copie e cole as linhas abaixo para instalar os pacotes utilizados neste tutorial*\n",
    "\n",
    "`sudo apt-get -y install python-matplotlib`\n",
    "\n",
    "`sudo apt-get -y install python-numpy`"
   ]
  },
  {
   "cell_type": "markdown",
   "metadata": {},
   "source": [
    "###### Importação de pacotes no Python Shell\n",
    "\n",
    "Vamos aprender várias maneiras diferentes de importar pacotes. Por enquanto, importamos a parte de plotagem de `matplotlib` e chamamos de` plt`. \n",
    "\n",
    "O segundo comando diz ao Python para mostrar qualquer gráfico dentro deste Notebook e não em uma janela separada (mais sobre esses comandos mais tarde)."
   ]
  },
  {
   "cell_type": "code",
   "execution_count": 4,
   "metadata": {},
   "outputs": [],
   "source": [
    "import matplotlib.pyplot as plt\n",
    "\n",
    "#Você não precisa digitar o comando abaixo. O comando informa ao Jupyter para imprimir os gráficos nesta página\n",
    "%matplotlib inline"
   ]
  },
  {
   "cell_type": "markdown",
   "metadata": {},
   "source": [
    "Os pacotes só precisam ser importados uma vez em uma sessão do Python. Após a importação, qualquer função de plotagem pode ser chamada de qualquer célula de código utilizando a sintaxe `plt.<<nome-da-função>>`. No exemplo a seguir, a função utilizada é `plot`"
   ]
  },
  {
   "cell_type": "code",
   "execution_count": null,
   "metadata": {},
   "outputs": [],
   "source": [
    "plt.plot([1, 2, 3, 2])"
   ]
  },
  {
   "cell_type": "markdown",
   "metadata": {},
   "source": [
    "Vamos tentar plotar $ y $ x $ x $ por $ x $ indo de $ -4 $ a $ 4 $ para o polinômio do exercício acima. Para isso, precisamos avaliar $ y $ em vários pontos. Uma seqüência de valores do mesmo tipo é chamada de vetor (em inglês, array) (por exemplo, um array de inteiros ou frações). Lembre que inteiros são conhecidos em inglês em como integers e frações como float.\n",
    "\n",
    "O pacote `numpy` contém diversas funcionalidades para arrays. Vamos importar `numpy` e chamá-lo de` np`. Assim, qualquer função no pacote `numpy` possa ser chamada de` np.<<nome-da-função>>`."
   ]
  },
  {
   "cell_type": "code",
   "execution_count": 1,
   "metadata": {},
   "outputs": [],
   "source": [
    "import numpy as np"
   ]
  },
  {
   "cell_type": "markdown",
   "metadata": {},
   "source": [
    "Para criar um array `x` consistindo de, por exemplo, 5 pontos igualmente espaçados entre` -4` e `4`, use o comando` linspace`"
   ]
  },
  {
   "cell_type": "code",
   "execution_count": 2,
   "metadata": {},
   "outputs": [
    {
     "name": "stdout",
     "output_type": "stream",
     "text": [
      "[-4. -2.  0.  2.  4.]\n"
     ]
    }
   ],
   "source": [
    "x = np.linspace(-4, 4, 5)\n",
    "print(x)"
   ]
  },
  {
   "cell_type": "markdown",
   "metadata": {},
   "source": [
    "Na célula acima, `x` é um array de 5 floats. Note que o ponto após o número o torna um float. Por exemplo, `-4.` é um float, ao passo que `-4` é um inteiro). Se você digitar `np.linspace` e depois um parêntese de abertura como:\n",
    "\n",
    "`np.linspace(`\n",
    "\n",
    "e depois apertar [shift-tab], uma pequena caixa de ajuda aparece para explicar os argumentos de entrada da função. Ao clicar no sinal +, você pode percorrer toda a documentação da função `linspace`. Clique no sinal x para remover a caixa de ajuda. Vamos plotar $y$ usando valores de 100 $x$\n",
    "de $-4$ a $4$."
   ]
  },
  {
   "cell_type": "code",
   "execution_count": 10,
   "metadata": {},
   "outputs": [
    {
     "data": {
      "text/plain": [
       "[<matplotlib.lines.Line2D at 0x7f0146bbcf60>]"
      ]
     },
     "execution_count": 10,
     "metadata": {},
     "output_type": "execute_result"
    },
    {
     "data": {
      "image/png": "[encoded data removed]",
      "text/plain": [
       "<matplotlib.figure.Figure at 0x7f0146c24940>"
      ]
     },
     "metadata": {},
     "output_type": "display_data"
    }
   ],
   "source": [
    "a = 1\n",
    "b = 1\n",
    "c = -6\n",
    "x = np.linspace(-4, 4, 100)\n",
    "y = a * x ** 2 + b * x + c  # Calcule y para todos os valores de x\n",
    "plt.plot(x, y)"
   ]
  },
  {
   "cell_type": "markdown",
   "metadata": {},
   "source": [
    "Note que *cem* valores de `y` são computados em uma simples linha `y = a * x ** 2 + b * x + c`. O texto depois do `#` é um comentário no código. Qualquer texto na linha após o `#` é ignorado pelo Python. \n",
    "\n",
    "O Python trata arrays da mesma maneira que trata as variáveis 'normais' quando se executa operações matemáticas. A matemática é simplesmente aplicada a todos os valores do array (e é executada muito mais rapidamente do que quando você faria todos os cálculos separadamente).\n",
    "\n",
    "Você pode se perguntar o que é `[<matplotlib.lines.Line2D at 0x30990b0>]` (os números em sua máquina podem ser diferentes). Este é um identificador para a linha que é criada com o último comando no bloco de código (neste caso, `plt.plot(x, y)`). Você pode dizer ao Notebook para não imprimí-lo na tela colocando um ponto-e-vírgula após o último comando no bloco de código (então digite `plot(x, y);`). Mais tarde, aprenderemos que também pode ser útil armazenar esse identificador em uma variável."
   ]
  },
  {
   "cell_type": "markdown",
   "metadata": {},
   "source": [
    "A função `plot` aceita vários argumentos. A caixa de ajuda da função `plot` (digite `plt.plot(`e depois shift-tab) oferece muitas dicas. Ao digitar `plt.plot?`, uma subjanela aparece na parte inferior da tela do Notebook, mostrando a documentação sobre a função `plot`. Clique no x no canto superior direito para fechar a subjanela."
   ]
  },
  {
   "cell_type": "markdown",
   "metadata": {},
   "source": [
    "Em resumo, a função `plot` pode ser usada com um único argumento, como em `plot(y)`, o que plota os valores de `y` ao longo do eixo vertical e enumera o eixo horizontal iniciando em 0. `plot(x, y)` plota `y` vs` x`, e `plot(x, y, formatstring)` plota `y` vs `x` usando cores e marcadores definidos em `formatstring`, o que pode ser um monte de coisas. \n",
    "\n",
    "Por exemplo, `formatstring` pode ser usada para definir a cor, por exemplo, `'b'` para azul, `'r'` para vermelho e `'g'` para verde. Ou ainda, pode ser usada para definir o tipo de linha `'-'` para a linha,`'-'` para tracejado, `':'` para pontos. Ou você pode definir marcadores, por exemplo, `'o'` para círculos, e `'s'` para quadrados. Você pode até combiná-los: `'r -'` fornece uma linha tracejada vermelha, enquanto `'go'` fornece marcadores circulares verdes."
   ]
  },
  {
   "cell_type": "markdown",
   "metadata": {},
   "source": [
    "Se isso não for suficiente, a função `plot` aceita uma grande quantidade de argumentos nomeados. Um argumento nomeado é um argumento opcional que pode ser adicionado a uma função. Argumentos nomeados também são conhecidos como argumentos chave-valor.\n",
    "\n",
    "A sintaxe é `função(chave1 = valor1, chave2 = valor2)` e etc. Por exemplo, para plotar uma linha com largura 6 (o padrão é 1; observe também o ponto e vírgula no final)"
   ]
  },
  {
   "cell_type": "code",
   "execution_count": null,
   "metadata": {},
   "outputs": [],
   "source": [
    "plt.plot([1, 2, 3], [2, 4, 3], linewidth=6);"
   ]
  },
  {
   "cell_type": "markdown",
   "metadata": {},
   "source": [
    "Argumentos nominais devem vir depois dos argumentos posicionais.  Por exemplo, o comando `plot(linewidth = 6, [1, 2, 3], [2, 4, 3])` resulta em erro."
   ]
  },
  {
   "cell_type": "markdown",
   "metadata": {},
   "source": [
    "Nomes podem ser adicionados nos eixos com as funções `xlabel` e `ylabel`, como por exemplo `plt.xlabel('este é o eixo-x')`. Note que ambas as funções usam uma string como argumento. \n",
    "\n",
    "Um título pode ser adicionado à figura com a função `plt.title`. Outras curvas podem ser adicionadas a uma mesma figura, se executarmos vários comandos de plotagem. A inclusão na mesma figura é automática."
   ]
  },
  {
   "cell_type": "markdown",
   "metadata": {},
   "source": [
    "### <a name=\"ex2\"> </a> Exercício 2, Primeiro gráfico\n",
    "Plotar $y = (x + 2) (x-1) (x-2)$ por $x$ indo de $-3$ a $3$ usando uma linha vermelha tracejada. Na mesma figura, plote um círculo azul para cada ponto em que $y$ é igual a zero. Defina o tamanho dos marcadores para 10 (você pode precisar ler a ajuda de `plt.plot` para descobrir como fazer isso). Rotule os eixos como 'eixo x' e 'eixo y'. Adicione o título \"Primeira figura de seu-nome em Python\", onde você digita seu próprio nome."
   ]
  },
  {
   "cell_type": "code",
   "execution_count": null,
   "metadata": {},
   "outputs": [],
   "source": []
  },
  {
   "cell_type": "markdown",
   "metadata": {},
   "source": [
    "<a href=\"#ex2answer\">Resposta do Exercício 2</a>"
   ]
  },
  {
   "cell_type": "markdown",
   "metadata": {},
   "source": [
    "### Lendo arquivos\n",
    "\n",
    "Podemos ler dados em arquivos-texto usando a função `np.loadtxt` de `numpy`. Você precisa ter certeza de que o arquivo está no mesmo diretório do seu notebook ou fornecer o caminho completo. O nome do arquivo (ou caminho mais nome do arquivo) precisa estar entre aspas."
   ]
  },
  {
   "cell_type": "markdown",
   "metadata": {},
   "source": [
    "### <a name=\"ex3\"></a> Exercício 3, Lendo dados e adicionando uma legenda\n",
    "\n",
    "\n",
    "Você recebe os arquivos de dados que contêm a temperatura média da Holanda, Nova York e Pequim. Os dados holandeses são armazenados em `holanda-temperatura` e os outros nomes de arquivos são semelhantes. Plote a temperatura para cada local em relação ao número do mês (começando com 1 para janeiro) em um único gráfico. Adicione uma legenda usando a função `plt.legend(['line1', 'line2'])`, etc., mas com nomes mais descritivos. Saiba mais sobre o comando `legend` usando `plt.legend?`. Coloque a legenda em um local apropriado (o canto superior esquerdo pode ser bom ou deixe o Python descobrir o melhor lugar)."
   ]
  },
  {
   "cell_type": "code",
   "execution_count": null,
   "metadata": {},
   "outputs": [],
   "source": []
  },
  {
   "cell_type": "markdown",
   "metadata": {},
   "source": [
    "<a href=\"#ex3answer\">Resposta do Exercício 3</a>"
   ]
  },
  {
   "cell_type": "markdown",
   "metadata": {},
   "source": [
    "### <a name=\"ex4\"></a> Exercício 4, Subplots e marcadores\n",
    "Leia a temperatura média mensal do ar e a temperatura da água do mar para a Holanda. Plote dois gráficos (um em cima do outro) usando o comando subplot (use `plt.subplot?`). No gráfico superior, trace a temperatura do ar e do mar. Rotule os meses no eixo horizontal como 'jan', 'fev', 'mar' etc., em vez de 0,1,2 etc. Use `plt.xticks?` Para descobrir como. No gráfico inferior, trace a diferença entre a temperatura do ar e da água do mar. Adicione legendas, rótulos de eixos e o resto."
   ]
  },
  {
   "cell_type": "code",
   "execution_count": null,
   "metadata": {},
   "outputs": [],
   "source": []
  },
  {
   "cell_type": "markdown",
   "metadata": {},
   "source": [
    "<a href=\"#ex4answer\">Resposta do Exercício 4</a>"
   ]
  },
  {
   "cell_type": "markdown",
   "metadata": {},
   "source": [
    "### Galeria de gráficos\n",
    "O pacote de plotagem `matplotlib` nos auxilia a fazer gráficos. Confira a <A href=\"http://matplotlib.org/gallery.html\" target=_blank> galeria do matplotlib </A> para obter uma visão geral das opções disponíveis. Os seguintes exercícios foram feitos para explorar algumas dessas opções do matplotlib.\n",
    "\n",
    "### <a name=\"ex5\"> </a> Exercício 5, gráfico de pizza\n",
    "Nas Olimpíadas de Londres de 2012, os dez principais países (mais o restante) que receberam medalhas de ouro foram `['USA','CHN','GBR','RUS','KOR','GER','FRA','ITA','HUN','AUS','OTHER']`. Eles receberam `[46, 38, 29, 24, 13, 11, 11, 8, 8, 7, 107]` medalhas de ouro respectivamente. Faça um gráfico de pizza (digite `plt.pie?` Ou vá para os gráficos de pizza na galeria matplotlib) dos 10 vencedores de medalhas de ouro mais os outros nas Olimpíadas de Londres. Tente o comando `plt.axis('equal')` para deixar as escalas dos eixos horizontal e vertical iguais para que a 'pizza' fique como um círculo em vez de uma elipse. \n",
    "\n",
    "Existem quatro maneiras de especificar cores no matplotlib; você pode ler sobre elas [aqui] (http://matplotlib.org/examples/pylab_examples/color_demo.html). A mais legal é usar os nomes de cores html. Utilize o atributo `colors` em seu gráfico de pizza para especificar uma sequência de cores. A sequência deve estar entre colchetes, com cada cor entre aspas preservando maiúsculas e minúsculas, e elas devem ser separadas por vírgula como `['MediumBlue', 'SpringGreen', 'BlueViolet']`; a sequência é repetida se não for longa o suficiente. Os nomes em html para as cores podem ser encontrados, por exemplo, [aqui] (http://en.wikipedia.org/wiki/Web_colors)."
   ]
  },
  {
   "cell_type": "code",
   "execution_count": null,
   "metadata": {},
   "outputs": [],
   "source": []
  },
  {
   "cell_type": "markdown",
   "metadata": {},
   "source": [
    "<a href=\"#ex5answer\">Resposta do Exercício 5</a>"
   ]
  },
  {
   "cell_type": "markdown",
   "metadata": {},
   "source": [
    "### <a name=\"ex6\"></a> Exercício 6, Fill between\n",
    "Leia a temperatura do ar e do mar, como no Exercício 4, mas desta vez faça um gráfico de temperatura pelo número do mês e use o comando `plt.fill_between` para preencher o espaço entre a curva e o eixo $x$. Especifique a palavra-chave `alpha`, que define a transparência. Utilize a tentativa e erro para achar um bom valor para alpha (fique entre 0 e 1). Você vai precisar especificar a cor usando o argumento de palavra `color`."
   ]
  },
  {
   "cell_type": "code",
   "execution_count": null,
   "metadata": {},
   "outputs": [],
   "source": []
  },
  {
   "cell_type": "markdown",
   "metadata": {},
   "source": [
    "<a href=\"#ex6answer\">Resposta do Exercício 6</a>"
   ]
  },
  {
   "cell_type": "markdown",
   "metadata": {},
   "source": [
    "### Respostas dos exercícios"
   ]
  },
  {
   "cell_type": "markdown",
   "metadata": {},
   "source": [
    "<a name=\"ex1answer\">Resposta do Exercício 1</a>"
   ]
  },
  {
   "cell_type": "code",
   "execution_count": null,
   "metadata": {},
   "outputs": [],
   "source": [
    "a = 1\n",
    "b = 1\n",
    "c = -6\n",
    "x = -2\n",
    "y = a * x ** 2 + b * x + c\n",
    "print('y para x=-2 eh', y)\n",
    "x = 0 \n",
    "y = a * x ** 2 + b * x + c\n",
    "print('y para x=0 eh', y)\n",
    "x = 2\n",
    "y = a * x ** 2 + b * x + c\n",
    "print('y para x=2 eh', y)"
   ]
  },
  {
   "cell_type": "markdown",
   "metadata": {},
   "source": [
    "<a href=\"#ex1\">Voltar para o Exercício 1</a>\n",
    "\n",
    "<a name=\"ex2answer\">Resposta do Exercício 2</a>"
   ]
  },
  {
   "cell_type": "code",
   "execution_count": 9,
   "metadata": {},
   "outputs": [
    {
     "data": {
      "image/png": "[encoded data removed]",
      "text/plain": [
       "<matplotlib.figure.Figure at 0x7f0146c1d048>"
      ]
     },
     "metadata": {},
     "output_type": "display_data"
    }
   ],
   "source": [
    "x = np.linspace(-3, 3, 5)\n",
    "y = (x + 2) * (x - 1) * (x - 2)\n",
    "plt.plot(x, y, 'r--')\n",
    "plt.plot([0, 0, 0], [-2, 1, 2], 'bo', markersize=10)\n",
    "plt.xlabel('eixo x')\n",
    "plt.ylabel('eixo y')\n",
    "plt.title('Primeira figura Python');"
   ]
  },
  {
   "cell_type": "markdown",
   "metadata": {},
   "source": [
    "<a href=\"#ex2\">Voltar para o Exercício 2</a>\n",
    "\n",
    "<a name=\"ex3answer\">Resposta do Exercício 3</a>"
   ]
  },
  {
   "cell_type": "code",
   "execution_count": null,
   "metadata": {},
   "outputs": [],
   "source": [
    "holanda = np.loadtxt('holanda-temperatura.tsv', delimiter=\"\\t\")\n",
    "novayork = np.loadtxt('novayork-temperatura.tsv', delimiter=\"\\t\")\n",
    "pequim = np.loadtxt('pequim-temperatura.tsv', delimiter=\"\\t\")\n",
    "plt.plot(np.linspace(1, 12, 12), holanda)\n",
    "plt.plot(np.linspace(1, 12, 12), novayork)\n",
    "plt.plot(np.linspace(1, 12, 12), pequim)\n",
    "plt.xlabel('Número do mês')\n",
    "plt.ylabel('Média da temperatura mensal (Celsius)')\n",
    "plt.xlim(1, 12)\n",
    "plt.legend(['Holanda','Nova York','Pequim'], loc='best');"
   ]
  },
  {
   "cell_type": "markdown",
   "metadata": {},
   "source": [
    "<a href=\"#ex3\">Voltar para o Exercício 3</a>\n",
    "\n",
    "<a name=\"ex4answer\">Resposta do Exercício 4</a>"
   ]
  },
  {
   "cell_type": "code",
   "execution_count": null,
   "metadata": {},
   "outputs": [],
   "source": [
    "air = np.loadtxt('holanda-temperatura.tsv', delimiter=\"\\t\") \n",
    "sea = np.loadtxt('holanda-agua-mar.tsv', delimiter=\"\\t\")\n",
    "plt.subplot(211)\n",
    "plt.plot(air, 'b', label='temp ar')\n",
    "plt.plot(sea, 'r', label='temp mar')\n",
    "plt.legend(loc='best')\n",
    "plt.ylabel('temp (Celsius)')\n",
    "plt.xlim(0, 11)\n",
    "plt.xticks([])\n",
    "plt.subplot(212)\n",
    "plt.plot(air-sea, 'ko')\n",
    "plt.xticks(np.linspace(0, 11, 12),\n",
    "           ['jan', 'fev', 'mar', 'abr','mai', 'jun', 'jul', 'ago', 'set', ' out', 'nov', 'dez'])\n",
    "plt.xlim(0, 11)\n",
    "plt.ylabel('ar - temp mar (Celsius)');"
   ]
  },
  {
   "cell_type": "markdown",
   "metadata": {},
   "source": [
    "<a href=\"#ex4\">Voltar para o Exercício 4</a>\n",
    "\n",
    "<a name=\"ex5answer\">Resposta do Exercício 5</a>"
   ]
  },
  {
   "cell_type": "code",
   "execution_count": null,
   "metadata": {},
   "outputs": [],
   "source": [
    "gold = [46, 38, 29, 24, 13, 11, 11, 8, 8, 7, 107]\n",
    "countries = ['USA', 'CHN', 'GBR', 'RUS', 'KOR', 'GER', 'FRA', 'ITA', 'HUN', 'AUS', 'OTHER']\n",
    "plt.pie(gold, labels = countries, colors = ['Gold', 'MediumBlue', 'SpringGreen', 'BlueViolet'])\n",
    "plt.axis('equal');"
   ]
  },
  {
   "cell_type": "markdown",
   "metadata": {},
   "source": [
    "<a href=\"#ex5\">Voltar para o Exercício 5</a>\n",
    "\n",
    "<a name=\"ex6answer\">Resposta do Exercício 6</a>"
   ]
  },
  {
   "cell_type": "code",
   "execution_count": 5,
   "metadata": {},
   "outputs": [
    {
     "ename": "ValueError",
     "evalue": "operands could not be broadcast together with shapes (12,) (13,) ",
     "output_type": "error",
     "traceback": [
      "\u001b[0;31m---------------------------------------------------------------------------\u001b[0m",
      "\u001b[0;31mValueError\u001b[0m                                Traceback (most recent call last)",
      "\u001b[0;32m<ipython-input-5-84c2821fb92e>\u001b[0m in \u001b[0;36m<module>\u001b[0;34m()\u001b[0m\n\u001b[1;32m      2\u001b[0m \u001b[0msea\u001b[0m \u001b[0;34m=\u001b[0m \u001b[0mnp\u001b[0m\u001b[0;34m.\u001b[0m\u001b[0mloadtxt\u001b[0m\u001b[0;34m(\u001b[0m\u001b[0;34m'holanda-agua-mar.tsv'\u001b[0m\u001b[0;34m,\u001b[0m \u001b[0mdelimiter\u001b[0m\u001b[0;34m=\u001b[0m\u001b[0;34m\"\\t\"\u001b[0m\u001b[0;34m)\u001b[0m\u001b[0;34m\u001b[0m\u001b[0m\n\u001b[1;32m      3\u001b[0m \u001b[0mplt\u001b[0m\u001b[0;34m.\u001b[0m\u001b[0mfill_between\u001b[0m\u001b[0;34m(\u001b[0m\u001b[0mrange\u001b[0m\u001b[0;34m(\u001b[0m\u001b[0;36m1\u001b[0m\u001b[0;34m,\u001b[0m \u001b[0;36m13\u001b[0m\u001b[0;34m)\u001b[0m\u001b[0;34m,\u001b[0m \u001b[0mair\u001b[0m\u001b[0;34m,\u001b[0m \u001b[0mcolor\u001b[0m\u001b[0;34m=\u001b[0m\u001b[0;34m'b'\u001b[0m\u001b[0;34m,\u001b[0m \u001b[0malpha\u001b[0m\u001b[0;34m=\u001b[0m\u001b[0;36m0.3\u001b[0m\u001b[0;34m)\u001b[0m\u001b[0;34m\u001b[0m\u001b[0m\n\u001b[0;32m----> 4\u001b[0;31m \u001b[0mplt\u001b[0m\u001b[0;34m.\u001b[0m\u001b[0mfill_between\u001b[0m\u001b[0;34m(\u001b[0m\u001b[0mrange\u001b[0m\u001b[0;34m(\u001b[0m\u001b[0;36m1\u001b[0m\u001b[0;34m,\u001b[0m \u001b[0;36m13\u001b[0m\u001b[0;34m)\u001b[0m\u001b[0;34m,\u001b[0m \u001b[0msea\u001b[0m\u001b[0;34m,\u001b[0m \u001b[0mcolor\u001b[0m\u001b[0;34m=\u001b[0m\u001b[0;34m'r'\u001b[0m\u001b[0;34m,\u001b[0m \u001b[0malpha\u001b[0m\u001b[0;34m=\u001b[0m\u001b[0;36m0.3\u001b[0m\u001b[0;34m)\u001b[0m\u001b[0;34m\u001b[0m\u001b[0m\n\u001b[0m\u001b[1;32m      5\u001b[0m \u001b[0mplt\u001b[0m\u001b[0;34m.\u001b[0m\u001b[0mxticks\u001b[0m\u001b[0;34m(\u001b[0m\u001b[0mnp\u001b[0m\u001b[0;34m.\u001b[0m\u001b[0mlinspace\u001b[0m\u001b[0;34m(\u001b[0m\u001b[0;36m0\u001b[0m\u001b[0;34m,\u001b[0m \u001b[0;36m11\u001b[0m\u001b[0;34m,\u001b[0m \u001b[0;36m12\u001b[0m\u001b[0;34m)\u001b[0m\u001b[0;34m,\u001b[0m \u001b[0;34m[\u001b[0m\u001b[0;34m'jan'\u001b[0m\u001b[0;34m,\u001b[0m \u001b[0;34m'fev'\u001b[0m\u001b[0;34m,\u001b[0m \u001b[0;34m'mar'\u001b[0m\u001b[0;34m,\u001b[0m \u001b[0;34m'abr'\u001b[0m\u001b[0;34m,\u001b[0m\u001b[0;34m'mai'\u001b[0m\u001b[0;34m,\u001b[0m \u001b[0;34m'jun'\u001b[0m\u001b[0;34m,\u001b[0m \u001b[0;34m'jul'\u001b[0m\u001b[0;34m,\u001b[0m \u001b[0;34m'ago'\u001b[0m\u001b[0;34m,\u001b[0m \u001b[0;34m'set'\u001b[0m\u001b[0;34m,\u001b[0m \u001b[0;34m' out'\u001b[0m\u001b[0;34m,\u001b[0m \u001b[0;34m'nov'\u001b[0m\u001b[0;34m,\u001b[0m \u001b[0;34m'dez'\u001b[0m\u001b[0;34m]\u001b[0m\u001b[0;34m)\u001b[0m\u001b[0;34m\u001b[0m\u001b[0m\n\u001b[1;32m      6\u001b[0m \u001b[0mplt\u001b[0m\u001b[0;34m.\u001b[0m\u001b[0mxlim\u001b[0m\u001b[0;34m(\u001b[0m\u001b[0;36m1\u001b[0m\u001b[0;34m,\u001b[0m \u001b[0;36m12\u001b[0m\u001b[0;34m)\u001b[0m\u001b[0;34m\u001b[0m\u001b[0m\n",
      "\u001b[0;32m~/anaconda3/lib/python3.6/site-packages/matplotlib/pyplot.py\u001b[0m in \u001b[0;36mfill_between\u001b[0;34m(x, y1, y2, where, interpolate, step, hold, data, **kwargs)\u001b[0m\n\u001b[1;32m   2942\u001b[0m         ret = ax.fill_between(x, y1, y2=y2, where=where,\n\u001b[1;32m   2943\u001b[0m                               \u001b[0minterpolate\u001b[0m\u001b[0;34m=\u001b[0m\u001b[0minterpolate\u001b[0m\u001b[0;34m,\u001b[0m \u001b[0mstep\u001b[0m\u001b[0;34m=\u001b[0m\u001b[0mstep\u001b[0m\u001b[0;34m,\u001b[0m \u001b[0mdata\u001b[0m\u001b[0;34m=\u001b[0m\u001b[0mdata\u001b[0m\u001b[0;34m,\u001b[0m\u001b[0;34m\u001b[0m\u001b[0m\n\u001b[0;32m-> 2944\u001b[0;31m                               **kwargs)\n\u001b[0m\u001b[1;32m   2945\u001b[0m     \u001b[0;32mfinally\u001b[0m\u001b[0;34m:\u001b[0m\u001b[0;34m\u001b[0m\u001b[0m\n\u001b[1;32m   2946\u001b[0m         \u001b[0max\u001b[0m\u001b[0;34m.\u001b[0m\u001b[0m_hold\u001b[0m \u001b[0;34m=\u001b[0m \u001b[0mwashold\u001b[0m\u001b[0;34m\u001b[0m\u001b[0m\n",
      "\u001b[0;32m~/anaconda3/lib/python3.6/site-packages/matplotlib/__init__.py\u001b[0m in \u001b[0;36minner\u001b[0;34m(ax, *args, **kwargs)\u001b[0m\n\u001b[1;32m   1715\u001b[0m                     warnings.warn(msg % (label_namer, func.__name__),\n\u001b[1;32m   1716\u001b[0m                                   RuntimeWarning, stacklevel=2)\n\u001b[0;32m-> 1717\u001b[0;31m             \u001b[0;32mreturn\u001b[0m \u001b[0mfunc\u001b[0m\u001b[0;34m(\u001b[0m\u001b[0max\u001b[0m\u001b[0;34m,\u001b[0m \u001b[0;34m*\u001b[0m\u001b[0margs\u001b[0m\u001b[0;34m,\u001b[0m \u001b[0;34m**\u001b[0m\u001b[0mkwargs\u001b[0m\u001b[0;34m)\u001b[0m\u001b[0;34m\u001b[0m\u001b[0m\n\u001b[0m\u001b[1;32m   1718\u001b[0m         \u001b[0mpre_doc\u001b[0m \u001b[0;34m=\u001b[0m \u001b[0minner\u001b[0m\u001b[0;34m.\u001b[0m\u001b[0m__doc__\u001b[0m\u001b[0;34m\u001b[0m\u001b[0m\n\u001b[1;32m   1719\u001b[0m         \u001b[0;32mif\u001b[0m \u001b[0mpre_doc\u001b[0m \u001b[0;32mis\u001b[0m \u001b[0;32mNone\u001b[0m\u001b[0;34m:\u001b[0m\u001b[0;34m\u001b[0m\u001b[0m\n",
      "\u001b[0;32m~/anaconda3/lib/python3.6/site-packages/matplotlib/axes/_axes.py\u001b[0m in \u001b[0;36mfill_between\u001b[0;34m(self, x, y1, y2, where, interpolate, step, **kwargs)\u001b[0m\n\u001b[1;32m   4779\u001b[0m             \u001b[0mwhere\u001b[0m \u001b[0;34m=\u001b[0m \u001b[0;32mTrue\u001b[0m\u001b[0;34m\u001b[0m\u001b[0m\n\u001b[1;32m   4780\u001b[0m         where = where & ~functools.reduce(np.logical_or,\n\u001b[0;32m-> 4781\u001b[0;31m                                           map(np.ma.getmask, [x, y1, y2]))\n\u001b[0m\u001b[1;32m   4782\u001b[0m \u001b[0;34m\u001b[0m\u001b[0m\n\u001b[1;32m   4783\u001b[0m         \u001b[0mx\u001b[0m\u001b[0;34m,\u001b[0m \u001b[0my1\u001b[0m\u001b[0;34m,\u001b[0m \u001b[0my2\u001b[0m \u001b[0;34m=\u001b[0m \u001b[0mnp\u001b[0m\u001b[0;34m.\u001b[0m\u001b[0mbroadcast_arrays\u001b[0m\u001b[0;34m(\u001b[0m\u001b[0mnp\u001b[0m\u001b[0;34m.\u001b[0m\u001b[0matleast_1d\u001b[0m\u001b[0;34m(\u001b[0m\u001b[0mx\u001b[0m\u001b[0;34m)\u001b[0m\u001b[0;34m,\u001b[0m \u001b[0my1\u001b[0m\u001b[0;34m,\u001b[0m \u001b[0my2\u001b[0m\u001b[0;34m)\u001b[0m\u001b[0;34m\u001b[0m\u001b[0m\n",
      "\u001b[0;31mValueError\u001b[0m: operands could not be broadcast together with shapes (12,) (13,) "
     ]
    },
    {
     "data": {
      "image/png": "[encoded data removed]",
      "text/plain": [
       "<matplotlib.figure.Figure at 0x7f014f3fd710>"
      ]
     },
     "metadata": {},
     "output_type": "display_data"
    }
   ],
   "source": [
    "air = np.loadtxt('holanda-temperatura.tsv', delimiter=\"\\t\") \n",
    "sea = np.loadtxt('holanda-agua-mar.tsv', delimiter=\"\\t\")\n",
    "plt.fill_between(range(1, 13), air, color='b', alpha=0.3)\n",
    "plt.fill_between(range(1, 13), sea, color='r', alpha=0.3)\n",
    "plt.xticks(np.linspace(0, 11, 12), ['jan', 'fev', 'mar', 'abr','mai', 'jun', 'jul', 'ago', 'set', ' out', 'nov', 'dez'])\n",
    "plt.xlim(1, 12)\n",
    "plt.ylim(0, 20)\n",
    "plt.xlabel('Mês')\n",
    "plt.ylabel('Temperatura (Celsius)');"
   ]
  },
  {
   "cell_type": "markdown",
   "metadata": {},
   "source": [
    "<a href=\"#ex6\">Volte ao Exercício 6</a>"
   ]
  }
 ],
 "metadata": {
  "anaconda-cloud": {},
  "kernelspec": {
   "display_name": "Python 2",
   "language": "python",
   "name": "python2"
  },
  "language_info": {
   "codemirror_mode": {
    "name": "ipython",
    "version": 3
   },
   "file_extension": ".py",
   "mimetype": "text/x-python",
   "name": "python",
   "nbconvert_exporter": "python",
   "pygments_lexer": "ipython3",
   "version": "3.6.4"
  }
 },
 "nbformat": 4,
 "nbformat_minor": 1
}
