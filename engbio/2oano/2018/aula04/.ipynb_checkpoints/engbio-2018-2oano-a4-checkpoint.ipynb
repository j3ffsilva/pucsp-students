{
 "cells": [
  {
   "cell_type": "markdown",
   "metadata": {},
   "source": [
    "<figure>\n",
    "  <IMG SRC=\"http://www.pucsp.br/sites/default/files/download/brasao-PUCSP-assinatura-principal-RGB.png\" WIDTH=75 ALIGN=\"right\">\n",
    "</figure>\n",
    "\n",
    "# Arrays\n",
    "## (Revisão) e muito mais\n"
   ]
  },
  {
   "cell_type": "markdown",
   "metadata": {},
   "source": [
    "## Notebook 2: Arrays\n",
    "\n",
    "Neste notebook, vamos fazer operações matemáticas com arrays usando funções do pacote `numpy`. Uma visão geral da funcionalidade `numpy` pode ser encontrada [aqui](http://wiki.scipy.org/Tentative_NumPy_Tutorial). Então, começamos importando a parte de plotagem do pacote `matplotlib`, chamamos de `plt` e importamos o pacote `numpy` denominando de `np`. Também dizemos ao Python para colocar todos os gráficos em linha. Nós vamos adicionar estas três linhas no topo de todos os próximos notebooks, pois estaremos sempre usando `numpy` e` matplotlib`."
   ]
  },
  {
   "cell_type": "code",
   "execution_count": 1,
   "metadata": {},
   "outputs": [],
   "source": [
    "import matplotlib.pyplot as plt\n",
    "import numpy as np\n",
    "%matplotlib inline"
   ]
  },
  {
   "cell_type": "markdown",
   "metadata": {},
   "source": [
    "### Arrays unidimensionais\n",
    "Existem muitas maneiras de criar arrays. Por exemplo, você pode inserir elementos individuais de uma array."
   ]
  },
  {
   "cell_type": "code",
   "execution_count": 3,
   "metadata": {},
   "outputs": [
    {
     "data": {
      "text/plain": [
       "array([ 1,  7,  2, 12])"
      ]
     },
     "execution_count": 3,
     "metadata": {},
     "output_type": "execute_result"
    }
   ],
   "source": [
    "np.array([1, 7, 2, 12])"
   ]
  },
  {
   "cell_type": "markdown",
   "metadata": {},
   "source": [
    "Note que a função `array` recebe uma sequência de pontos entre colchetes.\n",
    "Outra função para criar array é `ones (shape)`, que cria um array de `shape` especifica preenchida com o valor $1$.\n",
    "Existe uma função análoga `zeros (shape)` para criar um array desejado com o valor 0 (que também pode ser obtido com `0 * one(shape)`). Ao lado da função `linspace` já mencionada, há a função `arange (start, end, step)`, que cria um array iniciando em `start`, executando passos iguais a `step` e parando antes de atingir o `end`. Se você não especificar o `step`,\n",
    "ele é definido como igual a $1$. Se você especificar apenas um valor de entrada, ele retornará uma sequência começando em $0$ e incrementando em $1$ até que o valor especificado seja atingido (mas, novamente, ele irá parar antes de atingir esse valor)."
   ]
  },
  {
   "cell_type": "code",
   "execution_count": 5,
   "metadata": {},
   "outputs": [
    {
     "name": "stdout",
     "output_type": "stream",
     "text": [
      "[1 2 3 4 5 6]\n",
      "[0 1 2 3 4]\n",
      "[1 3 5]\n"
     ]
    }
   ],
   "source": [
    "print(np.arange(1, 7)) # Define o step como 1 e não inclui o 7\n",
    "print(np.arange(5)) # Inicia no 0 e termina no 4, gerando 5 números\n",
    "print(np.arange(1, 7, 2))"
   ]
  },
  {
   "cell_type": "markdown",
   "metadata": {},
   "source": [
    "Lembre-se de que os comentários em Python são precedidos por um `#`. Array apresentam dimensões. Até agora, usamos apenas arrays unidimensionais. Portanto, a dimensão é $1$. Para matrizes unidimensionais, você também pode calcular o comprimento (que é parte do Python e não do numpy), retornando o número de valores do array."
   ]
  },
  {
   "cell_type": "code",
   "execution_count": 6,
   "metadata": {},
   "outputs": [
    {
     "name": "stdout",
     "output_type": "stream",
     "text": [
      "('number of dimensions of x:', 1)\n",
      "('length of x:', 4)\n"
     ]
    }
   ],
   "source": [
    "x = np.array([1, 7, 2, 12])\n",
    "print('number of dimensions of x:', np.ndim(x))\n",
    "print('length of x:', len(x))"
   ]
  },
  {
   "cell_type": "markdown",
   "metadata": {},
   "source": [
    "Os elementos individuais do array podem ser acessados com seu índice. O primeiro valor do array tem índice `0`. O índice do array é especificado usando colchetes."
   ]
  },
  {
   "cell_type": "code",
   "execution_count": 7,
   "metadata": {},
   "outputs": [
    {
     "name": "stdout",
     "output_type": "stream",
     "text": [
      "[20 21 22 23 24 25 26 27 28 29]\n",
      "20\n",
      "25\n"
     ]
    }
   ],
   "source": [
    "x = np.arange(20, 30)\n",
    "print(x)\n",
    "print(x[0])\n",
    "print(x[5])"
   ]
  },
  {
   "cell_type": "markdown",
   "metadata": {},
   "source": [
    "Um intervalo de índices pode ser especificado usando a sintaxe:\n",
    "`x[start:end_before]` ou `x[start:end_before:step]`. Se o início não for especificado, `0` será usado. Se o `step` não for especificado, o `1` será usado."
   ]
  },
  {
   "cell_type": "code",
   "execution_count": 12,
   "metadata": {},
   "outputs": [
    {
     "name": "stdout",
     "output_type": "stream",
     "text": [
      "[20 21 22 23 24 25 26 27 28 29]\n",
      "[20 21 22 23 24]\n",
      "[20 21 22 23 24]\n",
      "[23 24 25 26]\n",
      "[22 24 26 28]\n",
      "[22 23 24 25 26 27 28 29]\n"
     ]
    }
   ],
   "source": [
    "x = np.arange(20, 30)\n",
    "print(x)\n",
    "print(x[0:5])\n",
    "print(x[:5]) # o mesmo que o anterior\n",
    "print(x[3:7])\n",
    "print(x[2:9:2]) # step é 2\n",
    "print(x[2:])"
   ]
  },
  {
   "cell_type": "markdown",
   "metadata": {},
   "source": [
    "Você também pode começar a contagem do final. Geralmente, o índice final não é conhecido. Você pode descobrir o último valor digitando `x[len(x) -1]`, mas seria inconveniente ter que digitar `len(arrayname)` o tempo todo. Felizmente, existe um atalho: `x[-1]` que se refere ao último valor do array. Por exemplo:"
   ]
  },
  {
   "cell_type": "code",
   "execution_count": 15,
   "metadata": {},
   "outputs": [
    {
     "name": "stdout",
     "output_type": "stream",
     "text": [
      "[ 0 10 20 30 40 50 60 70 80 90]\n",
      "90\n",
      "90\n",
      "[90 80 70 60 50 40 30 20 10  0]\n"
     ]
    }
   ],
   "source": [
    "xvalues = np.arange(0, 100, 10)\n",
    "print(xvalues)\n",
    "print(xvalues[len(xvalues) - 1])  # último valor do array\n",
    "print(xvalues[-1])  # atalho\n",
    "print(xvalues[-1::-1])  # inicia último valor do array com step de -1"
   ]
  },
  {
   "cell_type": "markdown",
   "metadata": {},
   "source": [
    "Você pode atribuir um valor a um intervalo de um array, especificando um intervalo de índices, ou pode atribuir um array a um intervalo de outro array, desde que os intervalos tenham tamanho igual. No exemplo abaixo, os primeiros $5$ valores de $x$ (especificados como $x$ $[0: 5]$) recebem os valores $[40,42,44,46,48]$."
   ]
  },
  {
   "cell_type": "code",
   "execution_count": 20,
   "metadata": {},
   "outputs": [
    {
     "name": "stdout",
     "output_type": "stream",
     "text": [
      "[20. 20. 20. 20. 20. 20. 20. 20. 20. 20.]\n",
      "[40. 40. 40. 40. 40. 20. 20. 20. 20. 20.]\n",
      "[40. 42. 44. 46. 48. 20. 20. 20. 20. 20.]\n"
     ]
    }
   ],
   "source": [
    "x = 20 * np.ones(10)\n",
    "print(x)\n",
    "x[0:5] = 40\n",
    "print(x)\n",
    "x[0:5] = np.arange(40, 50, 2)\n",
    "print(x)"
   ]
  },
  {
   "cell_type": "code",
   "execution_count": 18,
   "metadata": {},
   "outputs": [
    {
     "ename": "AttributeError",
     "evalue": "'module' object has no attribute 'twos'",
     "output_type": "error",
     "traceback": [
      "\u001b[0;31m---------------------------------------------------------------------------\u001b[0m",
      "\u001b[0;31mAttributeError\u001b[0m                            Traceback (most recent call last)",
      "\u001b[0;32m<ipython-input-18-31b5153cb8bd>\u001b[0m in \u001b[0;36m<module>\u001b[0;34m()\u001b[0m\n\u001b[0;32m----> 1\u001b[0;31m \u001b[0mnp\u001b[0m\u001b[0;34m.\u001b[0m\u001b[0mtwos\u001b[0m\u001b[0;34m(\u001b[0m\u001b[0;36m10\u001b[0m\u001b[0;34m)\u001b[0m\u001b[0;34m\u001b[0m\u001b[0m\n\u001b[0m",
      "\u001b[0;31mAttributeError\u001b[0m: 'module' object has no attribute 'twos'"
     ]
    }
   ],
   "source": []
  },
  {
   "cell_type": "markdown",
   "metadata": {},
   "source": [
    "### Exercício 1, <a name=\"back1\"> </a> Arrays e índices\n",
    "Crie um array de zeros com comprimento $20$. Altere os primeiros $5$ valores para $10$. Altere os próximos $10$ valores para uma sequência começando em $12$ e aumentando com passos de $2$ a $30$ - faça isso com um comando. Defina os $5$ valores finais como $30$. Plote o valor do array no eixo $y$ vs o índice da matriz no eixo $x$. Desenhe linhas tracejadas verticais em $x=4$ e $x=14$ (ou seja, a seção entre as linhas tracejadas é onde a linha aumenta de $10$ a $30$). Defina os valores mínimo e máximo do eixo $y$ para $8$ e $32$ usando o comando `ylim`."
   ]
  },
  {
   "cell_type": "code",
   "execution_count": null,
   "metadata": {},
   "outputs": [],
   "source": []
  },
  {
   "cell_type": "markdown",
   "metadata": {},
   "source": [
    "<a href=\"#ex1answer\">Answer for Exercise 1</a>"
   ]
  },
  {
   "cell_type": "markdown",
   "metadata": {},
   "source": [
    "### Arrays, Listas e  Tuplas\n",
    "Um array unidimensional é uma sequência de valores que você pode fazer operações matemáticas. Ao lado do array, o Python possui vários outros tipos de dados que podem armazenar uma seqüência de valores. O primeiro é chamado `lista` e é inserido entre colchetes. A segunda é uma tupla (você está certo, nome estranho) e é inserida entre parênteses. A diferença é que você pode alterar os valores de uma lista depois de criá-los e não pode fazer isso com uma tupla. Fora isso, por enquanto você só precisa lembrar que elas existem, e que você não pode fazer contas com listas ou tuplas. Quando você faz `2 * alist`, onde` alist` é uma lista, você não multiplica todos os valores em `alist` pelo número 2. O que acontece é que você cria uma nova lista que contém` alist` duas vezes. O mesmo vale para tuplas. Isso pode ser muito útil, mas não quando sua intenção é multiplicar todos os valores por 2. No exemplo abaixo, o primeiro valor em uma lista é modificado. Tente modificar um dos valores em \"btuple\" abaixo e você verá uma mensagem de erro:"
   ]
  },
  {
   "cell_type": "code",
   "execution_count": 67,
   "metadata": {},
   "outputs": [
    {
     "name": "stdout",
     "output_type": "stream",
     "text": [
      "('alist', [1, 2, 3])\n",
      "('btuple', (10, 20, 30))\n",
      "('modified alist', [7, 2, 3])\n",
      "[7, 2, 3, 7, 2, 3]\n"
     ]
    },
    {
     "ename": "TypeError",
     "evalue": "'tuple' object does not support item assignment",
     "output_type": "error",
     "traceback": [
      "\u001b[0;31m---------------------------------------------------------------------------\u001b[0m",
      "\u001b[0;31mTypeError\u001b[0m                                 Traceback (most recent call last)",
      "\u001b[0;32m<ipython-input-67-b955c9df3cf0>\u001b[0m in \u001b[0;36m<module>\u001b[0;34m()\u001b[0m\n\u001b[1;32m      7\u001b[0m \u001b[0malist\u001b[0m \u001b[0;34m=\u001b[0m \u001b[0;36m2\u001b[0m \u001b[0;34m*\u001b[0m \u001b[0malist\u001b[0m\u001b[0;34m\u001b[0m\u001b[0m\n\u001b[1;32m      8\u001b[0m \u001b[0;32mprint\u001b[0m \u001b[0;34m(\u001b[0m\u001b[0malist\u001b[0m\u001b[0;34m)\u001b[0m\u001b[0;34m\u001b[0m\u001b[0m\n\u001b[0;32m----> 9\u001b[0;31m \u001b[0mbtuple\u001b[0m\u001b[0;34m[\u001b[0m\u001b[0;36m0\u001b[0m\u001b[0;34m]\u001b[0m \u001b[0;34m=\u001b[0m \u001b[0;36m100\u001b[0m  \u001b[0;31m#a tentativa de motificar os valores de \"btuple\" gera uma mensagem de erro\u001b[0m\u001b[0;34m\u001b[0m\u001b[0m\n\u001b[0m\u001b[1;32m     10\u001b[0m \u001b[0;32mprint\u001b[0m \u001b[0;36m2\u001b[0m\u001b[0;34m*\u001b[0m\u001b[0malist\u001b[0m\u001b[0;34m\u001b[0m\u001b[0m\n",
      "\u001b[0;31mTypeError\u001b[0m: 'tuple' object does not support item assignment"
     ]
    }
   ],
   "source": [
    "alist = [1, 2, 3]\n",
    "print('alist', alist)\n",
    "btuple = (10, 20, 30)\n",
    "print('btuple', btuple)\n",
    "alist[0] = 7  # listas permitem alterar valores \n",
    "print('modified alist', alist)\n",
    "alist = 2 * alist\n",
    "print (alist)\n",
    "btuple[0] = 100  #a tentativa de motificar os valores de \"btuple\" gera uma mensagem de erro\n",
    "print 2*alist"
   ]
  },
  {
   "cell_type": "code",
   "execution_count": 65,
   "metadata": {},
   "outputs": [
    {
     "data": {
      "text/plain": [
       "2"
      ]
     },
     "execution_count": 65,
     "metadata": {},
     "output_type": "execute_result"
    }
   ],
   "source": [
    "a_list = [1,2,3,4]\n",
    "a_list[1]"
   ]
  },
  {
   "cell_type": "markdown",
   "metadata": {},
   "source": [
    "Listas e tuplas são tipos de dados versáteis no Python. Nós já usamos listas sem saber quando criamos nosso primeiro array com o array de comando $([1,7,2,12])$. O que fizemos foi dar à função array um argumento de entrada: a lista $[1,7,2,12]$ e a função array retorna um array unidimensional com esses valores. Listas e tuplas podem consistir em sequências de praticamente qualquer coisa, não apenas números. No exemplo dado abaixo, alist contém $5$ coisas: o inteiro $1$, o float $20$, a palavra python, uma array com os valores $1,2,3$, e, finalmente, a função `len`. Este último significa que alist [4] é na verdade a função len. Essa função pode ser chamada para determinar o comprimento de um array como mostrado abaixo. O último pode ser um pouco confuso, mas é um comportamento legal se você tomar o tempo para pensar sobre."
   ]
  },
  {
   "cell_type": "code",
   "execution_count": 68,
   "metadata": {},
   "outputs": [
    {
     "name": "stdout",
     "output_type": "stream",
     "text": [
      "[1, 20.0, 'python', array([1, 2, 3]), <built-in function len>]\n",
      "1\n",
      "python\n",
      "3\n"
     ]
    }
   ],
   "source": [
    "alist = [1, 20.0, 'python', np.array([1,2,3]), len]\n",
    "print(alist)\n",
    "print(alist[0])\n",
    "print(alist[2])\n",
    "print(alist[4](alist[3]))  # o mesmo que len(np.array([1,2,3]))"
   ]
  },
  {
   "cell_type": "markdown",
   "metadata": {},
   "source": [
    "### Arrays bidimensionais\n",
    "Arrays podem ter dimensões arbitrárias (desde que se encaixem na memória do seu computador). Vamos fazer uso frequente de arrays bidimensionais. Eles podem ser criados com qualquer uma das funções mencionadas, especificando o número de linhas e colunas do array. Observe que o número de linhas e colunas deve ser uma tupla (portanto, elas precisam estar entre parênteses), pois as funções esperam apenas um argumento de entrada, que pode ser um número ou uma tupla de vários números."
   ]
  },
  {
   "cell_type": "code",
   "execution_count": 70,
   "metadata": {},
   "outputs": [
    {
     "name": "stdout",
     "output_type": "stream",
     "text": [
      "[[1. 1. 1. 1.]\n",
      " [1. 1. 1. 1.]\n",
      " [1. 1. 1. 1.]\n",
      " [1. 1. 1. 1.]\n",
      " [1. 1. 1. 1.]\n",
      " [1. 1. 1. 1.]\n",
      " [1. 1. 1. 1.]\n",
      " [1. 1. 1. 1.]\n",
      " [1. 1. 1. 1.]\n",
      " [1. 1. 1. 1.]\n",
      " [1. 1. 1. 1.]\n",
      " [1. 1. 1. 1.]]\n"
     ]
    }
   ],
   "source": [
    "x = np.ones((12, 4)) # Um array de 3 linhas e 4 colunas\n",
    "print(x)"
   ]
  },
  {
   "cell_type": "markdown",
   "metadata": {},
   "source": [
    "Os arrays também podem ser definidos especificando todos os valores no array. A função `array` passa ser uma lista que separada em listas para cada linha do array. No exemplo abaixo, as linhas são inseridas em linhas diferentes. Isso pode facilitar a entrada do array, mas é necessário observar. Você pode alterar o tamanho de um array para qualquer forma usando a função `reshape`, desde que o número total de entradas não mude.\n"
   ]
  },
  {
   "cell_type": "code",
   "execution_count": 74,
   "metadata": {},
   "outputs": [
    {
     "name": "stdout",
     "output_type": "stream",
     "text": [
      "[[4 2 3 2]\n",
      " [2 4 3 1]\n",
      " [0 4 1 3]]\n",
      "[[4 2]\n",
      " [3 2]\n",
      " [2 4]\n",
      " [3 1]\n",
      " [0 4]\n",
      " [1 3]]\n",
      "[[4 2 3 2 2 4 3 1 0 4 1 3]]\n"
     ]
    }
   ],
   "source": [
    "x = np.array([[4, 2, 3, 2],\n",
    "              [2, 4, 3, 1],\n",
    "              [0, 4, 1, 3]])\n",
    "print(x)\n",
    "print(np.reshape(x, (6, 2)))  # 6 linhas, 2 colunas\n",
    "print(np.reshape(x, (1, 12)))  # 1 linhas, 12 colunas"
   ]
  },
  {
   "cell_type": "markdown",
   "metadata": {},
   "source": [
    "O índice de um array bidimensional é especificado por dois valores, primeiro o índice da linha e, em seguida, o índice da coluna."
   ]
  },
  {
   "cell_type": "code",
   "execution_count": 76,
   "metadata": {},
   "outputs": [
    {
     "name": "stdout",
     "output_type": "stream",
     "text": [
      "[[100.   0.   0.   0.   0.   0.   0.   0.]\n",
      " [  0.   0.   0.   0. 200. 200. 200. 200.]\n",
      " [  0.   0.   0.   0.   0. 400. 400. 400.]]\n"
     ]
    }
   ],
   "source": [
    "x = np.zeros((3, 8))\n",
    "x[0,0] = 100\n",
    "x[1,4:] = 200  # Linha com índice 1, da coluna 4 em diante\n",
    "x[2,-1:4:-1] = 400  # Linha com índice 2, coluna correpondente a contagem do final ao início até o índice 4\n",
    "print(x)"
   ]
  },
  {
   "cell_type": "markdown",
   "metadata": {},
   "source": [
    "### Arrays não são matrizes\n",
    "Agora que falamos sobre as linhas e colunas de uma matriz, o leitor orientado à matemática pode pensar que arrays são matrizes ou que arrays unidimensionais são vetores. É crucial entender que *arrays não são vetores ou matrizes*. A multiplicação e divisão de duas arrays é termo por termo"
   ]
  },
  {
   "cell_type": "code",
   "execution_count": 77,
   "metadata": {},
   "outputs": [
    {
     "name": "stdout",
     "output_type": "stream",
     "text": [
      "('array a:', array([ 4,  8, 12, 16]))\n",
      "('array b:', array([2, 2, 4, 4]))\n",
      "('a * b  :', array([ 8, 16, 48, 64]))\n",
      "('a / b  :', array([2, 4, 3, 4]))\n"
     ]
    }
   ],
   "source": [
    "a = np.arange(4, 20, 4)\n",
    "b = np.array([2, 2, 4, 4])\n",
    "print('array a:', a)\n",
    "print('array b:', b)\n",
    "print('a * b  :', a * b)  # a multiplicação é de termo por termo\n",
    "print('a / b  :', a / b)  # a divisão é de termo por termo"
   ]
  },
  {
   "cell_type": "markdown",
   "metadata": {},
   "source": [
    "### Exercise 2, <a name=\"back2\"></a> Índice de um array bidimensional\n",
    "Para o array `x` mostrado abaixo, escreva o código para imprimir:\n",
    "\n",
    "* a primeira linha de `x`\n",
    "* a primeira coluna de `x`\n",
    "* a terceira linha de `x`\n",
    "* as duas últimas colunas de `x`\n",
    "* os quatro valores no canto superior direito de `x`\n",
    "* os quatro valores no centro de `x`\n",
    "\n",
    "`x = np.array([[4, 2, 3, 2],\n",
    "              [2, 4, 3, 1],\n",
    "              [2, 4, 1, 3],\n",
    "              [4, 1, 2, 3]])`"
   ]
  },
  {
   "cell_type": "code",
   "execution_count": null,
   "metadata": {},
   "outputs": [],
   "source": []
  },
  {
   "cell_type": "markdown",
   "metadata": {},
   "source": [
    "<a href=\"#ex2answer\">Answer for Exercise 2</a>"
   ]
  },
  {
   "cell_type": "markdown",
   "metadata": {},
   "source": [
    "### Visualizando arrays bidimensionais\n",
    "Arrays bidimensionais podem ser visualizadas com a função plt.matshow. No exemplo abaixo, o array é muito pequeno (apenas $4$ por $4$), mas ilustra o princípio geral. Uma barra de cores é adicionada como uma legenda mostrando que o valor $1$ corresponde a azul escuro e o valor $4$ corresponde a vermelho escuro. Os ticks na barra de cores são especificados como $1$, $2$, $3$ e $4$. Observe que a primeira linha da array (com índice 0) é plotada na parte superior, o que corresponde à localização da primeira linha no array."
   ]
  },
  {
   "cell_type": "code",
   "execution_count": 79,
   "metadata": {},
   "outputs": [
    {
     "name": "stdout",
     "output_type": "stream",
     "text": [
      "[[8 4 6 2]\n",
      " [4 8 6 2]\n",
      " [4 8 2 6]\n",
      " [8 2 4 6]]\n"
     ]
    },
    {
     "data": {
      "image/png": "[encoded data removed]",
      "text/plain": [
       "<matplotlib.figure.Figure at 0x7f34204d3cd0>"
      ]
     },
     "metadata": {},
     "output_type": "display_data"
    }
   ],
   "source": [
    "x = np.array([[8, 4, 6, 2],\n",
    "              [4, 8, 6, 2],\n",
    "              [4, 8, 2, 6],\n",
    "              [8, 2, 4, 6]])\n",
    "plt.matshow(x)\n",
    "plt.colorbar(ticks=[2, 4, 6, 8])\n",
    "print(x)"
   ]
  },
  {
   "cell_type": "markdown",
   "metadata": {},
   "source": [
    "As cores usadas são o mapa de cores padrão (é chamado de jet), que mapeia o valor mais alto para vermelho, o valor mais baixo para azul e os números entre eles variam entre verde e amarelo. Se você quiser outras cores, você pode escolher um dos outros mapas de cores. Para descobrir todos os mapas de cores disponíveis, [clique aqui](http://matplotlib.org/examples/color/colormaps_reference.html). Para alterar o mapa de cores, você precisa importar a parte `cm` do pacote matplotlib, que contém todos os mapas de cores. Depois de importar o pacote do mapa de cores (que chamamos de abaixo de `cm`), você pode especificar qualquer um dos mapas de cores disponíveis com a palavra-chave cmap. Experimente alguns."
   ]
  },
  {
   "cell_type": "code",
   "execution_count": null,
   "metadata": {},
   "outputs": [],
   "source": [
    "import matplotlib.cm as cm\n",
    "plt.matshow(x, cmap=cm.rainbow)\n",
    "plt.colorbar(ticks=np.arange(2, 9, 2));"
   ]
  },
  {
   "cell_type": "markdown",
   "metadata": {},
   "source": [
    "## Exercício 3"
   ]
  },
  {
   "cell_type": "markdown",
   "metadata": {},
   "source": [
    "Crie uma array de tamanho $10$ por $10$. O quadrante superior esquerdo do array deve obter o valor $4$, o quadrante superior direito o valor $3$, o quadrante inferior direito o valor $2$ e o quadrante inferior esquerdo o valor $1$. Primeiro, crie um array de $10$ por $10$ usando o comando `zeros`, depois preencha cada quadrante especificando os intervalos de índices corretos. Observe que o primeiro índice é o número da linha. O segundo índice é executado da esquerda para a direita. Visualize o array usando o `matshow`. Ele deve dar uma caixa vermelha, amarela, azul clara e azul escura (no sentido dos ponteiros do relógio a partir da parte superior esquerda) quando você usa o mapa de cores padrão \"jet\"."
   ]
  },
  {
   "cell_type": "code",
   "execution_count": null,
   "metadata": {},
   "outputs": [],
   "source": []
  },
  {
   "cell_type": "markdown",
   "metadata": {},
   "source": [
    "<a href=\"#ex3answer\">Answer for Exercise 3</a>"
   ]
  },
  {
   "cell_type": "markdown",
   "metadata": {},
   "source": [
    "### Exercise 4, <a name=\"back4\"></a> Outro tipo de array\n",
    "Considere a imagem abaixo, ela mostra aproximadamente as letras TU. Você é solicitado a criar um array que represente o mesmo TU. Primeiro crie um array de zeros de $11$ linhas e $17$ colunas. Dê o valor de fundo $0$, a letra T valor $-1$ e a letra U valor $+1$. <a name=\"back4\"> </a>\n",
    "\n",
    "<img src= \"https://raw.githubusercontent.com/mbakker7/exploratory_computing_with_python/master/notebook2_arrays/tufig.png\" width=\"500px\" />"
   ]
  },
  {
   "cell_type": "code",
   "execution_count": null,
   "metadata": {},
   "outputs": [],
   "source": []
  },
  {
   "cell_type": "markdown",
   "metadata": {},
   "source": [
    "<a href=\"#ex4answer\">Answer to Exercise 4</a>"
   ]
  },
  {
   "cell_type": "markdown",
   "metadata": {},
   "source": [
    "### Utilizando condicionais em arrays\n",
    "Se você tiver uma variável, poderá verificar se seu valor é menor ou maior que um determinado valor. Isso é chamado de uma instrução *condicional*.\n",
    "Por exemplo:"
   ]
  },
  {
   "cell_type": "code",
   "execution_count": 1,
   "metadata": {},
   "outputs": [
    {
     "name": "stdout",
     "output_type": "stream",
     "text": [
      "a < 2: False\n",
      "a > 2: True\n"
     ]
    }
   ],
   "source": [
    "a = 4\n",
    "print('a < 2:', a < 2)\n",
    "print('a > 2:', a > 2)"
   ]
  },
  {
   "cell_type": "markdown",
   "metadata": {},
   "source": [
    "A instrução `a <2` retorna uma variável do tipo boolean, o que significa que pode ser` True` ou `False`. Além de *menores* ou *maiores que*, existem várias outras condições que você pode usar:"
   ]
  },
  {
   "cell_type": "code",
   "execution_count": null,
   "metadata": {},
   "outputs": [],
   "source": [
    "a = 4\n",
    "print(a < 4)\n",
    "print(a <= 4) # a is smaller than or equal to 4\n",
    "print(a == 4) # a is equal to 4. Note that there are 2 equal signs\n",
    "print(a >= 4) \n",
    "print(a > 4)\n",
    "print(a != 4) # a is not equal to 4"
   ]
  },
  {
   "cell_type": "markdown",
   "metadata": {},
   "source": [
    "É importante entender a diferença entre um sinal de igual como `a = 4` e dois sinais de igual como um `a == 4`. Um sinal de igual significa atribuição. O que estiver no lado direito do sinal de igual é atribuído ao que está no lado esquerdo do sinal de igual. Dois sinais de igual é uma comparação e resulta em True (quando os lados esquerdo e direito são iguais) ou False."
   ]
  },
  {
   "cell_type": "code",
   "execution_count": null,
   "metadata": {},
   "outputs": [],
   "source": [
    "print(4 == 4)\n",
    "a = 4 == 5\n",
    "print(a)\n",
    "print(type(a))"
   ]
  },
  {
   "cell_type": "markdown",
   "metadata": {},
   "source": [
    "Você também pode executar instruções de comparação em arrays e retornará um array de booleanos (valores `True` e `False`) para cada valor no array. Por exemplo, vamos criar um array e descobrir quais valores da array são menores que $3$:"
   ]
  },
  {
   "cell_type": "code",
   "execution_count": null,
   "metadata": {},
   "outputs": [],
   "source": [
    "data = np.arange(5)\n",
    "print(data)\n",
    "print(data < 3)"
   ]
  },
  {
   "cell_type": "markdown",
   "metadata": {},
   "source": [
    "A declaração `data <3` retorna um array do tipo` boolean` que tem o mesmo comprimento que o array `data` e para cada item no array é dado por `True` ou `False`. O legal é que esse array de valores `True` e` False` pode ser usada para especificar os índices de uma matriz:"
   ]
  },
  {
   "cell_type": "code",
   "execution_count": null,
   "metadata": {},
   "outputs": [],
   "source": [
    "a = np.arange(5)\n",
    "b = np.array([ True, True, True, False, False ])\n",
    "print(a[b])"
   ]
  },
  {
   "cell_type": "markdown",
   "metadata": {},
   "source": [
    "Quando os índices de um array são especificados com um array booleano, somente os valores do array onde o array booleano é `True` são selecionados. Este é um recurso muito poderoso. Por exemplo, todos os valores de um array que são menores que, por exemplo, $3$ podem ser obtidos especificando uma condição como os índices."
   ]
  },
  {
   "cell_type": "code",
   "execution_count": null,
   "metadata": {},
   "outputs": [],
   "source": [
    "a = np.arange(5)\n",
    "print('the total array:', a)\n",
    "print('values less than 3:', a[a < 3])"
   ]
  },
  {
   "cell_type": "markdown",
   "metadata": {},
   "source": [
    "Se quisermos substituir todos os valores menores que $3$ por, por exemplo, pelo valor $10$, use a seguinte sintaxe:"
   ]
  },
  {
   "cell_type": "code",
   "execution_count": null,
   "metadata": {},
   "outputs": [],
   "source": [
    "a = np.arange(5)\n",
    "print(a)\n",
    "a[a < 3] = 10\n",
    "print(a)"
   ]
  },
  {
   "cell_type": "markdown",
   "metadata": {},
   "source": [
    "### Exercise 5, <a name=\"back5\"></a> Condicionais em array\n",
    "Crie um array para a variável $x$ consistindo em $100$ valores de $0$ a $20$. Calcule $y = \\ sin (x)$ e plote $y$ vs. $x$ com uma linha azul. Em seguida, substitua todos os valores de $y$ que sejam maiores que $0,5$ por $0,5$ e todos os valores menores que $-0,75$ por $-0,75$ e plote $x$ vs. $y$ usando uma linha vermelha no mesmo gráfico "
   ]
  },
  {
   "cell_type": "code",
   "execution_count": null,
   "metadata": {},
   "outputs": [],
   "source": []
  },
  {
   "cell_type": "markdown",
   "metadata": {},
   "source": [
    "<a href=\"#ex5answer\">Answer to Exercise 5</a>\n",
    "\n",
    "### Exercise 6, <a name=\"back6\"></a>Alterar a cor do marcador com base no valor dos dados\n",
    "Crie um array para a variável $x$ consistindo de $100$ pontos de $0$ a $20$ e calcule $y = \\ sin (x)$. Plote um ponto azul para cada $y$ que for maior que zero e um ponto vermelho caso contrário"
   ]
  },
  {
   "cell_type": "code",
   "execution_count": null,
   "metadata": {},
   "outputs": [],
   "source": []
  },
  {
   "cell_type": "markdown",
   "metadata": {},
   "source": [
    "<a href=\"#ex6answer\">Answer to Exercise 6</a>"
   ]
  },
  {
   "cell_type": "markdown",
   "metadata": {},
   "source": [
    "### Selecione índices baseados em várias condições\n",
    "Várias condições podem ser dadas também. Quando duas condições precisam ser verdadeiras, use o símbolo `&`. Quando pelo menos uma das condições precisa ser verdadeira, use o símbolo '|' (que é a barra vertical). Por exemplo, vamos plotar $y = \\ sin (x)$ e traçar marcadores azuis quando $y> 0.7$ ou $y <-0.5$ (usando uma declaração de plotagem) e um marcador vermelho quando $-0.5 \\le y\\le 0,7$. Quando há várias condições, elas precisam estar entre os parenteses."
   ]
  },
  {
   "cell_type": "code",
   "execution_count": null,
   "metadata": {},
   "outputs": [],
   "source": [
    "x = np.linspace(0, 6 * np.pi, 50)\n",
    "y = np.sin(x)\n",
    "plt.plot(x[(y > 0.7) | (y < -0.5)], y[(y > 0.7) | (y < -0.5)], 'bo')\n",
    "plt.plot(x[(y > -0.5) & (y < 0.7)], y[(y > -0.5) & (y < 0.7)], 'ro');"
   ]
  },
  {
   "cell_type": "markdown",
   "metadata": {},
   "source": [
    "### Exercise 7, <a name=\"back7\"></a> Condições múltiplas\n",
    "O arquivo `xypoints.dat` contém $1000$ locais $x, y$ escolhidos aleatoriamente de pontos; ambos $x$ e $y$ variam entre $-10$ e $10$. Carregue os dados usando `loadtxt` e armazene na primeira linha do array em um array chamada `x` e a segunda linha em um array chamado `y`. Primeiro, plote um ponto vermelho para todos os pontos. No mesmo gráfico, plote um ponto azul para todos os $x, y$ pontos onde $x <-2$ e $-5 \\ le y \\ le 0$. Finalmente, plote um ponto verde para qualquer ponto que esteja no círculo com o centro $(x_c, y_c) = (5,0)$ e com raio $R = 5$. Dica: pode ser útil calcular uma nova matriz para a distância radial $r$ entre qualquer ponto e o centro do círculo usando a fórmula $r = \\ sqrt {(x-x_c) ^ 2 + (y-y_c) ^ 2}$. Use o comando `plt.axis ('equal')` para se certificar de que as escalas ao longo dos dois eixos são iguais e a área circular se parece com um círculo."
   ]
  },
  {
   "cell_type": "code",
   "execution_count": null,
   "metadata": {},
   "outputs": [],
   "source": []
  },
  {
   "cell_type": "markdown",
   "metadata": {},
   "source": [
    "<a href=\"#ex7answer\">Answer to Exercise 7</a>"
   ]
  },
  {
   "cell_type": "markdown",
   "metadata": {},
   "source": [
    "### Exercise 8, <a name=\"back8\"></a> Corrigir o erro \n",
    "In the code below, it is meant to give the last 5 values of the array `x` the values [50,52,54,56,58] and print the result to the screen, but there are some errors in the code. Remove the comment markers and run the code to see the error message. Then fix the code and run it again."
   ]
  },
  {
   "cell_type": "code",
   "execution_count": null,
   "metadata": {
    "collapsed": true
   },
   "outputs": [],
   "source": [
    "#x = np.ones(10)\n",
    "#x[5:] = np.arange(50, 62, 1)\n",
    "#print(x)"
   ]
  },
  {
   "cell_type": "markdown",
   "metadata": {},
   "source": [
    "<a href=\"#ex8answer\">Answer to Exercise 8</a>"
   ]
  },
  {
   "cell_type": "markdown",
   "metadata": {},
   "source": [
    "### Answers to the exercises"
   ]
  },
  {
   "cell_type": "markdown",
   "metadata": {},
   "source": [
    "<a name=\"ex1answer\">Answer to Exercise 1</a>"
   ]
  },
  {
   "cell_type": "code",
   "execution_count": 58,
   "metadata": {},
   "outputs": [
    {
     "data": {
      "image/png": "[encoded data removed]",
      "text/plain": [
       "<matplotlib.figure.Figure at 0x7f342050e910>"
      ]
     },
     "metadata": {},
     "output_type": "display_data"
    }
   ],
   "source": [
    "x = np.zeros(20)\n",
    "x[:5] = 10\n",
    "x[5:15] = np.arange(12, 31, 2)\n",
    "x[15:] = 30\n",
    "plt.plot(x)\n",
    "plt.plot([4, 4], [8, 32],'k--')\n",
    "plt.plot([14, 14], [8, 32],'k--')\n",
    "plt.ylim(0, 100);\n"
   ]
  },
  {
   "cell_type": "markdown",
   "metadata": {},
   "source": [
    "<a href=\"#back1\">Back to Exercise 1</a>\n",
    "\n",
    "<a name=\"ex2answer\">Answer to Exercise 2</a>"
   ]
  },
  {
   "cell_type": "code",
   "execution_count": 78,
   "metadata": {},
   "outputs": [
    {
     "name": "stdout",
     "output_type": "stream",
     "text": [
      "the first row of x\n",
      "[4 2 3 2]\n",
      "the first column of x\n",
      "[4 2 2 4]\n",
      "the third row of x\n",
      "[2 4 1 3]\n",
      "the last two columns of x\n",
      "[[3 2]\n",
      " [3 1]\n",
      " [1 3]\n",
      " [2 3]]\n",
      "the four values in the upper right hand corner\n",
      "[[3 2]\n",
      " [3 1]]\n",
      "the four values at the center of x\n",
      "[[4 3]\n",
      " [4 1]]\n"
     ]
    }
   ],
   "source": [
    "x = np.array([[4, 2, 3, 2],\n",
    "              [2, 4, 3, 1],\n",
    "              [2, 4, 1, 3],\n",
    "              [4, 1, 2, 3]])\n",
    "print('the first row of x')\n",
    "print(x[0])\n",
    "print('the first column of x')\n",
    "print(x[:, 0])\n",
    "print('the third row of x')\n",
    "print(x[2])\n",
    "print('the last two columns of x')\n",
    "print(x[:, -2:])\n",
    "print('the four values in the upper right hand corner')\n",
    "print(x[:2, 2:])\n",
    "print('the four values at the center of x')\n",
    "print(x[1:3, 1:3])"
   ]
  },
  {
   "cell_type": "markdown",
   "metadata": {},
   "source": [
    "<a href=\"#back2\">Back to Exercise 2</a>\n",
    "\n",
    "<a name=\"ex3answer\">Answer to Exercise 3</a>"
   ]
  },
  {
   "cell_type": "code",
   "execution_count": null,
   "metadata": {},
   "outputs": [],
   "source": [
    "x = np.zeros((10, 10))\n",
    "x[:5, :5] = 4\n",
    "x[:5, 5:] = 3\n",
    "x[5:, 5:] = 2\n",
    "x[5:, :5] = 1\n",
    "print(x)\n",
    "plt.matshow(x)\n",
    "plt.colorbar(ticks=[1, 2, 3, 4]);"
   ]
  },
  {
   "cell_type": "markdown",
   "metadata": {},
   "source": [
    "<a href=\"#back3\">Back to Exercise 3</a>\n",
    "\n",
    "<a name=\"ex4answer\">Answer to Exercise 4</a>"
   ]
  },
  {
   "cell_type": "code",
   "execution_count": null,
   "metadata": {},
   "outputs": [],
   "source": [
    "x = np.zeros((11, 17))\n",
    "x[2:4, 1:7] = -1\n",
    "x[2:9, 3:5] = -1\n",
    "x[2:9, 8:10] = 1\n",
    "x[2:9, 13:15] = 1\n",
    "x[7:9, 10:13] = 1\n",
    "print(x)\n",
    "plt.matshow(x)\n",
    "plt.yticks(range(11, -1, -1))\n",
    "plt.xticks(range(0, 17));\n",
    "plt.ylim(10.5, -0.5)\n",
    "plt.xlim(-0.5, 16.5);"
   ]
  },
  {
   "cell_type": "markdown",
   "metadata": {},
   "source": [
    "<a href=\"#back4\">Back to Exercise 4</a>\n",
    "\n",
    "<a name=\"ex5answer\">Answer to Exercise 5</a>"
   ]
  },
  {
   "cell_type": "code",
   "execution_count": null,
   "metadata": {},
   "outputs": [],
   "source": [
    "x = np.linspace(0, 20, 100)\n",
    "y = np.sin(x)\n",
    "plt.plot(x, y, 'b')\n",
    "y[y > 0.5] = 0.5\n",
    "y[y < -0.75] = -0.75\n",
    "plt.plot(x, y, 'r');"
   ]
  },
  {
   "cell_type": "markdown",
   "metadata": {},
   "source": [
    "<a href=\"#back5\">Back to Exercise 5</a>\n",
    "\n",
    "<a name=\"ex6answer\">Answer to Exercise 6</a>"
   ]
  },
  {
   "cell_type": "code",
   "execution_count": null,
   "metadata": {},
   "outputs": [],
   "source": [
    "x = np.linspace(0, 6 * np.pi, 50)\n",
    "y = np.sin(x)\n",
    "plt.plot(x[y > 0], y[y > 0], 'bo')\n",
    "plt.plot(x[y <= 0], y[y <= 0], 'ro');"
   ]
  },
  {
   "cell_type": "markdown",
   "metadata": {},
   "source": [
    "<a href=\"#back6\">Back to Exercise 6</a>\n",
    "\n",
    "<a name=\"ex7answer\">Answer to Exercise 7</a>"
   ]
  },
  {
   "cell_type": "code",
   "execution_count": null,
   "metadata": {},
   "outputs": [],
   "source": [
    "x, y = np.loadtxt('xypoints.dat')\n",
    "plt.plot(x, y, 'ro')\n",
    "plt.plot(x[(x < -2) & (y >= -5) & (y < 0)], y[(x < -2) & (y >= -5) & (y < 0)], 'bo')\n",
    "r = np.sqrt((x - 5) ** 2 + y ** 2)\n",
    "plt.plot(x[r < 5], y[r < 5], 'go')\n",
    "plt.axis('scaled');"
   ]
  },
  {
   "cell_type": "markdown",
   "metadata": {},
   "source": [
    "<a href=\"#back7\">Back to Exercise 7</a>\n",
    "\n",
    "<a name=\"ex8answer\">Answer to Exercise 8</a>"
   ]
  },
  {
   "cell_type": "code",
   "execution_count": null,
   "metadata": {},
   "outputs": [],
   "source": [
    "x = np.ones(10)\n",
    "x[5:] = np.arange(50, 60, 2)\n",
    "print(x)"
   ]
  },
  {
   "cell_type": "markdown",
   "metadata": {},
   "source": [
    "<a href=\"#back8\">Back to Exercise 8</a>"
   ]
  }
 ],
 "metadata": {
  "kernelspec": {
   "display_name": "Python 2",
   "language": "python",
   "name": "python2"
  },
  "language_info": {
   "codemirror_mode": {
    "name": "ipython",
    "version": 3
   },
   "file_extension": ".py",
   "mimetype": "text/x-python",
   "name": "python",
   "nbconvert_exporter": "python",
   "pygments_lexer": "ipython3",
   "version": "3.6.4"
  }
 },
 "nbformat": 4,
 "nbformat_minor": 1
}
