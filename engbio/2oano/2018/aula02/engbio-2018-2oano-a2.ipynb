{
 "cells": [
  {
   "cell_type": "markdown",
   "metadata": {},
   "source": [
    "<figure>\n",
    "  <IMG SRC=\"http://www.pucsp.br/sites/default/files/download/brasao-PUCSP-assinatura-principal-RGB.png\" WIDTH=75 ALIGN=\"right\">\n",
    "</figure>\n",
    "\n",
    "# Lógica de Programação em Python\n",
    "## (Revisão)"
   ]
  },
  {
   "cell_type": "markdown",
   "metadata": {},
   "source": [
    "## Semana 1 - aula 2"
   ]
  },
  {
   "cell_type": "markdown",
   "metadata": {},
   "source": [
    "## loops `for` e instruções `if/else`\n",
    "Como estaremos novamente usando `numpy` e `matplotlib`, começamos importando-os"
   ]
  },
  {
   "cell_type": "code",
   "execution_count": 11,
   "metadata": {},
   "outputs": [],
   "source": [
    "import matplotlib.pyplot as plt\n",
    "import numpy as np\n",
    "%matplotlib inline"
   ]
  },
  {
   "cell_type": "markdown",
   "metadata": {},
   "source": [
    "### O loop `for`\n",
    "Os loops são usados para executar um comando repetidamente. A sintaxe de um loop é a seguinte"
   ]
  },
  {
   "cell_type": "code",
   "execution_count": 31,
   "metadata": {},
   "outputs": [
    {
     "name": "stdout",
     "output_type": "stream",
     "text": [
      "('Ola mundo', 0)\n",
      "('Ola mundo', 1)\n",
      "('Ola mundo', 2)\n",
      "('Ola mundo', 3)\n",
      "('Ola mundo', 4)\n"
     ]
    }
   ],
   "source": [
    "for i in [0, 1, 2, 3, 4]:\n",
    "    print('Ola mundo', i)"
   ]
  },
  {
   "cell_type": "markdown",
   "metadata": {},
   "source": [
    "Na primeira vez, o valor de `i` é igual a `0`, na segunda vez, seu valor é `1` e assim por diante até a última vez que seu valor é `4`.\n",
    "\n",
    "As estruturas de dados impressas no comando anterior são *tuplas*. \n",
    "Reconhecemos que é uma *tupla* porque a estrutura está entre parênteses. Dentro da *tupla* apresentada temos dois *tipos de dados primitivos*: uma cadeia de texto (*string*) e um número inteiro (*int*). Sabemos que é uma string porque o valor está entre aspas.\n",
    "\n",
    "Uma tupla se parece com uma lista, mas os valores da tupla não podem ser alterados, o que é o mesmo que dizer que uma tupla em Python é imutável. As listas em Python são delimitadas por colchetes. \n",
    "\n",
    "Caso a intenção fosse que um texto fosse apresentado, o trecho de código anterior ficaria como a seguir:"
   ]
  },
  {
   "cell_type": "code",
   "execution_count": 34,
   "metadata": {},
   "outputs": [
    {
     "name": "stdout",
     "output_type": "stream",
     "text": [
      "Ola mundo 0 \n",
      "Ola mundo 1 \n",
      "Ola mundo 2 \n",
      "Ola mundo 3 \n",
      "Ola mundo 4 \n"
     ]
    }
   ],
   "source": [
    "for i in [0, 1, 2, 3, 4]:\n",
    "    print('Ola mundo %i ' % i)"
   ]
  },
  {
   "cell_type": "markdown",
   "metadata": {},
   "source": [
    "O `%i` no comando anterior diz ao Python que um inteiro será colocado na string no local indicado. Para inserir mais de um valor na *string* temos que utilizar tuplas para passar os valores. "
   ]
  },
  {
   "cell_type": "code",
   "execution_count": 38,
   "metadata": {},
   "outputs": [
    {
     "name": "stdout",
     "output_type": "stream",
     "text": [
      "Ola mundo 0-1 \n",
      "Ola mundo 1-2 \n",
      "Ola mundo 2-3 \n",
      "Ola mundo 3-4 \n",
      "Ola mundo 4-5 \n"
     ]
    }
   ],
   "source": [
    "for i in [0, 1, 2, 3, 4]:\n",
    "    print('Ola mundo %i-%i ' % (i,i+1))"
   ]
  },
  {
   "cell_type": "markdown",
   "metadata": {},
   "source": [
    "Observe a sintaxe de um loop `for`. No final da instrução `for` você precisa colocar dois pontos (`: `) e depois disso você precisa indentar. Não importa quantos espaços você indente, contanto que você continue usando o mesmo número de espaços para o loop `for` inteiro. O Jupyter Notebooks automaticamente indenta 4 espaços, o que é considerado um bom estilo para Python, então use isso. Você pode ter quantas linhas de código quiser dentro do loop `for`. Para finalizar o loop `for`, simplesmente pare de indentar."
   ]
  },
  {
   "cell_type": "code",
   "execution_count": 40,
   "metadata": {},
   "outputs": [
    {
     "name": "stdout",
     "output_type": "stream",
     "text": [
      "('y, ysquared', 0, 0)\n",
      "('y, ysquared', 1, 1)\n",
      "('y, ysquared', 2, 4)\n",
      "('y, ysquared', 3, 9)\n",
      "Nós terminamos com o loop\n"
     ]
    }
   ],
   "source": [
    "for y in [0, 1, 2, 3]: \n",
    "    ysquared = y ** 2\n",
    "    print('y, ysquared', y, ysquared)\n",
    "print('Nós terminamos com o loop')"
   ]
  },
  {
   "cell_type": "markdown",
   "metadata": {},
   "source": [
    "A lista de valores para percorrer pode ser de qualquer coisa. Não precisa nem ser números. O loop `for` simplesmente passa por todos os valores da lista, um por um:"
   ]
  },
  {
   "cell_type": "code",
   "execution_count": 13,
   "metadata": {},
   "outputs": [
    {
     "name": "stdout",
     "output_type": "stream",
     "text": [
      "('o valor dos dados eh:', 20)\n",
      "('o valor dos dados eh:', 'mark')\n",
      "('o valor dos dados eh:', 3.1622776601683795)\n"
     ]
    }
   ],
   "source": [
    "for data in [20, 'mark', np.sqrt(10)]:\n",
    "    print('o valor dos dados eh:', data)"
   ]
  },
  {
   "cell_type": "markdown",
   "metadata": {},
   "source": [
    "É claro que é bastante inconveniente ter que especificar uma lista para percorrer quando a lista é muito longa. Por exemplo, se você quiser fazer algo 100 vezes, não quer digitar uma lista de valores de 0 a 100. Mas o Python tem uma função conveniente chamada `range`. Você pode percorrer um `range` exatamente como pode percorrer uma lista. Para fazer loop 10 vezes, começando com o valor '0':"
   ]
  },
  {
   "cell_type": "code",
   "execution_count": 15,
   "metadata": {},
   "outputs": [
    {
     "name": "stdout",
     "output_type": "stream",
     "text": [
      "('o valor de i eh:', 0)\n",
      "('o valor de i eh:', 1)\n",
      "('o valor de i eh:', 2)\n",
      "('o valor de i eh:', 3)\n",
      "('o valor de i eh:', 4)\n",
      "('o valor de i eh:', 5)\n",
      "('o valor de i eh:', 6)\n",
      "('o valor de i eh:', 7)\n",
      "('o valor de i eh:', 8)\n",
      "('o valor de i eh:', 9)\n"
     ]
    }
   ],
   "source": [
    "for i in range(10):\n",
    "    print('o valor de i eh:', i)"
   ]
  },
  {
   "cell_type": "markdown",
   "metadata": {},
   "source": [
    "Um `range` pode ser convertido em uma lista com a função `list`. Você pode chamar `range` com apenas um argumento, caso em que irá gerar um intervalo de 0 até o número especificado, mas não incluindo este número. Note que `range (10)` produz 10 números de 0 até e incluindo o 9. Você pode, opcionalmente, dar um valor inicial e um passo, similar à função `np.arange`."
   ]
  },
  {
   "cell_type": "code",
   "execution_count": 16,
   "metadata": {},
   "outputs": [
    {
     "name": "stdout",
     "output_type": "stream",
     "text": [
      "('um intervalo com 10 valores:', [0, 1, 2, 3, 4, 5, 6, 7, 8, 9])\n",
      "('um intervalo de 10 a 20', [10, 11, 12, 13, 14, 15, 16, 17, 18, 19])\n",
      "('um intervalo de 10 a 20 com passos de 2:', [10, 12, 14, 16, 18])\n"
     ]
    }
   ],
   "source": [
    "print('um intervalo com 10 valores:', list(range(10)))\n",
    "print('um intervalo de 10 a 20', list(range(10, 20)))\n",
    "print('um intervalo de 10 a 20 com passos de 2:', list(range(10, 20, 2)))"
   ]
  },
  {
   "cell_type": "markdown",
   "metadata": {},
   "source": [
    "Um loop pode ser usado para preencher um vetor (em inglês, esses vetores são conhecidos como arrays). Vamos calcular $y=\\cos(x)$ onde $x$ é um array que varia de 0 a $2\\pi$ com 100 pontos. Já sabemos, é claro, que isso pode ser feito com a declaração `y=cos(x)`. Às vezes isso não é possível, no entanto, e é preciso preencher um array com um loop. \n",
    "\n",
    "Em primeiro lugar, temos que criar o array `y` (por exemplo preenchido com zeros usando a função `zeros_like`) e depois preenchê-lo com os valores corretos percorrendo através de todos os valores de `x`, de modo que o índice vai desde `0` até o comprimento do array `x`. O contador no loop (a variável `i` no código abaixo) é usado como o índice do array que é preenchido."
   ]
  },
  {
   "cell_type": "code",
   "execution_count": 29,
   "metadata": {},
   "outputs": [
    {
     "data": {
      "image/png": "[encoded data removed]",
      "text/plain": [
       "<matplotlib.figure.Figure at 0x7f60464c7650>"
      ]
     },
     "metadata": {},
     "output_type": "display_data"
    }
   ],
   "source": [
    "x = np.linspace(0, 2 * np.pi, 100)\n",
    "y = np.zeros_like(x)  # semelhante a zeros(forma(x))\n",
    "for i in range(len(x)):\n",
    "    y[i] = np.cos(x[i])\n",
    "plt.plot(x, y);"
   ]
  },
  {
   "cell_type": "markdown",
   "metadata": {},
   "source": [
    "No Trinket.io você pode ter que utilizar um código dessa forma (use apenas se o ambiente não estiver funcionando do jeito anterior):"
   ]
  },
  {
   "cell_type": "code",
   "execution_count": 45,
   "metadata": {},
   "outputs": [
    {
     "data": {
      "image/png": "[encoded data removed]",
      "text/plain": [
       "<matplotlib.figure.Figure at 0x7f604865a790>"
      ]
     },
     "metadata": {},
     "output_type": "display_data"
    }
   ],
   "source": [
    "import matplotlib.pyplot\n",
    "import numpy\n",
    "\n",
    "plt = matplotlib.pyplot\n",
    "np = numpy\n",
    "\n",
    "x = np.linspace(0, 2 * np.pi, 100)\n",
    "y = np.zeros_like(x)  # semelhante a zeros(forma(x))\n",
    "for i in range(len(x)):\n",
    "    y[i] = np.cos(x[i])\n",
    "plt.plot(x, y);\n",
    "plt.show()"
   ]
  },
  {
   "cell_type": "markdown",
   "metadata": {},
   "source": [
    "Loops são construções muito úteis em um script de programação. Sempre que você precisar fazer um cálculo várias vezes, você deve pensar automaticamente: *loop !*"
   ]
  },
  {
   "cell_type": "markdown",
   "metadata": {},
   "source": [
    "### Exercício 1. <a name=\"back1\"></a>Primeiro loop `for` \n",
    "Crie uma lista com os nomes dos meses. Crie uma segunda lista com o número de dias em cada mês (para um ano normal). Crie um loop `for` que imprime:\n",
    "\n",
    "`O número de dias em mês é de XX dias`\n",
    "\n",
    "onde, é claro, você imprime o nome correto do mês para \"MÊS\" e o número correto de dias para \"XX\"."
   ]
  },
  {
   "cell_type": "code",
   "execution_count": null,
   "metadata": {},
   "outputs": [],
   "source": []
  },
  {
   "cell_type": "markdown",
   "metadata": {},
   "source": [
    "<a href=\"#ex1answer\">Resposta para o Exercício 1</a>"
   ]
  },
  {
   "cell_type": "markdown",
   "metadata": {},
   "source": [
    "### O comando `if` \n",
    "Um comando `if` permite executar uma tarefa somente quando o resultado deste comando for verdadeiro. \n",
    "Por exemplo"
   ]
  },
  {
   "cell_type": "code",
   "execution_count": 27,
   "metadata": {},
   "outputs": [
    {
     "name": "stdout",
     "output_type": "stream",
     "text": [
      "valor inicial: 4\n",
      "alterando dados no primeiro comando if\n",
      "valor após o primeiro comando if: 6\n",
      "valor após o primeiro comando if: 6\n"
     ]
    }
   ],
   "source": [
    "data = 4\n",
    "print('valor inicial:', data)\n",
    "if data < 6:\n",
    "    print('alterando dados no primeiro comando if')\n",
    "    data = data + 2\n",
    "print('valor após o primeiro comando if:', data)\n",
    "if data > 20:\n",
    "    print('alterando dados no segundo if')\n",
    "    data = 200\n",
    "print('valor após o primeiro comando if:', data)  # os dados não foram alterados porque os dados não são maiores que 20"
   ]
  },
  {
   "cell_type": "markdown",
   "metadata": {},
   "source": [
    "Observe a sintaxe do comando `if`. Ela começa com `if` seguido por uma instrução que é `True` ou `False` e, em seguida, dois pontos. Após os dois pontos, você precisa indentar e todo o bloco de código indentado (neste caso, 2 linhas de código) é executado se a instrução for `True`. O comando `if` é concluído quando você para a indentação. Lembre-se que você pode usar maior que `>`, maior que ou igual a `>=`, igual a `==`, menor que ou igual a `<=`, menor que `<` ou diferente de `!=` ."
   ]
  },
  {
   "cell_type": "markdown",
   "metadata": {},
   "source": [
    "### Os comandos `if`/`else` \n",
    "O comando `if` pode ser seguido por um comando `else`, que é executado quando a condição `if` é `False`. \n",
    "Por exemplo"
   ]
  },
  {
   "cell_type": "code",
   "execution_count": null,
   "metadata": {},
   "outputs": [],
   "source": [
    "a = 4\n",
    "if a < 3:\n",
    "    print('a é menor que 3')\n",
    "else:\n",
    "    print('a não é menor que 3')"
   ]
  },
  {
   "cell_type": "markdown",
   "metadata": {},
   "source": [
    "Você pode até estender o `else` adicionando uma ou mais condições com o comando `elif` que é a abreviação para 'else if'"
   ]
  },
  {
   "cell_type": "code",
   "execution_count": null,
   "metadata": {},
   "outputs": [],
   "source": [
    "a = 4\n",
    "if a < 4:\n",
    "    print('a é menor que 4')\n",
    "elif a > 4:\n",
    "    print('a é maior que 4')\n",
    "else:\n",
    "    print('a é igual a 4')"
   ]
  },
  {
   "cell_type": "markdown",
   "metadata": {},
   "source": [
    "Em vez de especificar o valor de uma variável no topo da célula de código, você pode pedir ao usuário para inserir um valor e armazenar esse valor na variável usando a função `input`. A função `input` retorna uma string que pode ser convertida em um número com a função `float`. Execute a célula de código abaixo várias vezes para ver se funciona quando o valor inserido for maior que 4, menor que 4 ou igual a 4."
   ]
  },
  {
   "cell_type": "code",
   "execution_count": null,
   "metadata": {
    "scrolled": true
   },
   "outputs": [],
   "source": [
    "a = float(input('Insira um valor: '))\n",
    "if a < 4:\n",
    "    print('o valor inserido é menor que 4')\n",
    "elif a > 4:\n",
    "    print('o valor inserido é maior que 4')\n",
    "else:\n",
    "    print('o valor inserido é igual a 4')"
   ]
  },
  {
   "cell_type": "markdown",
   "metadata": {},
   "source": [
    "### Exercício 2. <a name=\"back2\"></a> Combinação de loop `for` com comando `if`\n",
    "Considere a função\n",
    "\n",
    "$\\begin{split}\n",
    "y &= \\cos(x) \\qquad \\text{for} \\qquad x < 0 \\\\\n",
    "y &= \\exp(-x) \\qquad \\text{for} \\qquad x \\ge 0 \\\\\n",
    "\\end{split}$\n",
    "\n",
    "Calcule $y$ para $x$ indo de $-2\\pi$ para $2\\pi$ com 100 pontos e faça um gráfico. Certifique-se de que os limites do eixo $x$ sejam de $-2\\pi$ a $2\\pi$."
   ]
  },
  {
   "cell_type": "code",
   "execution_count": null,
   "metadata": {},
   "outputs": [],
   "source": []
  },
  {
   "cell_type": "markdown",
   "metadata": {},
   "source": [
    "<a href=\"#ex2answer\">Resposta para o Exercício 2</a>"
   ]
  },
  {
   "cell_type": "markdown",
   "metadata": {},
   "source": [
    "### Exercício 3. <a name=\"back3\"></a>Carregar e percorrer os dados de temperatura\n",
    "Carregue os dados de temperatura da Holanda a partir do arquivo de dados (`holanda-temperatura.tsv`). Percorra todas as temperaturas mensais e imprima uma mensagem que inclua o número do mês e indique se a temperatura média mensal está acima ou abaixo de 10 graus"
   ]
  },
  {
   "cell_type": "markdown",
   "metadata": {},
   "source": [
    "Para carregar os valores de um arquivo externo no Trinket.io:\n",
    "\n",
    "1. Faça o upload de um arquivo de texto\n",
    "2. Carregue o arquivo em uma variável utilizando a seguinte forma:"
   ]
  },
  {
   "cell_type": "code",
   "execution_count": null,
   "metadata": {},
   "outputs": [],
   "source": [
    "import numpy\n",
    "\n",
    "np = numpy\n",
    "dados_arquivo = np.loadtxt('nome-do-arquivo-com-extensão', delimiter='\\t')\n",
    "print(dados_arquivo)"
   ]
  },
  {
   "cell_type": "markdown",
   "metadata": {},
   "source": [
    "O argumento `\\t` passado para o parâmetro `delimiter` indica que as colunas no arquivo `nome-do-arquivo-com-extensão` são separadas por tabulações. Qualquer valor pode ser passado, mas os valores mais comuns incluem: `.`, `,` e `;`"
   ]
  },
  {
   "cell_type": "code",
   "execution_count": null,
   "metadata": {},
   "outputs": [],
   "source": []
  },
  {
   "cell_type": "markdown",
   "metadata": {},
   "source": [
    "<a href=\"#ex3answer\">Resposta para o Exercício 3</a>"
   ]
  },
  {
   "cell_type": "markdown",
   "metadata": {},
   "source": [
    "### Looping e somatório\n",
    "Uma aplicação do loop é calcular a soma de todos os valores em um array. Considere, por exemplo, o array `data` com 8 valores. Vamos calcular a soma de todos os valores em `data`. Primeiro definimos uma variável `datasum` e atribuímos o valor 0. Em seguida, passamos por todos os valores em `data` e adicionamos o valor a `datasum`:"
   ]
  },
  {
   "cell_type": "code",
   "execution_count": null,
   "metadata": {},
   "outputs": [],
   "source": [
    "data = np.array([1, 3, 2, 5, 7, 3, 4, 2])\n",
    "datasum = 0\n",
    "for i in range(len(data)):\n",
    "    datasum = datasum + data[i]\n",
    "    print('i, datasum: ', i, datasum)\n",
    "print('soma total de dados: ', datasum)"
   ]
  },
  {
   "cell_type": "markdown",
   "metadata": {},
   "source": [
    "Note que a instrução\n",
    "\n",
    "`datasum = datasum + data [i]`\n",
    "\n",
    "significa que `data [i]` é adicionado ao valor atual de `datasum` e que o resultado é atribuído a `datasum`. Na verdade, existe uma sintaxe mais curta para a mesma instrução:\n",
    "\n",
    "`datasum + = data [i]`\n",
    "\n",
    "O comando `+=` significa: adicione o que estiver no lado direito do sinal `+=` para o que estiver no lado esquerdo. Você pode usar qualquer sintaxe com a qual se sentir mais confortável (embora `+=` seja considerado melhor e, em alguns casos, mais eficiente)."
   ]
  },
  {
   "cell_type": "markdown",
   "metadata": {},
   "source": [
    "### Exercício 4.  <a name=\"back4\"></a>Execução total\n",
    "Para os dados do exemplo anterior, calcule o total em execução e armazene-o em um vetor usando um loop. Portanto, o resultado deve ser um vetor com o mesmo tamanho de `data` onde o item `i` é a soma de todos os valores no vetor `data` até e incluindo `data [i]`. Imprima o vetor `data` e o vetor com o total em execução na tela. Finalmente, verifique sua resposta usando a função `cumsum` de `numpy`, que deve dar a mesma resposta que o seu loop."
   ]
  },
  {
   "cell_type": "code",
   "execution_count": null,
   "metadata": {},
   "outputs": [],
   "source": []
  },
  {
   "cell_type": "markdown",
   "metadata": {},
   "source": [
    "<a href=\"#ex4answer\">Resposta para o Exercício 4</a>"
   ]
  },
  {
   "cell_type": "markdown",
   "metadata": {},
   "source": [
    "###  Encontrando o valor máximo da maneira mais difícil\n",
    "Em seguida, vamos encontrar o valor máximo no array `data` e o índice do valor máximo. Para fins de ilustração, faremos isso da maneira mais difícil usando um loop e uma condicional if. Primeiro, criamos uma variável `maxvalue` que contém o valor máximo e a definimos inicialmente para um número muito pequeno, e uma variável `maxindex` que é o índice do valor máximo e é inicialmente definida como `None`. Então nós passamos por todos os valores em `data` e atualizamos o `maxvalue` e `maxindex` toda vez que encontramos um valor maior que o atual `maxvalue`"
   ]
  },
  {
   "cell_type": "code",
   "execution_count": null,
   "metadata": {},
   "outputs": [],
   "source": [
    "maxvalue = -1e8\n",
    "maxindex = None\n",
    "\n",
    "for i in range(len(data)):\n",
    "    if i > maxvalue:\n",
    "        maxvalue = data[i]\n",
    "        maxindex = i\n",
    "print('o valor máximo é', maxvalue)\n",
    "print('o índice do valor máximo é', maxindex)"
   ]
  },
  {
   "cell_type": "markdown",
   "metadata": {},
   "source": [
    "Para este exemplo, é fácil verificar se esses números estão corretos observando o array `data`. Mas existem, é claro, funções disponíveis (no pacote `numpy`) para encontrar o valor máximo e o índice do valor máximo:`np.max` retorna o valor máximo de um array, e `np.argmax` retorna o índice do valor máximo do array. Existem funções semelhantes para o valor mínimo."
   ]
  },
  {
   "cell_type": "code",
   "execution_count": null,
   "metadata": {},
   "outputs": [],
   "source": [
    "print('o valor máximo é ', np.max(data))\n",
    "print('o índice do valor máximo é ', np.argmax(data))"
   ]
  },
  {
   "cell_type": "markdown",
   "metadata": {},
   "source": [
    "### Exercício 5. <a name=\"back5\"></a>Mês mais próximo de 15 graus\n",
    "Encontre o mês em que a temperatura média mensal na Holanda é mais próxima de 15 graus. Aplique a abordagem descrita acima fazendo um loop através de todos os valores e use um comando `if` dentro do loop. Você também pode querer usar a função `abs` para calcular o valor absoluto de um número. Verifique sua resposta usando um método alternativo que não exija um loop e um comando `if`."
   ]
  },
  {
   "cell_type": "code",
   "execution_count": null,
   "metadata": {},
   "outputs": [],
   "source": []
  },
  {
   "cell_type": "markdown",
   "metadata": {},
   "source": [
    "<a href=\"#ex5answer\">Resposta para o Exercício 5</a>"
   ]
  },
  {
   "cell_type": "markdown",
   "metadata": {},
   "source": [
    "### Loops aninhados\n",
    "Também é possível ter loops dentro de loops. Estes são chamados de loops aninhados. Por exemplo, considere a matriz (em inglês, matriz corresponde a array bidimensional) `data` com 3 linhas e 4 colunas mostradas abaixo. Queremos calcular a soma dos valores em cada linha e vamos fazer isso usando um loop duplo. Primeiro, criamos uma matriz de zeros chamada `rowtotal` de comprimento 3 (um valor para cada linha da matriz `data`). Em seguida, passamos por cada linha. Para cada linha dentro do loop, iniciamos outro loop que passa por todas as colunas e adiciona o valor à matriz rowtotal dessa linha."
   ]
  },
  {
   "cell_type": "code",
   "execution_count": null,
   "metadata": {},
   "outputs": [],
   "source": [
    "data = np.array([[1, 2, 3, 5],\n",
    "                 [4, 8, 6, 4],\n",
    "                 [3, 5, 4, 6]])\n",
    "rowtotal = np.zeros(3)\n",
    "for irow in range(3):\n",
    "    for jcol in range(4):\n",
    "        rowtotal[irow] += data[irow, jcol]\n",
    "        #alternativa mais longa:\n",
    "        #rowtotal[irow] = rowtotal[irow] + data[irow,jcol]\n",
    "print(rowtotal)"
   ]
  },
  {
   "cell_type": "markdown",
   "metadata": {},
   "source": [
    "Depois de executar o código acima, primeiro verifique se a resposta está correta. Em seguida, observe que é importante definir os valores de `rowtotal` como 0 antes de iniciar os loops, conforme adicionamos a esses valores para então calcular a soma de cada linha. No código, usamos dois loops, então indentamos duas vezes."
   ]
  },
  {
   "cell_type": "markdown",
   "metadata": {},
   "source": [
    "### `break` e `while`\n",
    "Uma tarefa comum é encontrar a posição de um valor em uma tabela classificada (e.g., uma lista ou um array).\n",
    "Por exemplo, determine entre quais dois números o número 6 cai na sequência ordenada `[1, 4, 5, 8, 9]`.\n",
    "Eu sei, é entre `5` e `8`, mas e se a lista for longa? Então você realmente quer uma rotina para fazer isso.\n",
    "Para encontrar a posição na lista, precisamos percorrer a lista e sair do loop assim que encontrarmos a posição. Para isso, o Python tem o comando `break`"
   ]
  },
  {
   "cell_type": "code",
   "execution_count": null,
   "metadata": {},
   "outputs": [],
   "source": [
    "x = [1, 4, 5, 8, 9]\n",
    "a = 6\n",
    "for i in range(len(x)):\n",
    "    if a < x[i]:\n",
    "        break\n",
    "print('a está entre', x[i-1], 'e', x[i])"
   ]
  },
  {
   "cell_type": "markdown",
   "metadata": {},
   "source": [
    "Existe outra maneira de codificar isso usando um loop `while`. Vamos primeiro olhar o loop `while` para o mesmo código acima"
   ]
  },
  {
   "cell_type": "code",
   "execution_count": null,
   "metadata": {},
   "outputs": [],
   "source": [
    "x = [1, 4, 5, 8, 9]\n",
    "a = 6\n",
    "i = 0\n",
    "while a >= x[i]:\n",
    "    i = i + 1\n",
    "print('a está entre', x[i-1], 'e', x[i])"
   ]
  },
  {
   "cell_type": "markdown",
   "metadata": {},
   "source": [
    "No loop `while`, a comparação é feita no início do loop, enquanto o contador (neste caso,`i`) é atualizado dentro do loop. Um loop com `break` ou com `while` e um contador funciona bem, mas loops `while` podem ser complicados em alguns casos, pois podem resultar em loops infinitos quando você tem um erro em seu código. Quando estiver em um loop infinito (que nunca para), clique no item [Kernel] do menu na parte superior da janela e selecione [Restart]. Isso encerrará sua sessão do Python e iniciará uma nova. Quando você imprime algo na tela em seu loop `while`, pode não ser possível sair do loop e pode ser necessário encerrar sua sessão Jupyter (e potencialmente perder parte do seu trabalho)."
   ]
  },
  {
   "cell_type": "markdown",
   "metadata": {},
   "source": [
    "### Strings\n",
    "Strings são um tipo de dados muito versáteis e podemos facilmente gastar um Notebook inteiro em strings.\n",
    "Nós só faremos uso limitado de strings, então mantemos o tratamento aqui no mínimo. Já usamos strings para especificar nomes ao longo de eixos de um gráfico ou na legenda de um gráfico. As strings são como enuplas em que cada caractere em string possui um índice. Cada caractere ou intervalo de caracteres pode ser acessado, assim como para as enuplas, mas eles não podem ser alterados. Uma string também tem um comprimento."
   ]
  },
  {
   "cell_type": "code",
   "execution_count": 39,
   "metadata": {},
   "outputs": [
    {
     "name": "stdout",
     "output_type": "stream",
     "text": [
      "15\n",
      "B\n",
      "Bom Dia a to\n"
     ]
    }
   ],
   "source": [
    "text1 = 'Bom Dia a todos'\n",
    "print(len(text1))\n",
    "print(text1[0])\n",
    "print(text1[0:12])"
   ]
  },
  {
   "cell_type": "markdown",
   "metadata": {},
   "source": [
    "Quando você adiciona duas strings, elas são coladas, assim como as listas. Quando você quer combinar texto com uma variável, primeiro você precisa mudar a variável para uma string e então adicionar as duas strings"
   ]
  },
  {
   "cell_type": "code",
   "execution_count": 53,
   "metadata": {},
   "outputs": [
    {
     "name": "stdout",
     "output_type": "stream",
     "text": [
      "Bom Dia a todos na aula\n",
      "O número mágico é 7\n"
     ]
    }
   ],
   "source": [
    "newtext = text1 + ' na aula'  # Adicionando duas strings\n",
    "print(newtext)\n",
    "a = 7\n",
    "mes = 'O número mágico é ' + str(a)  # Combinando strings e números\n",
    "print(mes)"
   ]
  },
  {
   "cell_type": "markdown",
   "metadata": {},
   "source": [
    "Comparações funcionam em strings como se trabalhassem em números. A comparação começa com o primeiro caractere em uma string e só vai para o próximo caractere quando os primeiros caracteres de ambas as strings forem iguais. A letra 'a' é menor que 'b', 'b' é menor que 'c', etc. Mas tenha cuidado, na ordem das coisas, os caracteres maiúsculos são menores que todos os caracteres minúsculos! Portanto, 'A' é menor que 'a', mas também 'm' ou qualquer outro caractere minúsculo. Certifique-se de entender as seguintes declarações"
   ]
  },
  {
   "cell_type": "code",
   "execution_count": null,
   "metadata": {
    "scrolled": true
   },
   "outputs": [],
   "source": [
    "print('del' < 'eind')  # Verdadeiro como 'd' é menor que 'e'\n",
    "print('dal' < 'del')      # Verdadeiro como 'a' é menor que 'e'\n",
    "print('del' == 'Del')     # Falso como maiúsculas e minúsculas não são iguais\n",
    "print('Del' < 'del')      # Verdadeiro como 'D' é menor que 'd'\n",
    "print('del' > 'Eind')  # Também verdadeiro, como 'd' é maior que 'E' ou qualquer outro caractere maiúsculo"
   ]
  },
  {
   "cell_type": "markdown",
   "metadata": {},
   "source": [
    "Strings podem ser convertidas em maiúsculas ou minúsculas"
   ]
  },
  {
   "cell_type": "code",
   "execution_count": null,
   "metadata": {},
   "outputs": [],
   "source": [
    "puc = 'Pontifícia Universidade Católica'\n",
    "print(puc)\n",
    "print(puc.lower())\n",
    "print(puc.upper())"
   ]
  },
  {
   "cell_type": "markdown",
   "metadata": {},
   "source": [
    "Uma string que consiste em múltiplas palavras pode ser convertida em uma lista de palavras usando `split`"
   ]
  },
  {
   "cell_type": "code",
   "execution_count": 40,
   "metadata": {},
   "outputs": [
    {
     "name": "stdout",
     "output_type": "stream",
     "text": [
      "Esta é a frase:\n",
      "Esta é uma frase contendo um número de palavras\n",
      "Esta é a frase dividida:\n",
      "['Esta', 'é', 'uma', 'frase', 'contendo', 'um', 'número', 'de', 'palavras']\n",
      "Todas as palavras podem ser impressas separadamente:\n",
      "Esta\n",
      "é\n",
      "uma\n",
      "frase\n",
      "contendo\n",
      "um\n",
      "número\n",
      "de\n",
      "palavras\n"
     ]
    }
   ],
   "source": [
    "sentence = 'Esta é uma frase contendo um número de palavras'\n",
    "print('Esta é a frase:')\n",
    "print(sentence)\n",
    "wordlist = sentence.split()\n",
    "print('Esta é a frase dividida:')\n",
    "print(wordlist)\n",
    "print('Todas as palavras podem ser impressas separadamente:')\n",
    "for word in wordlist:\n",
    "    print(word)"
   ]
  },
  {
   "cell_type": "markdown",
   "metadata": {},
   "source": [
    "### Exercício 6. <a name=\"back6\"></a>Encontre a posição do seu nome em uma lista\n",
    "Use um loop para descobrir, entre os quais dois nomes seu nome cai na lista\n",
    "`['Aaldrich', 'Babette', 'Chris', 'Franka', 'Joe', 'Louisa', 'Pierre', 'Simone', 'Tarek', 'Yvonne', 'Zu']` e imprima o resultado na tela."
   ]
  },
  {
   "cell_type": "code",
   "execution_count": null,
   "metadata": {},
   "outputs": [],
   "source": []
  },
  {
   "cell_type": "markdown",
   "metadata": {},
   "source": [
    "<a href=\"#ex6answer\">Resposta para o Exercício 6</a>"
   ]
  },
  {
   "cell_type": "markdown",
   "metadata": {},
   "source": [
    "### Exercício 7, <a name=\"back7\"></a>Dados do petróleo\n",
    "O arquivo `preco-oleo-mensal.tsv` contém o preço mensal do petróleo desde 1985. O arquivo contém três colunas: ano, mês, preço em euros (do site do banco europeu). Faça um gráfico do preço do petróleo (coloque números ao longo do eixo horizontal; aprenderemos a fazer datas em outro notebook) e determine o mês e ano em que o preço do petróleo subiu acima de 40 euros, acima de 60 euros e acima de 80 euros. Você precisa escrever na tela algo como `O preço do petróleo supera 40 euros pela primeira vez no mês xx do ano aaaa`, em que `xx` e `yyyy` são o mês e o ano corretos. Use um loop duplo. Você pode modificar o código de modo que ele não imprima o número do mês, mas o nome do mês?"
   ]
  },
  {
   "cell_type": "code",
   "execution_count": null,
   "metadata": {},
   "outputs": [],
   "source": []
  },
  {
   "cell_type": "markdown",
   "metadata": {},
   "source": [
    "<a href=\"#ex6answer\">Resposta do Exercício 7</a>"
   ]
  },
  {
   "cell_type": "markdown",
   "metadata": {},
   "source": [
    "### Respostas para os exercícios"
   ]
  },
  {
   "cell_type": "markdown",
   "metadata": {},
   "source": [
    "<a name=\"ex1answer\">Resposta do Exercício 1</a>"
   ]
  },
  {
   "cell_type": "code",
   "execution_count": 17,
   "metadata": {},
   "outputs": [
    {
     "name": "stdout",
     "output_type": "stream",
     "text": [
      "O número de dias em Janeiro é 31\n",
      "O número de dias em Fevereiro é 28\n",
      "O número de dias em Março é 31\n",
      "O número de dias em Abril é 30\n",
      "O número de dias em Maio é 31\n",
      "O número de dias em Junho é 30\n",
      "O número de dias em Julho é 31\n",
      "O número de dias em Agosto é 31\n",
      "O número de dias em Setembro é 30\n",
      "O número de dias em Outubro é 31\n",
      "O número de dias em Novembro é 30\n",
      "O número de dias em Dezembr0 é 31\n"
     ]
    }
   ],
   "source": [
    "meses = ['Janeiro', 'Fevereiro', 'Março', 'Abril',\\\n",
    "          'Maio','Junho', 'Julho', 'Agosto', 'Setembro',\\\n",
    "          'Outubro', 'Novembro', 'Dezembr0']\n",
    "dias = [31, 28, 31, 30, 31, 30, 31, 31, 30, 31, 30, 31]\n",
    "for i in range(12):\n",
    "    print('O número de dias em', meses[i], 'é', dias[i])"
   ]
  },
  {
   "cell_type": "markdown",
   "metadata": {},
   "source": [
    "<a href=\"#back1\">Voltar para o Exercício 1</a>\n",
    "\n",
    "<a name=\"ex2answer\">Resposta do Exercício 2</a>"
   ]
  },
  {
   "cell_type": "code",
   "execution_count": 18,
   "metadata": {},
   "outputs": [
    {
     "data": {
      "image/png": "[encoded data removed]",
      "text/plain": [
       "<Figure size 432x288 with 1 Axes>"
      ]
     },
     "metadata": {},
     "output_type": "display_data"
    }
   ],
   "source": [
    "x = np.linspace(-2 * np.pi, 2 * np.pi, 100)\n",
    "y = np.zeros_like(x)\n",
    "for i in range(100):\n",
    "    if x[i] < 0:\n",
    "        y[i] = np.cos(x[i])\n",
    "    else:\n",
    "        y[i] = np.exp(-x[i])\n",
    "plt.plot(x, y)\n",
    "plt.xlim(-2 * np.pi, 2 * np.pi);"
   ]
  },
  {
   "cell_type": "markdown",
   "metadata": {},
   "source": [
    "<a href=\"#back2\">Voltar para o Exercício 2</a>\n",
    "\n",
    "<a name=\"ex3answer\">Resposta do Exercício 3</a>"
   ]
  },
  {
   "cell_type": "code",
   "execution_count": 26,
   "metadata": {},
   "outputs": [
    {
     "name": "stdout",
     "output_type": "stream",
     "text": [
      "temperatura média mensal no mês 1 é menos de 10 graus\n",
      "temperatura média mensal no mês 2 é menos de 10 graus\n",
      "temperatura média mensal no mês 3 é menos de 10 graus\n",
      "temperatura média mensal no mês 4 é menos de 10 graus\n",
      "temperatura média mensal no mês 5 é mais de 10 graus\n",
      "temperatura média mensal no mês 6 é mais de 10 graus\n",
      "temperatura média mensal no mês 7 é mais de 10 graus\n",
      "temperatura média mensal no mês 8 é mais de 10 graus\n",
      "temperatura média mensal no mês 9 é mais de 10 graus\n",
      "temperatura média mensal no mês 10 é mais de 10 graus\n",
      "temperatura média mensal no mês 11 é menos de 10 graus\n",
      "temperatura média mensal no mês 12 é menos de 10 graus\n"
     ]
    }
   ],
   "source": [
    "temperature = np.loadtxt('holanda-temperatura.tsv')\n",
    "for i in range(len(temperature)):\n",
    "    if temperature[i] < 10:\n",
    "        print('temperatura média mensal no mês', i+1, 'é menos de 10 graus')\n",
    "    else:\n",
    "        print('temperatura média mensal no mês', i+1, 'é mais de 10 graus')"
   ]
  },
  {
   "cell_type": "markdown",
   "metadata": {},
   "source": [
    "<a href=\"#back3\">Voltar para o Exercício 3</a>\n",
    "\n",
    "<a name=\"ex4answer\">Resposta do Exercício 4</a>"
   ]
  },
  {
   "cell_type": "code",
   "execution_count": 25,
   "metadata": {},
   "outputs": [
    {
     "name": "stdout",
     "output_type": "stream",
     "text": [
      "valores de dados: [1 3 2 5 7 3 4 2]\n",
      "execução total: [ 1  4  6 11 18 21 25 27]\n",
      "execução total com numpy: [ 1  4  6 11 18 21 25 27]\n"
     ]
    }
   ],
   "source": [
    "data = np.array([1, 3, 2, 5, 7, 3, 4, 2])\n",
    "runningtotal = np.zeros_like(data)\n",
    "runningtotal[0] = data[0]\n",
    "for i in range(1, len(data)):\n",
    "    runningtotal[i] = runningtotal[i-1] + data[i]\n",
    "print('valores de dados:', data)\n",
    "print('execução total:', runningtotal)\n",
    "print('execução total com numpy:', np.cumsum(data))"
   ]
  },
  {
   "cell_type": "markdown",
   "metadata": {},
   "source": [
    "<a href=\"#back4\">Voltar para o Exercício 4</a>\n",
    "\n",
    "<a name=\"ex5answer\">Resposta do Exercício 5</a>"
   ]
  },
  {
   "cell_type": "code",
   "execution_count": 41,
   "metadata": {},
   "outputs": [
    {
     "name": "stdout",
     "output_type": "stream",
     "text": [
      "[ 3.1  3.3  6.2  9.2 13.1 15.6 17.9 17.5 14.5 10.7  6.7  3.7]\n",
      "Número do mês mais próximo de 15 graus, temp:  9 14.5\n",
      "Método alternativo:\n",
      "Número do mês mais próximo de 15 graus, temp:  9 14.5\n"
     ]
    }
   ],
   "source": [
    "temperature = np.loadtxt('holanda-temperatura.tsv')\n",
    "print(temperature)\n",
    "monthindex = -1\n",
    "tdiff = 100.0\n",
    "for i in range(12):\n",
    "    if abs(temperature[i] - 15) < tdiff:\n",
    "        monthindex = i\n",
    "        tdiff = abs(temperature[i] - 15)\n",
    "print('Número do mês mais próximo de 15 graus, temp: ', monthindex + 1, temperature[monthindex])\n",
    "print('Método alternativo:')\n",
    "altmin = np.argmin(abs(temperature - 15))\n",
    "print('Número do mês mais próximo de 15 graus, temp: ', altmin + 1, temperature[altmin])"
   ]
  },
  {
   "cell_type": "markdown",
   "metadata": {},
   "source": [
    "<a href=\"#back5\">Voltar para o Exercício 5</a>\n",
    "\n",
    "<a name=\"ex6answer\">Resposta do Exercício 6</a>"
   ]
  },
  {
   "cell_type": "code",
   "execution_count": 42,
   "metadata": {},
   "outputs": [
    {
     "name": "stdout",
     "output_type": "stream",
     "text": [
      "Mark está entre Louisa e Pierre\n"
     ]
    }
   ],
   "source": [
    "x = ['Aaldrich', 'Babette', 'Chris', 'Franka', 'Joe', 'Louisa', 'Pierre', 'Simone', 'Tarek', 'Yvonne', 'Zu']\n",
    "myname = 'Mark'\n",
    "for i in range(len(x)):\n",
    "    if myname < x[i]:\n",
    "        break\n",
    "print(myname, 'está entre', x[i-1], 'e', x[i])"
   ]
  },
  {
   "cell_type": "markdown",
   "metadata": {},
   "source": [
    "<a href=\"#back6\">Voltar para o Exercício 6</a>\n",
    "\n",
    "<a name=\"ex7answer\">Resposta do Exercício 7</a>"
   ]
  },
  {
   "cell_type": "code",
   "execution_count": 45,
   "metadata": {},
   "outputs": [
    {
     "name": "stdout",
     "output_type": "stream",
     "text": [
      "O preço do petróleo supera  40 euros pela primeira vez em Abril de 2005\n",
      "O preço do petróleo supera  60 euros pela primeira vez em Dezembro de 2007\n",
      "O preço do petróleo supera  80 euros pela primeira vez em Junho de 2008\n"
     ]
    },
    {
     "data": {
      "image/png": "[encoded data removed]",
      "text/plain": [
       "<Figure size 432x288 with 1 Axes>"
      ]
     },
     "metadata": {},
     "output_type": "display_data"
    }
   ],
   "source": [
    "oilprice = np.loadtxt('preco-oleo-mensal.tsv', delimiter=',')\n",
    "plt.plot(oilprice[:,2], 'b-')\n",
    "nrow, ncol = oilprice.shape\n",
    "months = ['Janeiro', 'Fevereiro', 'Março', 'Abril',\\\n",
    "          'Maio','Junho', 'Julho', 'Agosto', 'Setembro',\\\n",
    "          'October', 'Novembro', 'Dezembro']\n",
    "for price in [40, 60, 80]:\n",
    "    for i in range(nrow):\n",
    "        if oilprice[i, 2] > price:\n",
    "            print('O preço do petróleo supera', price, 'euros pela primeira vez em', \\\n",
    "                  months[int(oilprice[i, 1])], 'de', int(oilprice[i, 0]))\n",
    "            break"
   ]
  },
  {
   "cell_type": "markdown",
   "metadata": {},
   "source": [
    "<a href=\"#back7\">Voltar para o Exercício 7</a>"
   ]
  },
  {
   "cell_type": "markdown",
   "metadata": {},
   "source": [
    "sophia marx"
   ]
  }
 ],
 "metadata": {
  "kernelspec": {
   "display_name": "Python 2",
   "language": "python",
   "name": "python2"
  },
  "language_info": {
   "codemirror_mode": {
    "name": "ipython",
    "version": 3
   },
   "file_extension": ".py",
   "mimetype": "text/x-python",
   "name": "python",
   "nbconvert_exporter": "python",
   "pygments_lexer": "ipython3",
   "version": "3.6.4"
  }
 },
 "nbformat": 4,
 "nbformat_minor": 1
}
