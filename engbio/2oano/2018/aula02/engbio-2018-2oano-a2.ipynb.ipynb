{
 "cells": [
  {
   "cell_type": "markdown",
   "metadata": {},
   "source": [
    "<figure>\n",
    "  <IMG SRC=\"http://www.pucsp.br/sites/default/files/download/brasao-PUCSP-assinatura-principal-RGB.png\" WIDTH=75 ALIGN=\"right\">\n",
    "</figure>\n",
    "\n",
    "# Lógica de Programação em Python\n",
    "## (Revisão)"
   ]
  },
  {
   "cell_type": "markdown",
   "metadata": {},
   "source": [
    "## Semana 1 - aula 2"
   ]
  },
  {
   "cell_type": "markdown",
   "metadata": {},
   "source": [
    "## loops `for` e instruções `if/else`\n",
    "Como estaremos novamente usando `numpy` e `matplotlib`, começamos importando-os"
   ]
  },
  {
   "cell_type": "code",
   "execution_count": 7,
   "metadata": {},
   "outputs": [],
   "source": [
    "import matplotlib.pyplot as plt\n",
    "import numpy as np\n",
    "%matplotlib inline"
   ]
  },
  {
   "cell_type": "markdown",
   "metadata": {},
   "source": [
    "### O loop `for`\n",
    "Os loops são usados para executar um comando repetidamente. A sintaxe de um loop é a seguinte"
   ]
  },
  {
   "cell_type": "code",
   "execution_count": 8,
   "metadata": {},
   "outputs": [
    {
     "name": "stdout",
     "output_type": "stream",
     "text": [
      "Hello world 0\n",
      "Hello world 1\n",
      "Hello world 2\n",
      "Hello world 3\n",
      "Hello world 4\n"
     ]
    }
   ],
   "source": [
    "for i in [0, 1, 2, 3, 4]:\n",
    "    print('Hello world', i)"
   ]
  },
  {
   "cell_type": "markdown",
   "metadata": {},
   "source": [
    "Na primeira vez, o valor de `i` é igual a` 0`, na segunda vez, seu valor é `1` e assim por diante até a última vez que seu valor é` 4`.\n",
    "\n",
    "Observe a sintaxe de um loop `for`. No final da instrução `for` você precisa colocar dois pontos (`: `) e depois disso você precisa indentar. Não importa quantos espaços você indente, contanto que você continue usando o mesmo número de espaços para o loop `for` inteiro. O Jupyter Notebooks automaticamente indenta 4 espaços, o que é considerado um bom estilo para Python, então use isso. Você pode ter quantas linhas de código quiser dentro do loop `for`. Para finalizar o loop `for`, simplesmente pare de indentar."
   ]
  },
  {
   "cell_type": "code",
   "execution_count": 9,
   "metadata": {},
   "outputs": [
    {
     "name": "stdout",
     "output_type": "stream",
     "text": [
      "x, xquadrado 0 0\n",
      "x, xquadrado 1 1\n",
      "x, xquadrado 2 4\n",
      "x, xquadrado 3 9\n",
      "Nós terminamos com o loop\n"
     ]
    }
   ],
   "source": [
    "for x in [0, 1, 2, 3]: \n",
    "    xsquared = x ** 2\n",
    "    print('x, xquadrado', x, xsquared)\n",
    "print('Nós terminamos com o loop')"
   ]
  },
  {
   "cell_type": "markdown",
   "metadata": {},
   "source": [
    "A lista de valores para percorrer pode ser de qualquer coisa. Não precisa nem ser números. O loop `for` simplesmente passa por todos os valores da lista, um por um:"
   ]
  },
  {
   "cell_type": "code",
   "execution_count": 13,
   "metadata": {},
   "outputs": [
    {
     "name": "stdout",
     "output_type": "stream",
     "text": [
      "o valor dos dados é: 20\n",
      "o valor dos dados é: mark\n",
      "o valor dos dados é: 3.1622776601683795\n"
     ]
    }
   ],
   "source": [
    "for data in [20, 'mark', np.sqrt(10)]:\n",
    "    print('o valor dos dados é:', data)"
   ]
  },
  {
   "cell_type": "markdown",
   "metadata": {},
   "source": [
    "É claro que é bastante inconveniente ter que especificar uma lista para percorrer quando a lista é muito longa. Por exemplo, se você quiser fazer algo 100 vezes, não quer digitar uma lista de valores de 0 a 100. Mas o Python tem uma função conveniente chamada `range`. Você pode percorrer um `range` exatamente como pode percorrer uma lista. Para fazer loop 10 vezes, começando com o valor '0':"
   ]
  },
  {
   "cell_type": "code",
   "execution_count": 14,
   "metadata": {},
   "outputs": [
    {
     "name": "stdout",
     "output_type": "stream",
     "text": [
      "o valor de i é: 0\n",
      "o valor de i é: 1\n",
      "o valor de i é: 2\n",
      "o valor de i é: 3\n",
      "o valor de i é: 4\n",
      "o valor de i é: 5\n",
      "o valor de i é: 6\n",
      "o valor de i é: 7\n",
      "o valor de i é: 8\n",
      "o valor de i é: 9\n"
     ]
    }
   ],
   "source": [
    "for i in range(10):\n",
    "    print('o valor de i é:', i)"
   ]
  },
  {
   "cell_type": "markdown",
   "metadata": {},
   "source": [
    "Um `range` pode ser convertido em uma lista com a função` list`. Você pode chamar `range` com apenas um argumento, caso em que irá gerar um intervalo de 0 até o número especificado, mas não incluindo este número. Note que `range (10)` produz 10 números de 0 até e incluindo o 9. Você pode, opcionalmente, dar um valor inicial e um passo, similar à função `np.arange`."
   ]
  },
  {
   "cell_type": "code",
   "execution_count": 15,
   "metadata": {},
   "outputs": [
    {
     "name": "stdout",
     "output_type": "stream",
     "text": [
      "um intervalo com 10 valores: [0, 1, 2, 3, 4, 5, 6, 7, 8, 9]\n",
      "um intervalo de 10 a 20 [10, 11, 12, 13, 14, 15, 16, 17, 18, 19]\n",
      "um intervalo de 10 a 20 com passos de 2: [10, 12, 14, 16, 18]\n"
     ]
    }
   ],
   "source": [
    "print('um intervalo com 10 valores:', list(range(10)))\n",
    "print('um intervalo de 10 a 20', list(range(10, 20)))\n",
    "print('um intervalo de 10 a 20 com passos de 2:', list(range(10, 20, 2)))"
   ]
  },
  {
   "cell_type": "markdown",
   "metadata": {},
   "source": [
    "Um loop pode ser usado para preencher um array. Vamos calcular $y=\\cos(x)$ onde $x$ é um array que varia de 0 a $2\\pi$ com 100 pontos. Já sabemos, é claro, que isso pode ser feito com a declaração `y=cos(x)`. Às vezes isso não é possível, no entanto, e é preciso preencher um array com um loop. \n",
    "\n",
    "Em primeiro lugar, temos que criar o array `y` (por exemplo preenchida com zeros usando a função `zeros_like`) e depois preenchê-lo com os valores corretos percorrendo através de todos os valores de `x`, de modo que o índice vai desde `0` até o comprimento do array `x`. O contador no loop (a variável `i` no código abaixo) é usado como o índice do array que é preenchido."
   ]
  },
  {
   "cell_type": "code",
   "execution_count": 16,
   "metadata": {},
   "outputs": [
    {
     "data": {
      "image/png": "[encoded data removed]",
      "text/plain": [
       "<Figure size 432x288 with 1 Axes>"
      ]
     },
     "metadata": {},
     "output_type": "display_data"
    }
   ],
   "source": [
    "x = np.linspace(0, 2 * np.pi, 100)\n",
    "y = np.zeros_like(x)  # semelhante a zeros(forma(x))\n",
    "for i in range(len(x)):\n",
    "    y[i] = np.cos(x[i])\n",
    "plt.plot(x, y);"
   ]
  },
  {
   "cell_type": "markdown",
   "metadata": {},
   "source": [
    "Loops são construções muito úteis em um script de programação. Sempre que você precisar fazer um cálculo várias vezes, você deve pensar automaticamente: *loop !*"
   ]
  },
  {
   "cell_type": "markdown",
   "metadata": {},
   "source": [
    "### Exercício 1. <a name=\"back1\"></a>Primeiro loop `for` \n",
    "Crie uma lista com os nomes dos meses. Crie uma segunda lista com o número de dias em cada mês (para um ano normal). Crie um loop `for` que imprime:\n",
    "\n",
    "`O número de dias em MÊS é de XX dias`\n",
    "\n",
    "onde, é claro, você imprime o nome correto do mês para \"MÊS\" e o número correto de dias para \"XX\"."
   ]
  },
  {
   "cell_type": "code",
   "execution_count": null,
   "metadata": {},
   "outputs": [],
   "source": []
  },
  {
   "cell_type": "markdown",
   "metadata": {},
   "source": [
    "<a href=\"#ex1answer\">Resposta para o Exercício 1</a>"
   ]
  },
  {
   "cell_type": "markdown",
   "metadata": {},
   "source": [
    "### A declaração `if` \n",
    "Uma declaração `if` permite executar uma tarefa somente quando o resultado desta declaração for verdadeiro. \n",
    "Por exemplo"
   ]
  },
  {
   "cell_type": "code",
   "execution_count": 19,
   "metadata": {},
   "outputs": [
    {
     "name": "stdout",
     "output_type": "stream",
     "text": [
      "valor inicial: 4\n",
      "alterando dados na primeira declaração if\n",
      "valor após a primeira declaração if: 6\n",
      "valor após a segunda declaração if: 6\n"
     ]
    }
   ],
   "source": [
    "data = 4\n",
    "print('valor inicial:', data)\n",
    "if data < 6:\n",
    "    print('alterando dados na primeira declaração if')\n",
    "    data = data + 2\n",
    "print('valor após a primeira declaração if:', data)\n",
    "if data > 20:\n",
    "    print('alterando dados na segunda if')\n",
    "    data = 200\n",
    "print('valor após a segunda declaração if:', data)  # os dados não foram alterados porque os dados não são maiores que 20"
   ]
  },
  {
   "cell_type": "markdown",
   "metadata": {},
   "source": [
    "Notice the syntax of the `if` statement. It starts with `if` followed by a statement that is either `True` or `False` and then a colon. After the colon, you need to indent and the entire indented code block (in this case 2 lines of code) is executed if the statement is `True`. The `if` statement is completed when you stop indenting. Recall from Notebook 2 that you can use larger than `>`, larger than or equal '>=', equal `==`, smaller than or equal `<=`, smaller than `<` or not equal `!=`.  Observe a sintaxe da declaração `if`. Ela começa com `if` seguido por uma instrução que é `True` ou `False` e, em seguida, dois pontos. Após os dois pontos, você precisa indentar e todo o bloco de código indent(neste caso, 2 linhas de código) é executado se a instrução for `True`. A instrução `if` é concluída quando você para o recuo. Lembre-se do Notebook 2 que você pode usar maior que `>`, maior que ou igual a '> =', igual a `==`, menor que ou igual a `<=`, menor que `<` ou diferente de `! =` ."
   ]
  },
  {
   "cell_type": "markdown",
   "metadata": {},
   "source": [
    "### The `if`/`else` statement\n",
    "The `if` statement may be followed by an `else` statement, which is executed when the condition after `if` is `False`. For example"
   ]
  },
  {
   "cell_type": "code",
   "execution_count": null,
   "metadata": {},
   "outputs": [],
   "source": [
    "a = 4\n",
    "if a < 3:\n",
    "    print('a is smaller than 3')\n",
    "else:\n",
    "    print('a is not smaller than 3')"
   ]
  },
  {
   "cell_type": "markdown",
   "metadata": {},
   "source": [
    "You can even extend the `else` by adding one or more conditions with the `elif` command which is short for 'else if'"
   ]
  },
  {
   "cell_type": "code",
   "execution_count": null,
   "metadata": {},
   "outputs": [],
   "source": [
    "a = 4\n",
    "if a < 4:\n",
    "    print('a is smaller than 4')\n",
    "elif a > 4:\n",
    "    print('a is larger than 4')\n",
    "else:\n",
    "    print('a is equal to 4')"
   ]
  },
  {
   "cell_type": "markdown",
   "metadata": {},
   "source": [
    "Rather than specifying the value of a variable at the top of the code cell, you can ask the user to enter a value and store that value in the variable using the `input` function. The `input` function returns a string that can be converted into a number with the `float` function. Run the code cell below multiple times to see if it works when the entered value is larger than 4, smaller than 4, or equal to 4."
   ]
  },
  {
   "cell_type": "code",
   "execution_count": null,
   "metadata": {},
   "outputs": [],
   "source": [
    "a = float(input('Enter a value: '))\n",
    "if a < 4:\n",
    "    print('the entered value is smaller than 4')\n",
    "elif a > 4:\n",
    "    print('the entered value is larger than 4')\n",
    "else:\n",
    "    print('the entered value is equal to 4')"
   ]
  },
  {
   "cell_type": "markdown",
   "metadata": {},
   "source": [
    "### Exercise 2. <a name=\"back2\"></a>Combination of `for` loop with `if` statement\n",
    "Consider the function\n",
    "\n",
    "$\\begin{split}\n",
    "y &= \\cos(x) \\qquad \\text{for} \\qquad x < 0 \\\\\n",
    "y &= \\exp(-x) \\qquad \\text{for} \\qquad x \\ge 0 \\\\\n",
    "\\end{split}$\n",
    "\n",
    "Compute $y$ for $x$ going from $-2\\pi$ to $2\\pi$ with 100 points and make a graph. Make sure the limits of the $x$-axis are from $-2\\pi$ to $2\\pi$."
   ]
  },
  {
   "cell_type": "code",
   "execution_count": null,
   "metadata": {},
   "outputs": [],
   "source": []
  },
  {
   "cell_type": "markdown",
   "metadata": {},
   "source": [
    "<a href=\"#ex2answer\">Answer for Exercise 2</a>"
   ]
  },
  {
   "cell_type": "markdown",
   "metadata": {},
   "source": [
    "### Exercise 3. <a name=\"back3\"></a>Load and loop through temperature data\n",
    "Load the temperature data for Holland from the data file (`holland_temperature.dat`). Loop through all monthly temperatures and print a message that includes the month number and states whether the monthly average temperature is above or below 10 degrees"
   ]
  },
  {
   "cell_type": "code",
   "execution_count": null,
   "metadata": {},
   "outputs": [],
   "source": []
  },
  {
   "cell_type": "markdown",
   "metadata": {},
   "source": [
    "<a href=\"#ex3answer\">Answer for Exercise 3</a>"
   ]
  },
  {
   "cell_type": "markdown",
   "metadata": {},
   "source": [
    "### Looping and summation\n",
    "One application of a loop is to compute the sum of all the values in an array. Consider, for example, the array `data` with 8 values. We will compute the sum of all values in `data`. We first define a variable `datasum` and assign it the value 0. Next, we loop through all the values in `data` and add the value to `datasum`:"
   ]
  },
  {
   "cell_type": "code",
   "execution_count": null,
   "metadata": {},
   "outputs": [],
   "source": [
    "data = np.array([1, 3, 2, 5, 7, 3, 4, 2])\n",
    "datasum = 0\n",
    "for i in range(len(data)):\n",
    "    datasum = datasum + data[i]\n",
    "    print('i, datasum: ', i, datasum)\n",
    "print('total sum of data: ', datasum)"
   ]
  },
  {
   "cell_type": "markdown",
   "metadata": {},
   "source": [
    "Note that the statement \n",
    "\n",
    "`datasum = datasum + data[i]` \n",
    "\n",
    "means that `data[i]` is added to the current value of `datasum` and that the result is assigned to `datasum`. There is actually a shorter syntax for the same statement: \n",
    "\n",
    "`datasum += data[i]`\n",
    "\n",
    "The `+=` command means: add whatever is on the right side of the `+=` sign to whatever is on the left side. You can use whichever syntax you are most comfortable with (although `+=` is considered to be better and in some cases more efficient)."
   ]
  },
  {
   "cell_type": "markdown",
   "metadata": {},
   "source": [
    "### Exercise 4.  <a name=\"back4\"></a>Running total\n",
    "For the data of the previous example, compute the running total and store it in an array using a loop. Hence, the result should be an array with the same length as `data` where item `i` is the sum of all values in the array `data` up to and including `data[i]`. Print both the array `data` and the array with the running total to the screen. Finally, check your answer by using the `cumsum` function of `numpy`, which should give the same answer as your loop."
   ]
  },
  {
   "cell_type": "code",
   "execution_count": null,
   "metadata": {},
   "outputs": [],
   "source": []
  },
  {
   "cell_type": "markdown",
   "metadata": {},
   "source": [
    "<a href=\"#ex4answer\">Answer for Exercise 4</a>"
   ]
  },
  {
   "cell_type": "markdown",
   "metadata": {},
   "source": [
    "### Finding the maximum value the hard way\n",
    "Next, let's find the maximum in the array `data` and the index of the maximum value. For illustration purposes, we will do this the hard way by using a loop and an if statement. First, we create a variable `maxvalue` that contains the maximum value and set it initially to a very small number, and a variable `maxindex` that is the index of the maximum value and is initially set to `None`. Then we loop through all values in `data` and update the `maxvalue` and `maxindex` everytime we find a larger value than the current `maxvalue`"
   ]
  },
  {
   "cell_type": "code",
   "execution_count": null,
   "metadata": {},
   "outputs": [],
   "source": [
    "maxvalue = -1e8\n",
    "maxindex = None\n",
    "for i in range(len(data)):\n",
    "    if data[i] > maxvalue:\n",
    "        maxvalue = data[i]\n",
    "        maxindex = i\n",
    "print('the maximum value is ', maxvalue)\n",
    "print('the index of the maximum value is ', maxindex)"
   ]
  },
  {
   "cell_type": "markdown",
   "metadata": {},
   "source": [
    "For this example, it is easy to check whether these numbers are correct by looking at the `data` array. But there are, of course, functions available (in the `numpy` package) to find the maximum value and the index of the maximum value: `np.max` returns the maximum value of an array, and `np.argmax` returns the index of the maximum of the array. There are similar functions for the mimimum value."
   ]
  },
  {
   "cell_type": "code",
   "execution_count": null,
   "metadata": {},
   "outputs": [],
   "source": [
    "print('the maximum value is ', np.max(data))\n",
    "print('the index of the maximum value is ', np.argmax(data))"
   ]
  },
  {
   "cell_type": "markdown",
   "metadata": {},
   "source": [
    "### Exercise 5. <a name=\"back5\"></a>Month closest to 15 degrees\n",
    "Find the month in which the average monthly temperature in Holland is closest to 15 degrees. Apply the approach described above by looping through all values and use an `if` statement inside the loop. You may also want to use the `abs` function to compute the absolute value of a number. Check your answer by using an alternative method that doesn't require a loop and an `if` statement."
   ]
  },
  {
   "cell_type": "code",
   "execution_count": null,
   "metadata": {},
   "outputs": [],
   "source": []
  },
  {
   "cell_type": "markdown",
   "metadata": {},
   "source": [
    "<a href=\"#ex5answer\">Answer for Exercise 5</a>"
   ]
  },
  {
   "cell_type": "markdown",
   "metadata": {},
   "source": [
    "### Nested loops\n",
    "It is also possible to have loops inside loops. These are called nested loops. For example, consider the array `data` with 3 rows and 4 columns shown below. We want to compute the sum of the values in each row and we are going to do this using a double loop. First, we make an array of zeros called `rowtotal` of length 3 (one value for each row of the array `data`). Next, we loop through each row. For each row inside the loop, we start another loop that goes through all the columns and adds the value to the array rowtotal for that row."
   ]
  },
  {
   "cell_type": "code",
   "execution_count": null,
   "metadata": {},
   "outputs": [],
   "source": [
    "data = np.array([[1, 2, 3, 5],\n",
    "                 [4, 8, 6, 4],\n",
    "                 [3, 5, 4, 6]])\n",
    "rowtotal = np.zeros(3)\n",
    "for irow in range(3):\n",
    "    for jcol in range(4):\n",
    "        rowtotal[irow] += data[irow, jcol]\n",
    "        #longer alternative:\n",
    "        #rowtotal[irow] = rowtotal[irow] + data[irow,jcol]\n",
    "print(rowtotal)"
   ]
  },
  {
   "cell_type": "markdown",
   "metadata": {},
   "source": [
    "After running the code above, first make sure that the answer is correct. Next, note that it is important to set the values of `rowtotal` to 0 before starting the loops, as we add to these values to compute the sum of each row. In the code, we use two loops, so we indented twice. "
   ]
  },
  {
   "cell_type": "markdown",
   "metadata": {},
   "source": [
    "### `break` and `while`\n",
    "A common task is to find the position of a value in a sorted table (e.g., a list or array). \n",
    "For example, determine between which two numbers the number 6 falls in the ordered sequence `[1, 4, 5, 8, 9]`. \n",
    "I know, it is between `5` and `8`, but what if the list is long? Then you really want a routine to do that.\n",
    "To find the position in the list, we need to loop through the list and break out of the loop once we have found the position. For this, Python has the command `break`."
   ]
  },
  {
   "cell_type": "code",
   "execution_count": null,
   "metadata": {},
   "outputs": [],
   "source": [
    "x = [1, 4, 5, 8, 9]\n",
    "a = 6\n",
    "for i in range(len(x)):\n",
    "    if a < x[i]:\n",
    "        break\n",
    "print('a is between', x[i-1], 'and', x[i])"
   ]
  },
  {
   "cell_type": "markdown",
   "metadata": {},
   "source": [
    "There is another way of coding this using a `while` loop. Let's first look at the `while` loop for the same code as above"
   ]
  },
  {
   "cell_type": "code",
   "execution_count": null,
   "metadata": {},
   "outputs": [],
   "source": [
    "x = [1, 4, 5, 8, 9]\n",
    "a = 6\n",
    "i = 0\n",
    "while a >= x[i]:\n",
    "    i = i + 1\n",
    "print('a is between', x[i-1], 'and', x[i])"
   ]
  },
  {
   "cell_type": "markdown",
   "metadata": {},
   "source": [
    "In the `while` loop, the comparison is done at the beginning of the loop, while the counter (in this case `i`) is updated inside the loop. Either a loop with a `break` or a `while` loop with a counter works fine, but `while` loops may be tricky in some cases, as they can result in infinite loops when you have an error in your code. Once you are in an infinite loop (one that never stops), click on the [Kernel] menu item at the top of the window and select [Restart]. This will end your Python session and start a new one. When you print something to the screen in your `while` loop, it may not be possible to break out of the loop and you may need to end your Jupyter session (and potentially lose some of your work). "
   ]
  },
  {
   "cell_type": "markdown",
   "metadata": {},
   "source": [
    "### Strings\n",
    "Strings are a very versatile data type, and we can easily spend an entire Notebook on strings. \n",
    "We will only make limited use of strings, so we keep treatment here to a bare minimum. We already used strings to specify names along axes of a graph, or in the legend of a graph. Strings are like tuples in that every character in a string has an index. Each character or range of characters can be accessed, just like for tuples, but they cannot be changed. A string also has a length. "
   ]
  },
  {
   "cell_type": "code",
   "execution_count": null,
   "metadata": {},
   "outputs": [],
   "source": [
    "text1 = 'Goodmorning everybody'\n",
    "print(len(text1))\n",
    "print(text1[0])\n",
    "print(text1[0:12])"
   ]
  },
  {
   "cell_type": "markdown",
   "metadata": {},
   "source": [
    "When you add two strings, they are put back to back, just like lists. When you want to combine text with a variable, you first need to change the variable to a string and then add the two strings"
   ]
  },
  {
   "cell_type": "code",
   "execution_count": null,
   "metadata": {},
   "outputs": [],
   "source": [
    "newtext = text1 + ' in the class'  # Adding two srings\n",
    "print(newtext)\n",
    "a = 7\n",
    "mes = 'The magic number is ' + str(a)  # Combining strings and numbers\n",
    "print(mes)"
   ]
  },
  {
   "cell_type": "markdown",
   "metadata": {},
   "source": [
    "Comparisons work on strings just like they work on numbers. The comparison starts with the first character in a string and only goes to the next character when the first characters of both strings are equal. The letter 'a' is smaller than 'b', 'b' is smaller than 'c', etc. But be careful, in the order of things, the upper case characters are smaller than all lower case characters! So 'A' is smaller than 'a', but also than 'm' or any other lower case character. Make sure you understand the following statements"
   ]
  },
  {
   "cell_type": "code",
   "execution_count": null,
   "metadata": {
    "scrolled": true
   },
   "outputs": [],
   "source": [
    "print('del' < 'eind')  # True as 'd' is smaller than 'e'\n",
    "print('dal' < 'del')      # True as 'a' is smaller than 'e'\n",
    "print('del' == 'Del')     # False as lower and upper case are not equal\n",
    "print('Del' < 'del')      # True as 'D' is smaller than 'd'\n",
    "print('del' > 'Eind')  # Also True, as 'd' is larger than 'E' or any other upper case character"
   ]
  },
  {
   "cell_type": "markdown",
   "metadata": {},
   "source": [
    "Strings can be converted to upper or lower case"
   ]
  },
  {
   "cell_type": "code",
   "execution_count": null,
   "metadata": {},
   "outputs": [],
   "source": [
    "puc = 'Pontifícia Universidade Católica'\n",
    "print(puc)\n",
    "print(puc.lower())\n",
    "print(puc.upper())"
   ]
  },
  {
   "cell_type": "markdown",
   "metadata": {},
   "source": [
    "A string conisting of multiple words can be converted into a list of words using `split`"
   ]
  },
  {
   "cell_type": "code",
   "execution_count": 22,
   "metadata": {},
   "outputs": [
    {
     "name": "stdout",
     "output_type": "stream",
     "text": [
      "This is the sentence:\n",
      "This is a sentence containing a number of words\n",
      "This is the split sentence:\n",
      "['This', 'is', 'a', 'sentence', 'containing', 'a', 'number', 'of', 'words']\n",
      "All words may be printed seperately:\n",
      "This\n",
      "is\n",
      "a\n",
      "sentence\n",
      "containing\n",
      "a\n",
      "number\n",
      "of\n",
      "words\n"
     ]
    }
   ],
   "source": [
    "sentence = 'This is a sentence containing a number of words'\n",
    "print('This is the sentence:')\n",
    "print(sentence)\n",
    "wordlist = sentence.split()\n",
    "print('This is the split sentence:')\n",
    "print(wordlist)\n",
    "print('All words may be printed seperately:')\n",
    "for word in wordlist:\n",
    "    print(word)"
   ]
  },
  {
   "cell_type": "markdown",
   "metadata": {},
   "source": [
    "### Exercise 6. <a name=\"back6\"></a>Find the position of your name in a list\n",
    "Use a loop to figure out between which two names your name falls in the list\n",
    "`['Aaldrich', 'Babette', 'Chris', 'Franka', 'Joe', 'Louisa', 'Pierre', 'Simone', 'Tarek', 'Yvonne', 'Zu']` and print the result to the screen."
   ]
  },
  {
   "cell_type": "code",
   "execution_count": null,
   "metadata": {},
   "outputs": [],
   "source": []
  },
  {
   "cell_type": "markdown",
   "metadata": {},
   "source": [
    "<a href=\"#ex6answer\">Answer for Exercise 6</a>"
   ]
  },
  {
   "cell_type": "markdown",
   "metadata": {},
   "source": [
    "### Exercise 7, <a name=\"back7\"></a>Oil data\n",
    "The file `preco-oleo-mensal.tsv` contains the monthly oil price since 1985. The file contains three columns: year, month, price in Euros (from the european bank website). Make a plot of the oil price (put numbers along the horizontal axis; we will learn how to do dates in another notebook) and determine the month and year the oil price first rose above 40 euros, above 60 euros, and above 80 euros. You need to write to the screen something like `The oil price exceeds 40 euros for the first time in month xx of year yyyy` where `xx` and `yyyy` are the correct month and year. Use a double loop. Can you modify the code such that it doesn't print the number of the month but the name of the month?"
   ]
  },
  {
   "cell_type": "code",
   "execution_count": null,
   "metadata": {},
   "outputs": [],
   "source": []
  },
  {
   "cell_type": "markdown",
   "metadata": {},
   "source": [
    "<a href=\"#ex6answer\">Resposta do Exercício 7</a>"
   ]
  },
  {
   "cell_type": "markdown",
   "metadata": {},
   "source": [
    "### Respostas para os exercícios"
   ]
  },
  {
   "cell_type": "markdown",
   "metadata": {},
   "source": [
    "<a name=\"ex1answer\">Resposta do Exercício 1</a>"
   ]
  },
  {
   "cell_type": "code",
   "execution_count": 17,
   "metadata": {},
   "outputs": [
    {
     "name": "stdout",
     "output_type": "stream",
     "text": [
      "O número de dias em Janeiro é 31\n",
      "O número de dias em Fevereiro é 28\n",
      "O número de dias em Março é 31\n",
      "O número de dias em Abril é 30\n",
      "O número de dias em Maio é 31\n",
      "O número de dias em Junho é 30\n",
      "O número de dias em Julho é 31\n",
      "O número de dias em Agosto é 31\n",
      "O número de dias em Setembro é 30\n",
      "O número de dias em Outubro é 31\n",
      "O número de dias em Novembro é 30\n",
      "O número de dias em Dezembr0 é 31\n"
     ]
    }
   ],
   "source": [
    "meses = ['Janeiro', 'Fevereiro', 'Março', 'Abril',\\\n",
    "          'Maio','Junho', 'Julho', 'Agosto', 'Setembro',\\\n",
    "          'Outubro', 'Novembro', 'Dezembr0']\n",
    "dias = [31, 28, 31, 30, 31, 30, 31, 31, 30, 31, 30, 31]\n",
    "for i in range(12):\n",
    "    print('O número de dias em', meses[i], 'é', dias[i])"
   ]
  },
  {
   "cell_type": "markdown",
   "metadata": {},
   "source": [
    "<a href=\"#back1\">Voltar para o Exercício 1</a>\n",
    "\n",
    "<a name=\"ex2answer\">Resposta do Exercício 2</a>"
   ]
  },
  {
   "cell_type": "code",
   "execution_count": 18,
   "metadata": {},
   "outputs": [
    {
     "data": {
      "image/png": "[encoded data removed]",
      "text/plain": [
       "<Figure size 432x288 with 1 Axes>"
      ]
     },
     "metadata": {},
     "output_type": "display_data"
    }
   ],
   "source": [
    "x = np.linspace(-2 * np.pi, 2 * np.pi, 100)\n",
    "y = np.zeros_like(x)\n",
    "for i in range(100):\n",
    "    if x[i] < 0:\n",
    "        y[i] = np.cos(x[i])\n",
    "    else:\n",
    "        y[i] = np.exp(-x[i])\n",
    "plt.plot(x, y)\n",
    "plt.xlim(-2 * np.pi, 2 * np.pi);"
   ]
  },
  {
   "cell_type": "markdown",
   "metadata": {},
   "source": [
    "<a href=\"#back2\">Voltar para o Exercício 2</a>\n",
    "\n",
    "<a name=\"ex3answer\">Resposta do Exercício 3</a>"
   ]
  },
  {
   "cell_type": "code",
   "execution_count": 25,
   "metadata": {},
   "outputs": [
    {
     "name": "stdout",
     "output_type": "stream",
     "text": [
      "average monthly temperature in month  1  is less than 10 degrees\n",
      "average monthly temperature in month  2  is less than 10 degrees\n",
      "average monthly temperature in month  3  is less than 10 degrees\n",
      "average monthly temperature in month  4  is less than 10 degrees\n",
      "average monthly temperature in month  5  is more than 10 degrees\n",
      "average monthly temperature in month  6  is more than 10 degrees\n",
      "average monthly temperature in month  7  is more than 10 degrees\n",
      "average monthly temperature in month  8  is more than 10 degrees\n",
      "average monthly temperature in month  9  is more than 10 degrees\n",
      "average monthly temperature in month  10  is more than 10 degrees\n",
      "average monthly temperature in month  11  is less than 10 degrees\n",
      "average monthly temperature in month  12  is less than 10 degrees\n"
     ]
    }
   ],
   "source": [
    "temperature = np.loadtxt('holanda-temperatura.tsv')\n",
    "for i in range(len(temperature)):\n",
    "    if temperature[i] < 10:\n",
    "        print('average monthly temperature in month ', i+1, ' is less than 10 degrees')\n",
    "    else:\n",
    "        print('average monthly temperature in month ', i+1, ' is more than 10 degrees')"
   ]
  },
  {
   "cell_type": "markdown",
   "metadata": {},
   "source": [
    "<a href=\"#back3\">Voltar para o Exercício 3</a>\n",
    "\n",
    "<a name=\"ex4answer\">Resposta do Exercício 4</a>"
   ]
  },
  {
   "cell_type": "code",
   "execution_count": 26,
   "metadata": {},
   "outputs": [
    {
     "name": "stdout",
     "output_type": "stream",
     "text": [
      "data values: [1 3 2 5 7 3 4 2]\n",
      "running total: [ 1  4  6 11 18 21 25 27]\n",
      "running total with numpy: [ 1  4  6 11 18 21 25 27]\n"
     ]
    }
   ],
   "source": [
    "data = np.array([1, 3, 2, 5, 7, 3, 4, 2])\n",
    "runningtotal = np.zeros_like(data)\n",
    "runningtotal[0] = data[0]\n",
    "for i in range(1, len(data)):\n",
    "    runningtotal[i] = runningtotal[i-1] + data[i]\n",
    "print('data values:', data)\n",
    "print('running total:', runningtotal)\n",
    "print('running total with numpy:', np.cumsum(data))"
   ]
  },
  {
   "cell_type": "markdown",
   "metadata": {},
   "source": [
    "<a href=\"#back4\">Voltar para o Exercício 4</a>\n",
    "\n",
    "<a name=\"ex5answer\">Resposta do Exercício 5</a>"
   ]
  },
  {
   "cell_type": "code",
   "execution_count": 27,
   "metadata": {},
   "outputs": [
    {
     "name": "stdout",
     "output_type": "stream",
     "text": [
      "[  3.1   3.3   6.2   9.2  13.1  15.6  17.9  17.5  14.5  10.7   6.7   3.7]\n",
      "Number of month closest to 15 degrees, temp:  9 14.5\n",
      "Alternative method:\n",
      "Number of month closest to 15 degrees, temp:  9 14.5\n"
     ]
    }
   ],
   "source": [
    "temperature = np.loadtxt('holanda-temperatura.tsv')\n",
    "print(temperature)\n",
    "monthindex = -1\n",
    "tdiff = 100.0\n",
    "for i in range(12):\n",
    "    if abs(temperature[i] - 15) < tdiff:\n",
    "        monthindex = i\n",
    "        tdiff = abs(temperature[i] - 15)\n",
    "print('Number of month closest to 15 degrees, temp: ', monthindex + 1, temperature[monthindex])\n",
    "print('Alternative method:')\n",
    "altmin = np.argmin(abs(temperature - 15))\n",
    "print('Number of month closest to 15 degrees, temp: ', altmin + 1, temperature[altmin])"
   ]
  },
  {
   "cell_type": "markdown",
   "metadata": {},
   "source": [
    "<a href=\"#back5\">Voltar para o Exercício 5</a>\n",
    "\n",
    "<a name=\"ex6answer\">Resposta do Exercício 6</a>"
   ]
  },
  {
   "cell_type": "code",
   "execution_count": 28,
   "metadata": {},
   "outputs": [
    {
     "name": "stdout",
     "output_type": "stream",
     "text": [
      "Mark is between Louisa and Pierre\n"
     ]
    }
   ],
   "source": [
    "x = ['Aaldrich', 'Babette', 'Chris', 'Franka', 'Joe', 'Louisa', 'Pierre', 'Simone', 'Tarek', 'Yvonne', 'Zu']\n",
    "myname = 'Mark'\n",
    "for i in range(len(x)):\n",
    "    if myname < x[i]:\n",
    "        break\n",
    "print(myname, 'is between', x[i-1], 'and', x[i])"
   ]
  },
  {
   "cell_type": "markdown",
   "metadata": {},
   "source": [
    "<a href=\"#back6\">Voltar para o Exercício 6</a>\n",
    "\n",
    "<a name=\"ex7answer\">Resposta do Exercício 7</a>"
   ]
  },
  {
   "cell_type": "code",
   "execution_count": 29,
   "metadata": {},
   "outputs": [
    {
     "name": "stdout",
     "output_type": "stream",
     "text": [
      "The oil price exceeds  40 euros for the first time in April of 2005\n",
      "The oil price exceeds  60 euros for the first time in December of 2007\n",
      "The oil price exceeds  80 euros for the first time in June of 2008\n"
     ]
    },
    {
     "data": {
      "image/png": "[encoded data removed]",
      "text/plain": [
       "<matplotlib.figure.Figure at 0x119d47198>"
      ]
     },
     "metadata": {},
     "output_type": "display_data"
    }
   ],
   "source": [
    "oilprice = np.loadtxt('preco-oleo-mensal.tsv', delimiter=',')\n",
    "plt.plot(oilprice[:,2], 'b-')\n",
    "nrow, ncol = oilprice.shape\n",
    "months = ['January', 'February', 'March', 'April',\\\n",
    "          'May','June', 'July', 'August', 'September',\\\n",
    "          'October', 'November', 'December']\n",
    "for price in [40, 60, 80]:\n",
    "    for i in range(nrow):\n",
    "        if oilprice[i, 2] > price:\n",
    "            print('The oil price exceeds ', price, 'euros for the first time in', \\\n",
    "                  months[int(oilprice[i, 1])], 'of', int(oilprice[i, 0]))\n",
    "            break"
   ]
  },
  {
   "cell_type": "markdown",
   "metadata": {},
   "source": [
    "<a href=\"#back7\">Back to Exercise 7</a>"
   ]
  }
 ],
 "metadata": {
  "kernelspec": {
   "display_name": "Python 3",
   "language": "python",
   "name": "python3"
  },
  "language_info": {
   "codemirror_mode": {
    "name": "ipython",
    "version": 3
   },
   "file_extension": ".py",
   "mimetype": "text/x-python",
   "name": "python",
   "nbconvert_exporter": "python",
   "pygments_lexer": "ipython3",
   "version": "3.6.5"
  }
 },
 "nbformat": 4,
 "nbformat_minor": 1
}
