{
 "cells": [
  {
   "cell_type": "markdown",
   "metadata": {},
   "source": [
    "<figure>\n",
    "  <IMG SRC=\"http://www.pucsp.br/sites/default/files/download/brasao-PUCSP-assinatura-principal-RGB.png\" WIDTH=75 ALIGN=\"right\">\n",
    "</figure>\n",
    "    \n",
    "# Funções"
   ]
  },
  {
   "cell_type": "markdown",
   "metadata": {},
   "source": [
    "## Funções em Python\n",
    "Neste Notebook aprenderemos a escrever nossas próprias funções, mas antes, vamos falar um pouco sobre pacotes Python."
   ]
  },
  {
   "cell_type": "markdown",
   "metadata": {},
   "source": [
    "### Pacotes\n",
    "Um pacote é um conjunto de funções do Python. Quando queremos usar uma função de um pacote, precisamos importá-lo. Existem muitas maneiras diferentes de importar pacotes. A sintaxe mais básica é\n",
    "\n",
    "`import numpy`\n",
    "\n",
    "após a importação qualquer função em numpy pode ser chamada como numpy.function(). Se você não gosta do nome do pacote, por exemplo, porque é longo, você pode mudar o nome. Nós fizemos isso renomeando numpy para np, o que é bastante padrão em computação exploratória. Ao aplicar \n",
    "\n",
    "`import numpy as np`\n",
    "\n",
    "todas as funções em numpy podem ser chamadas como np.function ().\n",
    "Pacotes também podem ter subpacotes. Por exemplo, o pacote numpy possui um subpacote chamado random, que possui várias funções para lidar com variáveis ​​aleatórias. Se o pacote numpy é importado com import numpy como np, as funções no subpacote aleatório podem ser chamadas como np.random.function ().\n",
    "Se você precisa apenas de uma função específica, não precisa importar o pacote inteiro. Por exemplo, se você quer apenas a função cosseno do pacote numpy, você pode importá-lo a partir do valor numpy import cos, após o qual você pode simplesmente chamar a função cosine como cos (). Você pode até renomear funções quando as importar. Por exemplo, de numpy import cos como newname, após o qual você pode chamar a função newname () para calcular o cosseno.\n",
    "Nos cadernos anteriores nós sempre importamos numpy e o chamamos de np e importamos a parte plotadora do matplotlib e a chamamos de plt. Ambos são nomes padrão na comunidade Python. A terceira declaração que adicionamos é% matplotlib inline. Este último comando é um comando IPython e não um comando Python. Ele só funcionará no IPython e é chamado de comando mágico. Todos os comandos mágicos são precedidos por um%. O stament% matplotlib inline coloca todos os números no bloco de notas em vez de em uma janela separada."
   ]
  },
  {
   "cell_type": "code",
   "execution_count": 1,
   "metadata": {},
   "outputs": [],
   "source": [
    "import matplotlib.pyplot as plt\n",
    "import numpy as np\n",
    "%matplotlib inline"
   ]
  },
  {
   "cell_type": "markdown",
   "metadata": {},
   "source": [
    "### IDEA: função de escrita para integração numérica"
   ]
  },
  {
   "cell_type": "markdown",
   "metadata": {},
   "source": [
    "### Funções\n",
    "Funções são uma parte essencial de uma linguagem de programação. Você já usou muitas funções como plot, loadtxt ou linspace. Mas você também pode definir suas próprias funções. Para definir uma nova função, use o comando def. Depois def segue o nome da função e entre parênteses os argumentos da função, e, finalmente o dois pontos. Por exemplo, considere a seguinte função de $x$:\n",
    "\n",
    "$f(x)= \\cos(x) \\qquad x <0$\n",
    "\n",
    "$f(x) = \\exp(-x) \\qquad x \\ge 0$\n",
    "\n",
    "Vamos implementar f(x) em uma função chama func. Tendo como argumento de entrada: $x$. "
   ]
  },
  {
   "cell_type": "code",
   "execution_count": 2,
   "metadata": {},
   "outputs": [
    {
     "name": "stdout",
     "output_type": "stream",
     "text": [
      "0.049787068367863944\n"
     ]
    }
   ],
   "source": [
    "def func(x):\n",
    "    if x < 0:\n",
    "        f = np.cos(x)\n",
    "    else:\n",
    "        f = np.exp(-x)\n",
    "    return f\n",
    "print(func(3))"
   ]
  },
  {
   "cell_type": "markdown",
   "metadata": {},
   "source": [
    "Depois de definir uma função no Python, você pode chamá-la sempre que desejar durante a sessão. Então podemos chamar novamente:"
   ]
  },
  {
   "cell_type": "code",
   "execution_count": 3,
   "metadata": {},
   "outputs": [
    {
     "name": "stdout",
     "output_type": "stream",
     "text": [
      "-0.4161468365471424\n"
     ]
    }
   ],
   "source": [
    "print(func(-2))"
   ]
  },
  {
   "cell_type": "markdown",
   "metadata": {},
   "source": [
    "Se você digitar\n",
    "\n",
    "`func(` e então teclar [shift-tab]\n",
    "\n",
    "e por uma fração de segundo, os argumentos de entrada da função irão aparecer em uma pequena janela, assim como para outras funções que já usamos. Você também pode fornecer documentação adicional da sua função. Coloque a documentação na parte superior do bloco recuado e coloque-a entre aspas triplas. Execute o código abaixo para definir a função `func` com a documentação adicional e, em seguida, na célula de código abaixo desse tipo\n",
    "\n",
    "`func(` \n",
    "\n",
    "e pressione [shift] [tab] para ver a documentação adicional. Aviso: não deixe uma célula de código com apenas func (ou func (), pois você obterá um erro no [Kernel][Restart & Run All]."
   ]
  },
  {
   "cell_type": "code",
   "execution_count": 4,
   "metadata": {},
   "outputs": [],
   "source": [
    "def func(x):\n",
    "    '''Primeira função escrita pelo estudante X'''\n",
    "    if x < 0:\n",
    "        f = np.cos(x)\n",
    "    else:\n",
    "        f = np.exp(-x)\n",
    "    return f"
   ]
  },
  {
   "cell_type": "code",
   "execution_count": null,
   "metadata": {},
   "outputs": [],
   "source": []
  },
  {
   "cell_type": "markdown",
   "metadata": {},
   "source": [
    "Os nomes dos argumentos de uma função são os nomes usados dentro da função. Eles não têm relação com os nomes usados fora da função. Ao usar uma variável como o argumento de uma função, somente o valor é passado para a função. No exemplo abaixo, o valor de `y` é passado como o primeiro argumento da função func. Dentro da função, esse valor é usado para a variável `x`."
   ]
  },
  {
   "cell_type": "code",
   "execution_count": 5,
   "metadata": {},
   "outputs": [
    {
     "name": "stdout",
     "output_type": "stream",
     "text": [
      "func(2): 0.1353352832366127\n"
     ]
    }
   ],
   "source": [
    "y = 2\n",
    "print('func(2):', func(y))"
   ]
  },
  {
   "cell_type": "markdown",
   "metadata": {},
   "source": [
    "### Exercício 1. <a name=\"back1\"></a>Primeira função:\n",
    "Escreva uma função Python, em que:\n",
    "\n",
    "$f(x)=e^{-\\alpha x}\\cos(x)$\n",
    "\n",
    "A função deve ter `x` e `alpha` como argumento e valor de retorno da função. Dê a sua função um nome único (se chamá-la de `func` ela irá sobrescrever o valor definido acima. Faça um gráfico de `f` vs. `x` para `x` indo de 0 a $10\\pi$ utilizando dois valores diferentes de `alpha`: 0.1 e 0.2. Adicione uma legenda e rótulo aos eixos."
   ]
  },
  {
   "cell_type": "markdown",
   "metadata": {},
   "source": [
    "<a href=\"#ex1answer\">Resposta do Exercício 1</a>"
   ]
  },
  {
   "cell_type": "markdown",
   "metadata": {},
   "source": [
    "### Argumentos de palavras-chave\n",
    "Funções podem ter vários argumentos de entrada seguidos de argumentos de palavras-chave. Os argumentos devem ser inseridos e em uma ordem definida. Argumentos de palavras-chave não precisam ser inseridos. Quando não são inseridos, o valor padrão é usado. Argumentos de palavras-chave podem ser dados em qualquer ordem, desde que eles apareçam depois dos argumentos regulares. Se você especificar os argumentos da palavra-chave na ordem em que eles estão definidos na lista de argumentos, você nem precisa precedê-los com a palavra-chave, mas é mais econômico escrever as palavras-chave e facilitar a leitura do código. Por exemplo, a função $f(x)=A\\cos(\\pi x+\\theta)$ pode ser escrita com argumentos de palavra-chave como segue."
   ]
  },
  {
   "cell_type": "code",
   "execution_count": null,
   "metadata": {
    "scrolled": true
   },
   "outputs": [],
   "source": [
    "def testfunc(x, A=1, theta=0):\n",
    "    return A * np.cos(np.pi * x + theta)\n",
    "print(testfunc(1))  # Usa padrão definido como A=1, theta=0: cos(pi)\n",
    "print(testfunc(1, A=2))  # Agora com A=2, theta =0: 2*cos(pi)\n",
    "print(testfunc(1, A=2, theta=np.pi / 4))  # Agora com A=2, theta=pi/4: 2*cos(5pi/4)\n",
    "print(testfunc(1, theta=np.pi / 4, A=2))  # O mesmo que acima: 2*cos(5pi/4)\n",
    "print(testfunc(1, theta=np.pi / 4))  # Agora  theta=pi/4, e A = 1: cos(5pi/4)"
   ]
  },
  {
   "cell_type": "markdown",
   "metadata": {},
   "source": [
    "### Variáveis Locais\n",
    "Variáveis declaradas dentro de uma função só podem ser usadas dentro dessa função. O exterior de uma função não sabe sobre as variáveis usadas dentro da função, exceto as variáveis que são retornadas pela função. No código abaixo, remova o `#` antes da `print(a)` e você receberá uma mensagem de erro, como a é uma variável local dentro da função `localtest` apenas (então coloque o `#` de volta, senão você recebe um erro ao executar [Kernel] [Reiniciar & Executar tudo])."
   ]
  },
  {
   "cell_type": "code",
   "execution_count": null,
   "metadata": {},
   "outputs": [],
   "source": [
    "def localtest(x):\n",
    "    a = 3\n",
    "    b = 5\n",
    "    return a * x + b\n",
    "print(localtest(4))\n",
    "#print(a)  # Gera uma mensagem de erro, pois a não está definida fora da função"
   ]
  },
  {
   "cell_type": "markdown",
   "metadata": {},
   "source": [
    "### Três tipos de variáveis dentro de uma função\n",
    "Na verdade, existem três tipos de variáveis dentro de uma função. Nós já aprendemos sobre dois deles: variáveis passadas para a função através da lista de argumentos, como `x` na função acima, e variáveis locais, como `a` e `b` na função acima. O terceiro tipo são variáveis definidas fora da função, mas não passadas para a função através da lista de argumentos. Quando uma variável é usada dentro de uma função Python, o Python primeiro verifica se a variável foi definida localmente. Caso contrário, verifica se a variável é passada para a função através da lista de argumentos. E se esse não for o caso, o Python verifica se a variável está definida fora da função, no local em que a função foi chamada. Se esse não for o caso, ele emitirá uma mensagem de erro. É considerado uma boa prática de codificação passar variáveis para uma função quando elas são necessárias dentro de uma função, ao invés de contar com o Python para encontrar a variável fora da função; provavelmente levará a menos erros de codificação.\n",
    "Note que quando uma variável é definida localmente, o Python não verificará se essa variável também está declarada fora da função. É importante perceber a diferença entre esses diferentes tipos, então vamos fazer alguns exemplos."
   ]
  },
  {
   "cell_type": "code",
   "execution_count": 6,
   "metadata": {},
   "outputs": [
    {
     "name": "stdout",
     "output_type": "stream",
     "text": [
      "17\n",
      "17\n"
     ]
    }
   ],
   "source": [
    "# Esta função funciona direitinho\n",
    "def test1(x):\n",
    "    a = 3\n",
    "    b = 5\n",
    "    return a * x + b\n",
    "print(test1(4))\n",
    "\n",
    "# Esta função também funciona, mas é desleixada uma vez que a \n",
    "# variável `a` é definida fora da função\n",
    "\n",
    "a = 3\n",
    "def test2(x):\n",
    "    b = 5\n",
    "    return a * x + b\n",
    "print(test2(4))  "
   ]
  },
  {
   "cell_type": "markdown",
   "metadata": {},
   "source": [
    "Na próxima função, definimos a variável `var1` fora da função `test3`. A função `test3` não aceita nenhum argumento de entrada (mas ainda precisa dos parênteses, senão o Python não identifica que é uma função), e cria uma variável local `var1`. Esta variável `var1` local é conhecida apenas dentro da função `test3` e não afeta o valor de `var1` fora da função `test3`."
   ]
  },
  {
   "cell_type": "code",
   "execution_count": null,
   "metadata": {},
   "outputs": [],
   "source": [
    "var1 = 8\n",
    "def test3():\n",
    "    var1 = 4\n",
    "    print('Goodmorning, var1 equals', var1)\n",
    "test3()\n",
    "print('Value of var1 outside test3:', var1)"
   ]
  },
  {
   "cell_type": "markdown",
   "metadata": {},
   "source": [
    "### Funções são blocos de construção que precisam ser testados separadamente\n",
    "Funções são os blocos de construção de um código de computador. Eles representam uma funcionalidade bem definida, o que significa que podem e devem ser testados separadamente. Portanto, crie o hábito de testar se sua função faz o que você pretendia. Às vezes é fácil testar uma função: você pode comparar o valor com um cálculo manual, por exemplo. Outras vezes é mais difícil, e você precisa escrever algum código adicional para testar a função. Vale sempre a pena fazer isso. Se você testar bem suas funções, ele ajudará você a depurar seu código, porque você sabe que o erro não está dentro da função."
   ]
  },
  {
   "cell_type": "markdown",
   "metadata": {},
   "source": [
    "### Exercício 2, <a name=\"back2\"></a>função de fluxo para o fluxo em torno de um cilindro\n",
    "Considere o fluxo bidimensional de fluido invíscido (fluxo potencial) ao redor de um cilindro. A origem do sistema de coordenadas está no centro do cilindro. A função de fluxo é uma função que é constante ao longo das linhas de fluxo. A função de fluxo é uma função de coordenadas polares, r e . A função de fluxo é constante e igual a zero no cilindro, e, realmente não existe dentro do cilindro, então vamos torná-lo zero ali, como se estivesse no cilindro.\n",
    "\n",
    "$\\begin{split}\n",
    "\\psi &= 0 \\qquad r\\le R \\\\\n",
    "\\psi &= U(r-R^2/r)\\sin(\\theta) \\qquad r\\ge R\n",
    "\\end{split}$\n",
    "\n",
    "em que $U$ é o fluxo na direção $x$-direction, $r$ é a distância radial do centro do cilindro, $\\theta$ é o ângulo, e $R$ é o raio do cilindro. Nem sempre é fácil calcular o ângulo correto dados os valores de $x$ e $y$, uma vez que a função arctan retorna um valor entre $-\\pi/2$ e $+\\pi/2$ (radianos), ao passo que se $x=-2$ e $y=2$, o ângulo deveria ser $3\\pi/4$.\n",
    "`numpy` tem uma função para computar o ângulo correto entre $-\\pi$ e $+\\pi$ dadas as coordenadas $x$ e $y$. A função é `arctan2(y,x)`. Note que a função tem como *primeiro* argumento `y` e depois, como *segundo* argumento `x`.  \n",
    "\n",
    "Escreva uma função que compute a função de fluxo em torno de um cilindro. A função deve ter dois argumentos, `x` e `y`, e dois argumentos chaves, `U` e `R`, e deve retornar os valores da função de fluxo. O retorno correto da função deve ser dado por `psi(2, 4, U=2, R=1.5) = 7.1`, e `psi(0.5, 0, U=2, R=1.5) = 0` (dentro do cilindro)."
   ]
  },
  {
   "cell_type": "code",
   "execution_count": null,
   "metadata": {},
   "outputs": [],
   "source": []
  },
  {
   "cell_type": "markdown",
   "metadata": {},
   "source": [
    "<a href=\"#ex2answer\">Reposta ao Exercício 2</a>"
   ]
  },
  {
   "cell_type": "markdown",
   "metadata": {},
   "source": [
    "### Vetorização de uma função\n",
<<<<<<< HEAD
    "\n",
    "Nem todas as funções podem ser chamadas com uma array de valores como argumento de entrada. Por exemplo, a função `func` definida no início deste bloco de notas não funciona com uma array de valores `x`. Remova o `#` e experimente. Em seguida, coloque o `#` de volta\n"
=======
    "Not all functions can be called with an array of values as input argument. For example, the function `func` defined at the beginning of this notebook doesn't work with an array of `x` values. Remove the `#` and try it out. Then put the `#` back"
>>>>>>> 86c0af9b6ad94f9fabca5ea5f5401f938d12b481
   ]
  },
  {
   "cell_type": "code",
   "execution_count": null,
   "metadata": {},
   "outputs": [],
   "source": [
    "def func(x):\n",
    "    if x < 0:\n",
    "        f = np.cos(x)\n",
    "    else:\n",
    "        f = np.exp(-x)\n",
    "    return f\n",
    "x = np.linspace(-6, 6, 100)\n",
    "#y = func(x) # Execute esta linha depois de remover o # para ver o erro que ocorre. Em seguida, coloque o # de volta"
   ]
  },
  {
   "cell_type": "markdown",
   "metadata": {},
   "source": [
    "A razão pela qual isso não funciona é que o Python não sabe o que fazer com a linha\n",
    "\n",
    "`if x < 0` \n",
    "\n",
    "onde `x` contém muitos valores. Daí a mensagem de erro \n",
    "\n",
    "`O valor de verdade de uma array com mais de um elemento é ambíguo` \n",
    "\n",
    "Para alguns valores de `x`, a declaração `if` pode ser ´`True`, para outros, pode ser `False`. Uma maneira simples de contornar esse problema é vetorizar a função. Isso significa que criamos uma nova função, vamos chamá-la `funcvec`, que é uma forma vetorizada de `func` e pode ser chamada como array como um argumento (esta é de longe a maneira mais fácil, mas não necessariamente computacionalmente mais rápida de garantir que uma função ser chamado com um array como argumento)\n"
   ]
  },
  {
   "cell_type": "code",
   "execution_count": null,
   "metadata": {},
   "outputs": [],
   "source": [
    "funcvec = np.vectorize(func)\n",
    "x = np.linspace(-6, 6, 100)\n",
    "y = funcvec(x)\n",
    "plt.plot(x, y);"
   ]
  },
  {
   "cell_type": "markdown",
   "metadata": {},
   "source": [
    "Volte agora para o problema do fluxo em torno de um clinder. Contornos da função de fluxo representam linhas de fluxo ao redor do cilindro. Para fazer um gráfico de contorno, a função a ser contornada precisa ser calculada em uma grade de pontos. A grade de pontos é um array com os valores da função de fluxo nesses pontos podem ser passados para uma rotina de contorno para criar um gráfico de contorno. Para criar uma grade de pontos, use a função `meshgrid` que recebe como entrada um intervalo de valores `x` e um intervalo de valores `y`, e retorna uma grade de valores`x` e uma grade de valores `y`. Por exemplo, ter 5 pontos na direção $x$ de -1 até 1,  e 3 pontos de $y$ na direção de 0 até 10:\n"
   ]
  },
  {
   "cell_type": "code",
   "execution_count": null,
   "metadata": {},
   "outputs": [],
   "source": [
    "x,y = np.meshgrid( np.linspace(-1,1,5), np.linspace(0,10,3) ) \n",
    "print('x values')\n",
    "print(x)\n",
    "print('y values')\n",
    "print(y)"
   ]
  },
  {
   "cell_type": "markdown",
   "metadata": {},
   "source": [
    "### Exercise 3, <a name=\"back3\"></a>Gráfico de contorno para o fluxo em torno de um cilindro\n",
    "\n",
    "Calcule a função da função de fluxo em torno de um cilindro com raio 1.5 em uma grade de 100 por 100 pontos, onde `x` varia de -4 a +4 e `y` varia de -3 a 3; usar $U = 1$. Calcule a função de fluxo em toda a grade (você precisa criar uma versão vetorizada da função que você escreveu para calcular a função de fluxo). Em seguida, use a função `np.contour` para criar um gráfico de contorno (descubra como, lendo a ajuda da função de `contorno` ou vá para esta demo) da galeria matplotlib. Você precisa usar o comando `plt.axis ('equal')`, para que as escalas ao longo dos eixos sejam iguais e o círculo pareça um círculo em lugar de uma elipse. Finalmente, você pode querer adicionar um bom patch circular usando o comando `fill` e especificando um grupo de $x$ e $y$ valores ao redor da circunferência do cilindro.\n"
   ]
  },
  {
   "cell_type": "code",
   "execution_count": null,
   "metadata": {},
   "outputs": [],
   "source": []
  },
  {
   "cell_type": "markdown",
   "metadata": {},
   "source": [
    "<a href=\"#ex3answer\">Answer to Exercise 3</a>"
   ]
  },
  {
   "cell_type": "markdown",
   "metadata": {},
   "source": [
    "### Retornar várias *coisas*\n",
    "Uma atribuição pode dispor  valores a várias variáveis em uma instrução, por exemplo:"
   ]
  },
  {
   "cell_type": "code",
   "execution_count": null,
   "metadata": {},
   "outputs": [],
   "source": [
    "a, b = 4, 3\n",
    "print('a:', a)\n",
    "print('b:', b)\n",
    "a, b, c = 27, np.arange(4), 'hello'\n",
    "print('a:', a)\n",
    "print('b:', b)\n",
    "print('c:', c)\n",
    "d, e, f = np.arange(0, 11, 5)\n",
    "print('d:', d)\n",
    "print('e:', e)\n",
    "print('f:', f)"
   ]
  },
  {
   "cell_type": "markdown",
   "metadata": {},
   "source": [
    "Similarmente, uma função pode retornar um valor ou um array, ou múltiplos valores, múltiplos arrays, ou seja o que for que o programador decida retornar (incluindo nada, é claro). Quando várias coisas são retornadas, elas são retornadas como uma tupla. Eles podem ser armazenados como uma tupla ou, se o usuário souber quantas *coisas* são retornadas, elas podem ser armazenadas em variáveis individuais imediatamente, como no exemplo anterior.\n"
   ]
  },
  {
   "cell_type": "code",
   "execution_count": null,
   "metadata": {},
   "outputs": [],
   "source": [
    "def newfunc():\n",
    "    dump = 4 * np.ones(5)\n",
    "    dump[0] = 100\n",
    "    return 33, dump, 'this works great!'\n",
    "test = newfunc()\n",
    "print(type(test))\n",
    "print(test[1]) \n",
    "a, b, c = newfunc()\n",
    "print('a:', a)\n",
    "print('b:', b)\n",
    "print('c:', c)"
   ]
  },
  {
   "cell_type": "markdown",
   "metadata": {},
   "source": [
    "### Exercise 4, <a name=\"back4\"></a>Streamplot de fluxo ao redor de um cilindro\n",
    "Os componentes radiais e tangenciais do vetor de velocidade  $\\vec{v}=(v_r,v_\\theta)$ para o fluxo de fluido invíscido em torno de um cilindro são dadas por\n",
    "\n",
    "$\\begin{split}\n",
    "v_r&=U(1-R^2/r^2)\\cos(\\theta) \\qquad r\\ge R \\\\\n",
    "v_\\theta&=-U(1+R^2/r^2)\\sin(\\theta) \\qquad r\\ge R\n",
    "\\end{split}$\n",
    "\n",
    "e é zero de outra forma. O $x$ e $y$ são componentes do vetor de velocidade, podem ser obtidos a partir dos componentes radiais e tangencial com\n",
    "\n",
    "$\\begin{split}\n",
    "v_x&=v_r\\cos(\\theta) - v_\\theta\\sin(\\theta) \\\\\n",
    "v_y &= v_r\\sin(\\theta) + v_\\theta\\cos(\\theta) \n",
    "\\end{split}$\n",
    "\n",
    "Escreva uma função que retorne $x$ e $y$ componentes do vetor velocidade para o fluxo de fluido em torno de um cilindro com $R=1.5$ e $U=2$. \n",
    "Teste sua função certificando-se de que $(x,y) = (2,3)$ o vetor de velocidade é  $(v_x,v_y)=(2.1331, -0.3195)$.\n",
    "Calcule o $x$ e $y$ componentes vetor de velocidade (a vetorização não ajudará aqui, pois sua função retorna dois valores, então você precisa de um loop duplo) em uma grade de 50 por 50 pontos onde `x` varia de -4 a +4 e  `y` Crie um gráfico de fluxo usando a função `plt.streamplot`, que aceita quatro argumentos: `x`, `y`, `vx`, `vy`."
   ]
  },
  {
   "cell_type": "code",
   "execution_count": null,
   "metadata": {},
   "outputs": [],
   "source": []
  },
  {
   "cell_type": "markdown",
   "metadata": {},
   "source": [
    "<a href=\"#ex4answer\">Answer to Exercise 4</a>"
   ]
  },
  {
   "cell_type": "markdown",
   "metadata": {},
   "source": [
    "### Exercise 5, <a name=\"back5\"></a>Derivada de uma função\n",
    "A função  `func`, que escrevemos neste caderno, implementa a seguinte função\n",
    "\n",
    "$f(x)= \\cos(x) \\qquad x <0$\n",
    "\n",
    "$f(x) = \\exp(-x) \\qquad x \\ge 0$\n",
    "\n",
    "Derive uma expressão analítica (à mão) para a primeira derivada de $f(x)$ e implemente-a em uma função Python. Teste sua função comparando sua saída com um derivado numérico usando um esquema de diferença central\n",
    "$\\frac{\\text{d}f}{\\text{d}x}\\approx \\frac{f(x+d)-f(x-d)}{2d}$\n",
    "\n",
    "onde $d$ d é um número pequeno. Teste sua função para ambos $x<0$ e $x>0$."
   ]
  },
  {
   "cell_type": "code",
   "execution_count": null,
   "metadata": {},
   "outputs": [],
   "source": []
  },
  {
   "cell_type": "markdown",
   "metadata": {},
   "source": [
    "<a href=\"#ex5answer\">Answer to Exercise 5</a>"
   ]
  },
  {
   "cell_type": "markdown",
   "metadata": {},
   "source": [
    "### Usando uma função como o argumento de outra função\n",
    "\n",
    "Até agora, usamos valores únicos ou array como argumentos de entrada da funções. Mas também podemos usar uma função como um dos argumentos de entrada de outra função. Considere, por exemplo, uma função chamada `takesquare` que recebe dois argumentos de entrada: uma função `finput` e um valor `x`, e retorna a função  `finput` calculada em  `x` e então ao quadrado."
   ]
  },
  {
   "cell_type": "code",
   "execution_count": null,
   "metadata": {},
   "outputs": [],
   "source": [
    "def takesquare(finput, x):\n",
    "    return finput(x) ** 2"
   ]
  },
  {
   "cell_type": "markdown",
   "metadata": {},
   "source": [
    "Agora podemos chamar  `takesquare` com qualquer função $f$ que possa ser chamada como  $f(x)$ e retorne um valor. Por exemplo, podemos chamá-la como a função cosseno, e, testar imediatamente se temos a resposta certa."
   ]
  },
  {
   "cell_type": "code",
   "execution_count": null,
   "metadata": {},
   "outputs": [],
   "source": [
    "print('takesquare result:', takesquare(np.cos, 2))\n",
    "print('correct value is: ', np.cos(2) ** 2)"
   ]
  },
  {
   "cell_type": "markdown",
   "metadata": {},
   "source": [
    "### Encontrando o zero de uma função\n",
    "Encontrar o zero de uma função é uma tarefa comum na computação exploratória. O valor onde a função é igual a zero também é chamado de *raiz* e encontrar o zero é referido como *raiz*. Existe um métodos para encontrar o zero de uma função que varia constituído de um método robusta, mas lento (sempre um zero mas leva algum tempo com para calcular a função), há outro método que age de forma rápida, mas não tão robusto (pode achar o zero muito rápido, mas nem sempre vai encontrá-lo). Aqui vamos usar o último.\n",
    "Considere a função  $f(x)=0.5-\\text{e}^{-x}$. A função é zero quando  $x=-\\ln(0.5)$, mas vamos fingir que não sabemos disso e tentar encontrá-lo usando um método de localização de raiz. Primeiro, precisamos escrever uma função Python para $f(x)$."
   ]
  },
  {
   "cell_type": "code",
   "execution_count": null,
   "metadata": {},
   "outputs": [],
   "source": [
    "def f(x):\n",
    "    return 0.5 - np.exp(-x)"
   ]
  },
  {
   "cell_type": "markdown",
   "metadata": {},
   "source": [
    "Nós usaremos o método `fsolve` para encontrar o zero de uma função,  `fsolve` é parte do pacote  `scipy.optimize`. O `fsolve` usa dois argumentos: a função para a qual queremos encontrar o zero e um valor inicial para a pesquisa (não surpreendentemente, quanto mais próximo o valor inicial estiver da raiz, maior a chance de o  `fsolve` encontrá-lo)."
   ]
  },
  {
   "cell_type": "code",
   "execution_count": null,
   "metadata": {},
   "outputs": [],
   "source": [
    "from scipy.optimize import fsolve\n",
    "xzero = fsolve(f,1)\n",
    "print('result of fsolve:', xzero)\n",
    "print('f(x) at xzero:   ', f(xzero))\n",
    "print('exact value of xzero:', -np.log(0.5))"
   ]
  },
  {
   "cell_type": "markdown",
   "metadata": {},
   "source": [
    "E agora, se você quiser encontrar o valor de $f(x)=0.3$ (o valor correto é $-\\ln(0.2)$). Poderíamos, claro, criar uma nova função $f_2=f(x)-0.3$ e tentar encontrar o zero de $f_2$. Mas se fizermos isso, poderemos também torná-lo mais genérico. Vamos tentar encontrar $f(x)=a$, então criamos uma função  $f_2=f(x)-a$"
   ]
  },
  {
   "cell_type": "code",
   "execution_count": null,
   "metadata": {},
   "outputs": [],
   "source": [
    "def f2(x, a=0):\n",
    "    return f(x) - a"
   ]
  },
  {
   "cell_type": "markdown",
   "metadata": {},
   "source": [
    "Quando usamos `fsolve` para encontrar o zero da função  `f2`, precisamos passar para ele um argumento adicional: o valor de  `a`. Isso pode ser feito usando o `args`do argumento da palavra-chave, que é uma tupla de argumentos adicionais passados para a função para a qual o  `fsolve`  tenta localizar a raiz. A palavra chave `args` pode ter múltiplos valores, contanto que eles sejam separados por vírgulas, mas no nosso caso a função  `f2` leva apenas um argumento adicional."
   ]
  },
  {
   "cell_type": "code",
   "execution_count": null,
   "metadata": {},
   "outputs": [],
   "source": [
    "xroot = fsolve(f2, 1, args=(0.3))\n",
    "print('fsolve result:', xroot)\n",
    "print('f(xroot):     ', f(xroot))\n",
    "print('exact value:  ', -np.log(0.2))"
   ]
  },
  {
   "cell_type": "markdown",
   "metadata": {},
   "source": [
    "### Exercise <a name=\"back6\"></a>6\n",
    "A distribuição de densidade cumulativa da distribuição $F(x)$ da Normal é dada por\n",
    "\n",
    "$F(x)=\\frac{1}{2}\\left[ 1 + \\text{erf}\\left(\\frac{x-\\mu}{\\sqrt{2\\sigma^2}}\\right)\\right] $\n",
    "\n",
    "onde $\\mu$ está a média, $\\sigma$ é o desvio padrão, e  erf é a função de erro. \n",
    "Lembre-se da definição de uma distribuição de densidade cumulativa: quando uma variável aleatória tem uma distribuição Normal com média $\\mu$ e desvio padrão $\\sigma$, $F(x)$ é a probabilidade da variável aleatória ser menor que $x$. Escreva uma função Python para $F(x)$. O primeiro argumento de entrada deve ser seguido por argumentos de palavra-chave por $x$, seguida pelo argumento palavra-chave $\\mu$ and $\\sigma$. A função de erro pode ser importada como\n",
    "\n",
    "`from scipy.special import erf`\n",
    "\n",
    "Teste sua função, por exemplo, certificando-se de que quando $x=\\mu$, $F$ deve retornar 0.5, e,  quando  $x=\\mu+1.96\\sigma$, $F$ deve retornar  0.975.\n",
    "\n",
    "Em seguida, encontre o valor de para o qual $x$ onde $F(x)=p$, where $p$ é uma probabilidade (por isso, é entre 0 e 1). Verifique se você responde por $\\mu=3$, $\\sigma=2$, e procure $x$ por $p=0.1$ e $p=0.9$. Substitua as raízes que você determinou com  `fsolve` de volta em $F(x)$ para garantir que seu código funcione corretamente."
   ]
  },
  {
   "cell_type": "code",
   "execution_count": null,
   "metadata": {
    "collapsed": true
   },
   "outputs": [],
   "source": []
  },
  {
   "cell_type": "markdown",
   "metadata": {},
   "source": [
    "<a href=\"#ex6answer\">Answer to Exercise 6</a>"
   ]
  },
  {
   "cell_type": "markdown",
   "metadata": {},
   "source": [
    "### Exercise <a name=\"back7\"></a>7. Integração Numérica"
   ]
  },
  {
   "cell_type": "markdown",
   "metadata": {},
   "source": [
    "A integração numérica de uma função é uma tarefa comum de engenharia. O pacote `scipy` possui um subpacote específico chamado `integrate` capaz de integrar com várias funções de integração numérica. Nós vamos usar a função `quad` function. Use a função  `quad` para integrar a função $f(x)=\\text{e}^{-x}$ de 1 a 5. Verifique se você fez isso corretamente, fazendo a integração manualmente (o que é fácil para essa função).\n",
    "\n",
    "Em seguida, calcule a seguinte integral:\n",
    "$$\\int_1^5 \\frac{\\text{e}^{-x}}{x}\\text{d}x$$ \n",
    "\n",
    "Essa integral é mais difícil de fazer analiticamente. Realize a integração numericamente com a função `quad` e verifique sua resposta, por exemplo, no site [wolframalpha website](https://www.wolframalpha.com) onde você pode simplesmente digitar: `integrate exp(-x)/x from 1 to 5`."
   ]
  },
  {
   "cell_type": "code",
   "execution_count": null,
   "metadata": {},
   "outputs": [],
   "source": []
  },
  {
   "cell_type": "markdown",
   "metadata": {},
   "source": [
    "<a href=\"#ex7answer\">Answer to Exercise 7</a>"
   ]
  },
  {
   "cell_type": "markdown",
   "metadata": {},
   "source": [
    "### Answers to the exercises"
   ]
  },
  {
   "cell_type": "markdown",
   "metadata": {},
   "source": [
    "<a name=\"ex1answer\">Answer to Exercise 1</a>"
   ]
  },
  {
   "cell_type": "code",
   "execution_count": null,
   "metadata": {},
   "outputs": [],
   "source": [
    "def test(x, alpha):\n",
    "    return np.exp(-alpha * x) * np.cos(x)\n",
    "x = np.linspace(0, 10 * np.pi, 100)\n",
    "y1 = test(x, 0.1)  # This function can be called with an array\n",
    "y2 = test(x, 0.2)\n",
    "plt.plot(x, y1,'b', label=r'$\\alpha$=0.1') # if you specify a label, it will automatically be used in the legend\n",
    "plt.plot(x, y2,'r', label=r'$\\alpha$=0.2')\n",
    "plt.xlabel('x')\n",
    "plt.ylabel('f(x)')\n",
    "plt.legend();"
   ]
  },
  {
   "cell_type": "markdown",
   "metadata": {},
   "source": [
    " <a href=\"#back1\">Back to Exercise 1</a>\n",
    "\n",
    "<a name=\"ex2answer\">Answer to Exercise 2</a>"
   ]
  },
  {
   "cell_type": "code",
   "execution_count": null,
   "metadata": {},
   "outputs": [],
   "source": [
    "def psi(x, y, U=1, R=1):\n",
    "    r = np.sqrt(x ** 2 + y ** 2)\n",
    "    if r < R:\n",
    "        rv = 0.0\n",
    "    else:\n",
    "        theta = np.arctan2(y, x)\n",
    "        rv = U * (r - R ** 2 / r) * np.sin(theta)\n",
    "    return rv\n",
    "\n",
    "print(psi(2, 4, U=2, R=1.5))\n",
    "print(psi(0.5, 0, U=2, R=1.5))"
   ]
  },
  {
   "cell_type": "markdown",
   "metadata": {},
   "source": [
    "<a href=\"#back2\">Back to Exercise 2</a>\n",
    "\n",
    "<a name=\"ex3answer\">Answer to Exercise 3</a>"
   ]
  },
  {
   "cell_type": "code",
   "execution_count": null,
   "metadata": {},
   "outputs": [],
   "source": [
    "x,y = np.meshgrid(np.linspace(-4, 4, 100), np.linspace(-3, 3, 100))\n",
    "psivec = np.vectorize(psi)\n",
    "R = 1.5\n",
    "p = psivec(x, y, U=2, R=R)\n",
    "plt.contour(x, y, p, 50)\n",
    "alpha = np.linspace(0, 2 * np.pi, 100)\n",
    "plt.fill(R * np.cos(alpha), R * np.sin(alpha), ec='g', fc='g')\n",
    "plt.axis('scaled')"
   ]
  },
  {
   "cell_type": "markdown",
   "metadata": {},
   "source": [
    " <a href=\"#back3\">Back to Exercise 3</a>\n",
    "\n",
    "<a name=\"ex4answer\">Answer to Exercise 4</a>"
   ]
  },
  {
   "cell_type": "code",
   "execution_count": null,
   "metadata": {},
   "outputs": [],
   "source": [
    "def velocity(x, y, U=1, R=1):\n",
    "    r = np.sqrt(x**2 + y**2)\n",
    "    theta = np.arctan2(y, x)\n",
    "    if r > R:\n",
    "        vr =  U * (1 - R**2 / r**2) * np.cos(theta)\n",
    "        vt = -U * (1 + R**2 / r**2) * np.sin(theta)\n",
    "        vx = vr * np.cos(theta) - vt * np.sin(theta)\n",
    "        vy = vr * np.sin(theta) + vt * np.cos(theta)\n",
    "    else:\n",
    "        vx,vy = 0.0,0.0\n",
    "    return vx,vy\n",
    "\n",
    "print('velocity at (2,3): ', velocity(2, 3, U=2, R=1.5))\n",
    "x,y = np.meshgrid(np.linspace(-4, 4, 50), np.linspace(-3, 3, 50))\n",
    "vx, vy = np.zeros((50, 50)), np.zeros((50, 50))\n",
    "R = 1.5\n",
    "for i in range(50):\n",
    "    for j in range(50):\n",
    "        vx[i,j], vy[i,j] = velocity(x[i,j], y[i,j], U=2, R=R)\n",
    "alpha = np.linspace(0, 2 * np.pi, 100)\n",
    "plt.fill(R * np.cos(alpha), R * np.sin(alpha), ec='g', fc='g')\n",
    "plt.streamplot(x, y, vx, vy)\n",
    "plt.axis('scaled')\n",
    "plt.xlim(-4, 4)\n",
    "plt.ylim(-3, 3)"
   ]
  },
  {
   "cell_type": "markdown",
   "metadata": {},
   "source": [
    " <a href=\"#back4\">Back to Exercise 4</a>\n",
    "\n",
    "<a name=\"ex5answer\">Answer to Exercise 5</a>"
   ]
  },
  {
   "cell_type": "code",
   "execution_count": null,
   "metadata": {},
   "outputs": [],
   "source": [
    "def dfuncdx(x):\n",
    "    if x < 0:\n",
    "        rv = -np.sin(x)\n",
    "    else:\n",
    "        rv = -np.exp(-x)\n",
    "    return rv\n",
    "d = 1e-6\n",
    "x = -1\n",
    "dfdx = (func(x+d) - func(x-d)) / (2*d)\n",
    "print('True value   ', dfuncdx(x))\n",
    "print('Approx value ', dfdx)\n",
    "x = 1\n",
    "dfdx = (func(x+d) - func(x-d)) / (2*d)\n",
    "print('True value   ', dfuncdx(x))\n",
    "print('Approx value ', dfdx)"
   ]
  },
  {
   "cell_type": "markdown",
   "metadata": {},
   "source": [
    " <a href=\"#back5\">Back to Exercise 5</a>\n",
    "\n",
    "<a name=\"ex6answer\">Answer to Exercise 6</a>"
   ]
  },
  {
   "cell_type": "code",
   "execution_count": null,
   "metadata": {},
   "outputs": [],
   "source": [
    "from scipy.special import erf\n",
    "def F(x, mu=0, sigma=1, p=0):\n",
    "    rv = 0.5 * (1.0 + erf((x - mu) / np.sqrt(2 * sigma**2)))\n",
    "    return rv - p\n",
    "print('x=mu gives F(x)=', F(2, mu=2, sigma=1))\n",
    "print('x=mu+1.96sig gives:', F(2+1.96, mu=2, sigma=1))\n",
    "x1 = fsolve(F, 3, args=(3, 2, 0.1))\n",
    "x2 = fsolve(F, 3, args=(3, 2, 0.9))\n",
    "print('x1,F(x1):', x1, F(x1, mu=3, sigma=2))\n",
    "print('x2,F(x2):', x2, F(x2, mu=3, sigma=2))"
   ]
  },
  {
   "cell_type": "markdown",
   "metadata": {},
   "source": [
    " <a href=\"#back6\">Back to Exercise 6</a>\n",
    "\n",
    "<a name=\"ex7answer\">Answer to Exercise 7</a>"
   ]
  },
  {
   "cell_type": "code",
   "execution_count": null,
   "metadata": {},
   "outputs": [],
   "source": [
    "def func1(x):\n",
    "    return np.exp(-x)\n",
    "\n",
    "def func2(x):\n",
    "    return np.exp(-x) / x\n",
    "\n",
    "from scipy.integrate import quad\n",
    "print('func1:')\n",
    "print('numerical integration:', quad(func1, 1, 5))\n",
    "print('analytic integration:', -np.exp(-5) + np.exp(-1))\n",
    "\n",
    "print('func2:')\n",
    "print('numerical integration:', quad(func2, 1, 5))\n",
    "print('wolframalpha result:', 0.218236)"
   ]
  },
  {
   "cell_type": "markdown",
   "metadata": {},
   "source": [
    "<a href=\"#back7\">Back to Exercise 7</a>"
   ]
  }
 ],
 "metadata": {
  "anaconda-cloud": {},
  "kernelspec": {
   "display_name": "Python 3",
   "language": "python",
   "name": "python3"
  },
  "language_info": {
   "codemirror_mode": {
    "name": "ipython",
    "version": 3
   },
   "file_extension": ".py",
   "mimetype": "text/x-python",
   "name": "python",
   "nbconvert_exporter": "python",
   "pygments_lexer": "ipython3",
   "version": "3.6.5"
  },
  "widgets": {
   "state": {
    "52d1b36d44f743cb838f72e2387d8110": {
     "views": [
      {
       "cell_index": 68
      }
     ]
    }
   },
   "version": "1.2.0"
  }
 },
 "nbformat": 4,
 "nbformat_minor": 2
}
