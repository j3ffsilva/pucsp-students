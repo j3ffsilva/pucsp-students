{
 "cells": [
  {
   "cell_type": "markdown",
   "metadata": {},
   "source": [
    "<figure>\n",
    "  <IMG SRC=\"http://www.pucsp.br/sites/default/files/download/brasao-PUCSP-assinatura-principal-RGB.png\" WIDTH=75 ALIGN=\"right\">\n",
    "</figure>\n",
    "\n",
    "# Funções\n",
    "## (Revisão)\n"
   ]
  },
  {
   "cell_type": "markdown",
   "metadata": {},
   "source": [
    "## Semana 2 - aula 1\n",
    "Neste caderno vamos aprender a escrever nossas próprias funções, mas começaremos com um pouco sobre pacotes Python."
   ]
  },
  {
   "cell_type": "markdown",
   "metadata": {},
   "source": [
    "### Um pouco sobre pacotes\n",
    "Um pacote é um conjunto de funções do Python. Quando queremos usar uma função de um pacote, precisamos importá-lo. Existem muitas maneiras diferentes de importar pacotes. A sintaxe mais básica é\n",
    "\n",
    "`import numpy`\n",
    "e após isso qualquer função em `numpy` pode ser chamada como `numpy.function ()`.\n",
    "Se você não gosta do nome do pacote, por exemplo, porque é longo, você pode mudar o nome. Nós fizemos isso renomeando `numpy` para `np`, o que é bastante comum em computação exploratória.\n",
    "Depois de\n",
    "\n",
    "`import numpy as np`\n",
    "\n",
    "todas as funções em `numpy` podem ser chamadas como `np.function ()`.\n",
    "\n",
    "Pacotes também podem ter subpacotes. Por exemplo, o pacote `numpy` tem um subpacote chamado `random`, que possui várias funções para lidar com variáveis aleatórias. Se o pacote `numpy` for importado com `import numpy as np`, as funções no subpacote `random` podem ser chamadas como `np.random.function ()`.\n",
    "\n",
    "Se você precisa apenas de uma função específica, não precisa importar o pacote inteiro. Por exemplo, se você quer apenas a função cosseno do pacote numpy, você pode importá-lo como `from numpy import cos`, após o qual você pode simplesmente chamar a função cosseno como `cos ()`. Você pode até renomear funções quando as importar. Por exemplo, `from numpy import cos as newname`, após o qual você pode chamar a função `newname ()` para calcular o cosseno (eu sei, muito bobo, mas isso pode ser útil).\n",
    "\n",
    "Nos Notebooks anteriores nós sempre importamos `numpy` e o chamamos `np` e importamos a parte de plotagem de `matplotlib` e a chamamos de `plt`. Ambos são nomes padrão na comunidade Python. A terceira declaração que adicionamos é `%matplotlib inline`.\n",
    "Este último comando é um comando IPython e não um comando Python. Ele só funcionará no IPython e é chamado de comando mágico. Todos os comandos mágicos são precedidos por um `%`. O `%matplotlib inline` coloca todos os números num bloco de Notas, e não em uma janela separada.\n",
    "\n",
    "Chega de pacotes por agora. Vamos começar do jeito que sempre começamos."
   ]
  },
  {
   "cell_type": "code",
   "execution_count": null,
   "metadata": {},
   "outputs": [],
   "source": [
    "import matplotlib.pyplot as plt\n",
    "import numpy as np\n",
    "%matplotlib inline"
   ]
  },
  {
   "cell_type": "markdown",
   "metadata": {},
   "source": [
    "### IDEA: função de escrita para integração numérica"
   ]
  },
  {
   "cell_type": "markdown",
   "metadata": {},
   "source": [
    "### Funções\n",
    "Funções são uma parte essencial de uma linguagem de programação.\n",
    "Você já usou muitas funções como `plot`, `loadtxt` ou `linspace`. Mas você também pode definir suas próprias funções. Para definir uma nova função, use o comando `def`. Depois de `def` segue o nome da função e depois entre parênteses os argumentos da função e finalmente dois pontos. Depois dos dois pontos, você indenta até terminar a função. A última linha da função deve ser `return` seguida do que você deseja retornar. Por exemplo, considere a seguinte função de $x$:\n",
    "\n",
    "$f(x) = \\cos(x) \\qquad x <0$\n",
    "\n",
    "$f(x) = \\exp(-x) \\qquad x \\ge 0$\n",
    "\n",
    "Vamos implementar $f(x)$ em uma função chamada `func`. Existe um argumento de entrada: $x$."
   ]
  },
  {
   "cell_type": "code",
   "execution_count": null,
   "metadata": {},
   "outputs": [],
   "source": [
    "def func(x):\n",
    "    if x < 0:\n",
    "        f = np.cos(x)\n",
    "    else:\n",
    "        f = np.exp(-x)\n",
    "    return f\n",
    "print(func(3))"
   ]
  },
  {
   "cell_type": "markdown",
   "metadata": {},
   "source": [
    "Depois de definir uma função no Python, você pode chamá-la sempre que desejar durante a sessão. Então podemos chamar novamente"
   ]
  },
  {
   "cell_type": "code",
   "execution_count": null,
   "metadata": {},
   "outputs": [],
   "source": [
    "print(func(-2))"
   ]
  },
  {
   "cell_type": "markdown",
   "metadata": {},
   "source": [
    "Se você digitar\n",
    "\n",
    "`func(` e depois apertar [shift-tab]\n",
    "\n",
    "e esperar uma fração de segundo, os argumentos de entrada da função aparecem em uma pequena janela, assim como para outras funções que já usamos. Você também pode fornecer documentação adicional da sua função. Coloque a documentação na parte superior do bloco indentado e coloque-a entre aspas triplas.\n",
    "Execute o código abaixo para definir a função `func` com a documentação adicional e, em seguida, na célula de código abaixo desse digite\n",
    "\n",
    "`func(`\n",
    "\n",
    "e pressione [shift][tab] para ver a documentação adicional. Atenção: não deixe uma célula de código com apenas `func(` ou `func()`, pois você obterá um erro no [Kernel][Restart & Run All]."
   ]
  },
  {
   "cell_type": "code",
   "execution_count": 3,
   "metadata": {},
   "outputs": [],
   "source": [
    "def func(x):\n",
    "    '''Primeira função do Python\n",
    "     escrita pelo aluno X'''\n",
    "    if x < 0:\n",
    "        f = np.cos(x)\n",
    "    else:\n",
    "        f = np.exp(-x)\n",
    "    return f"
   ]
  },
  {
   "cell_type": "code",
   "execution_count": null,
   "metadata": {},
   "outputs": [],
   "source": []
  },
  {
   "cell_type": "markdown",
   "metadata": {},
   "source": [
    "Os nomes dos argumentos de uma função são os nomes usados dentro da função. Eles não têm relação com os nomes usados fora da função. Ao usar uma variável como o argumento de uma função, somente o *valor* é passado para a função. No exemplo abaixo, o *valor* de `y` é passado como o primeiro argumento da função `func`. Dentro da função, este valor é usado para a variável `x`."
   ]
  },
  {
   "cell_type": "code",
   "execution_count": null,
   "metadata": {},
   "outputs": [],
   "source": [
    "y = 2\n",
    "print('func(2):', func(y))"
   ]
  },
  {
   "cell_type": "markdown",
   "metadata": {},
   "source": [
    "### Exercício 1. <a name=\"back1\"></a>Primeira função\n",
    "Escreva uma função Python para a seguinte função:\n",
    "\n",
    "$f(x)=e^{-\\alpha x}\\cos(x)$\n",
    "\n",
    "A função deve ter `x` e `alpha` como argumentos de entrada e retornar o valor da função. Dê à sua função um nome exclusivo (se você também chamar de `func` ela sobrescreverá a função `func` que definimos acima). Faça um gráfico de `f` vs. `x` para `x` indo de 0 a $10\\pi$ usando dois valores diferentes de `alpha`: 0.1 e 0.2. Adicione uma legenda e rotule os eixos."
   ]
  },
  {
   "cell_type": "code",
   "execution_count": null,
   "metadata": {},
   "outputs": [],
   "source": []
  },
  {
   "cell_type": "markdown",
   "metadata": {},
   "source": [
    "<a href=\"#ex1answer\">Resposta do Exercício\n",
    "   1</a>"
   ]
  },
  {
   "cell_type": "markdown",
   "metadata": {},
   "source": [
    "### Keyword arguments\n",
    "Functions may have multiple input arguments followed by keyword arguments. Arguments *must* be entered and must be entered in the order defined. Keyword arguments don't need to be entered. When they are not entered, the default value is used. Keyword arguments may be given in any order as long as they come after the regular arguments. If you specify the keyword arguments in the order they are defined in the argument list, you don't even need to preceed them with the keyword, but it is saver to write the keywords out and it makes your code easier to read. For example, the function $f(x)=A\\cos(\\pi x+\\theta)$ can be written with keyword arguments for $A$ and $\\theta$ as follows."
   ]
  },
  {
   "cell_type": "code",
   "execution_count": null,
   "metadata": {
    "scrolled": true
   },
   "outputs": [],
   "source": [
    "def testfunc(x, A=1, theta=0):\n",
    "    return A * np.cos(np.pi * x + theta)\n",
    "print(testfunc(1))  # Uses default A=1, theta=0: cos(pi)\n",
    "print(testfunc(1, A=2))  # Now A=2, and theta is still 0: 2*cos(pi)\n",
    "print(testfunc(1, A=2, theta=np.pi / 4))  # Now A=2, theta=pi/4: 2*cos(5pi/4) \n",
    "print(testfunc(1, theta=np.pi / 4, A=2))  # Same as above: 2*cos(5pi/4)\n",
    "print(testfunc(1, theta=np.pi / 4))  # Now theta=pi/4, and A is still 1: cos(5pi/4)"
   ]
  },
  {
   "cell_type": "markdown",
   "metadata": {},
   "source": [
    "### Local variables\n",
    "Variables declared inside a function can only be used inside that function. The outside of a function doesn't know about the variables used inside the function, except for the variables that are returned by the function. In the code below, remove the `#` before `print a` and you will get an error message, as `a` is a local variable inside the function `localtest` only (then put the `#` back, else you get an error when running [Kernel][Restart & Run All])."
   ]
  },
  {
   "cell_type": "code",
   "execution_count": null,
   "metadata": {},
   "outputs": [],
   "source": [
    "def localtest(x):\n",
    "    a = 3\n",
    "    b = 5\n",
    "    return a * x + b\n",
    "print(localtest(4))\n",
    "#print(a)  # Will cause an error, as 'a' is not known outside function "
   ]
  },
  {
   "cell_type": "markdown",
   "metadata": {},
   "source": [
    "### Three types of variables inside a function\n",
    "There are actually three types of variables inside a function. We already learned about two of them: variables passed to the function through the argument list, like `x` in the function above, and local variables, like `a` and `b` in the function above. The third type are variables defined outside the function but not passed to the function through the argument list. When a variable is used inside a Python function, Python first checks whether the variable has been defined locally. If not, it checks whether the variable is passed to the function through the argument list. And if that is not the case, Python checks whether the variable is defined outside the function, from the place the function was called. If that is not the case either, it will throw an error message. It is considered good coding practice to pass variables to a function when they are needed inside a function, rather than counting on Python to *find* the variable outside the function; it will likely lead to fewer coding errors as well.\n",
    "\n",
    "Note that when a variable is defined locally, Python will not check whether that variable is also declared outside the function. It will happily create a new variable with the same name inside the function. It is important to realize the difference between these different types, so let's do a few examples."
   ]
  },
  {
   "cell_type": "code",
   "execution_count": null,
   "metadata": {},
   "outputs": [],
   "source": [
    "# This function works properly\n",
    "def test1(x):\n",
    "    a = 3\n",
    "    b = 5\n",
    "    return a * x + b\n",
    "print(test1(4))\n",
    "\n",
    "# This function also works, but it is sloppy coding\n",
    "# since variable a is defined outside the function\n",
    "a = 3\n",
    "def test2(x):\n",
    "    b = 5\n",
    "    return a * x + b\n",
    "print(test2(4))  "
   ]
  },
  {
   "cell_type": "markdown",
   "metadata": {},
   "source": [
    "In the following function, we define variable `var1` outside the function `test3`. The function `test3` doesn't take any input arguments (but it still needs the parentheses, else Python doesn't know it is a function!), and it creates a local variable `var1`. This local `var1` variable is only known inside the function `test3` and doesn't effect the value of `var1` outside function `test3`."
   ]
  },
  {
   "cell_type": "code",
   "execution_count": null,
   "metadata": {},
   "outputs": [],
   "source": [
    "var1 = 8\n",
    "def test3():\n",
    "    var1 = 4\n",
    "    print('Goodmorning, var1 equals', var1)\n",
    "test3()\n",
    "print('Value of var1 outside test3:', var1)"
   ]
  },
  {
   "cell_type": "markdown",
   "metadata": {},
   "source": [
    "### Functions are building blocks that need to be tested separately\n",
    "Functions are the building blocks of a computer code. They represent a well-defined functionality, which means they can *and should* be tested separately. So make it a habit to test whether your function does what you intended it to do. Sometimes it is easy to test a function: you can compare the value to a hand-calculation, for example. Other times it is more difficult, and you need to write some additional code to test the function. It is always worthwhile to do that. If you test your functions well, it will aid you in debugging your code, because you know that the error is not inside the function."
   ]
  },
  {
   "cell_type": "markdown",
   "metadata": {},
   "source": [
    "### Exercise 2, <a name=\"back2\"></a>Stream function for flow around a cylinder\n",
    "Consider two-dimensional inviscid fluid flow (potential flow) around a cylinder.\n",
    "The origin of the coordinate system is at the center of the cylinder.\n",
    "The stream function is a function that is constant along stream lines. \n",
    "The stream function $\\psi$ is a function of polar coordinates $r$ and $\\theta$. The stream function is constant and equal to zero on the cylinder and doesn't really exist inside the cylinder, so let's make it zero there, like it is on the cylinder.\n",
    "\n",
    "$\\begin{split}\n",
    "\\psi &= 0 \\qquad r\\le R \\\\\n",
    "\\psi &= U(r-R^2/r)\\sin(\\theta) \\qquad r\\ge R\n",
    "\\end{split}$\n",
    "\n",
    "where $U$ is the flow in the $x$-direction, $r$ is the radial distance from the center of the cylinder, $\\theta$ is the angle, and $R$ is the radius of the cylinder. You may recall it is not always easy to compute the correct angle when given a value of $x$ and $y$, as the regular arctan function returns a value between $-\\pi/2$ and $+\\pi/2$ (radians), while if $x=-2$ and $y=2$, the angle should be $3\\pi/4$.\n",
    "`numpy` has a very cool function to compute the correct angle between $-\\pi$ and $+\\pi$ given the $x$ and $y$ coordinates. The function is `arctan2(y,x)`. Note that the function takes as its *first* argument `y` and as its *second* argument `x`.  \n",
    "\n",
    "Write a function that computes the stream function for flow around a cylinder. The function should take two arguments, `x` and `y`, and two keyword arguments, `U` and `R`, and should return the stream function value. If you write the function correctly, it should give `psi(2, 4, U=2, R=1.5) = 7.1`, and `psi(0.5, 0, U=2, R=1.5) = 0` (inside the cylinder)."
   ]
  },
  {
   "cell_type": "code",
   "execution_count": null,
   "metadata": {},
   "outputs": [],
   "source": []
  },
  {
   "cell_type": "markdown",
   "metadata": {},
   "source": [
    "<a href=\"#ex2answer\">Answer to Exercise 2</a>"
   ]
  },
  {
   "cell_type": "markdown",
   "metadata": {},
   "source": [
    "### Vectorization of a function\n",
    "Not all functions can be called with an array of values as input argument. For example, the function `func` defined at the beginning of this notebook doesn't work with an array of `x` values. Remove the `#` and try it out. Then put the `#` back"
   ]
  },
  {
   "cell_type": "code",
   "execution_count": null,
   "metadata": {},
   "outputs": [],
   "source": [
    "def func(x):\n",
    "    if x < 0:\n",
    "        f = np.cos(x)\n",
    "    else:\n",
    "        f = np.exp(-x)\n",
    "    return f\n",
    "x = np.linspace(-6, 6, 100)\n",
    "#y = func(x) # Run this line after removing the # to see the error that occurs. Then put the # back"
   ]
  },
  {
   "cell_type": "markdown",
   "metadata": {},
   "source": [
    "The reason this doesn't work is that Python doesn't know what to do with the line \n",
    "\n",
    "`if x < 0` \n",
    "\n",
    "when `x` contains many values. Hence the error message \n",
    "\n",
    "`The truth value of an array with more than one element is ambiguous` \n",
    "\n",
    "For some values of `x` the `if` statement may be `True`, for others it may be `False`. A simple way around this problem is to vectorize the function. That means we create a new function, let's call it `funcvec`, that is a vectorized form of `func` and can be called with an array as an argument (this is by far the easiest but not necessarily the computationally fastest way to make sure a function can be called with an array as an argument)"
   ]
  },
  {
   "cell_type": "code",
   "execution_count": null,
   "metadata": {},
   "outputs": [],
   "source": [
    "funcvec = np.vectorize(func)\n",
    "x = np.linspace(-6, 6, 100)\n",
    "y = funcvec(x)\n",
    "plt.plot(x, y);"
   ]
  },
  {
   "cell_type": "markdown",
   "metadata": {},
   "source": [
    "Back now to the problem of flow around a clinder. Contours of the stream function represent stream lines around the cylinder. To make a contour plot, the function to be contoured needs to be evaluated on a grid of points. The grid of points and an array with the values of the stream function at these points can be passed to a contouring routine to create a contour plot. To create a grid of points, use the function `meshgrid` which takes as input a range of `x` values and a range of `y` values, and returns a grid of `x` values and a grid of `y` values. For example, to have 5 points in the $x$-direction from -1 to +1, and 3 points in y-direction from 0 to 10:"
   ]
  },
  {
   "cell_type": "code",
   "execution_count": null,
   "metadata": {},
   "outputs": [],
   "source": [
    "x,y = np.meshgrid( np.linspace(-1,1,5), np.linspace(0,10,3) ) \n",
    "print('x values')\n",
    "print(x)\n",
    "print('y values')\n",
    "print(y)"
   ]
  },
  {
   "cell_type": "markdown",
   "metadata": {},
   "source": [
    "### Exercise 3, <a name=\"back3\"></a>Contour plot for flow around a cylinder\n",
    "Evaluate the function for the stream function around a cylinder with radius 1.5 on a grid of 100 by 100 points, where `x` varies from -4 to +4, and `y` varies from -3 to 3; use $U=1$. Evaluate the stream function on the entire grid (you need to create a vectorized version of the function you wrote to compute the stream function). Then use the `np.contour` function to create a contour plot (find out how by reading the help of the `contour` function or go to [this demo](http://matplotlib.org/examples/pylab_examples/contour_demo.html)) of the `matplotlib` gallery. You need to use the command `plt.axis('equal')`, so that the scales along the axes are equal and the circle looks like a circle rather than an ellipse. Finally, you may want to add a nice circular patch using the `fill` command and specifying a bunch of $x$ and $y$ values around the circumference of the cylinder."
   ]
  },
  {
   "cell_type": "code",
   "execution_count": null,
   "metadata": {},
   "outputs": [],
   "source": []
  },
  {
   "cell_type": "markdown",
   "metadata": {},
   "source": [
    "<a href=\"#ex3answer\">Answer to Exercise 3</a>"
   ]
  },
  {
   "cell_type": "markdown",
   "metadata": {},
   "source": [
    "### Return multiple *things*\n",
    "An assignment can assign values to multiple variables in one statement, for example"
   ]
  },
  {
   "cell_type": "code",
   "execution_count": null,
   "metadata": {},
   "outputs": [],
   "source": [
    "a, b = 4, 3\n",
    "print('a:', a)\n",
    "print('b:', b)\n",
    "a, b, c = 27, np.arange(4), 'hello'\n",
    "print('a:', a)\n",
    "print('b:', b)\n",
    "print('c:', c)\n",
    "d, e, f = np.arange(0, 11, 5)\n",
    "print('d:', d)\n",
    "print('e:', e)\n",
    "print('f:', f)"
   ]
  },
  {
   "cell_type": "markdown",
   "metadata": {},
   "source": [
    "Similarly, a function may return one value or one array, or multiple values, multiple arrays, or whatever the programmer decides to return (including nothing, of course). When multiple *things* are returned, they are returned as a tuple. They can be stored as a tuple, or, if the user knows how many *things* are returned, they can be stored in individual variables right away, as in the example above."
   ]
  },
  {
   "cell_type": "code",
   "execution_count": null,
   "metadata": {},
   "outputs": [],
   "source": [
    "def newfunc():\n",
    "    dump = 4 * np.ones(5)\n",
    "    dump[0] = 100\n",
    "    return 33, dump, 'this works great!'\n",
    "test = newfunc()\n",
    "print(type(test))\n",
    "print(test[1]) \n",
    "a, b, c = newfunc()\n",
    "print('a:', a)\n",
    "print('b:', b)\n",
    "print('c:', c)"
   ]
  },
  {
   "cell_type": "markdown",
   "metadata": {},
   "source": [
    "### Exercise 4, <a name=\"back4\"></a>Streamplot of flow around a cylinder\n",
    "The radial and tangential components of the velocity vector $\\vec{v}=(v_r,v_\\theta)$ for inviscid fluid flow around a cylinder are given by\n",
    "\n",
    "$\\begin{split}\n",
    "v_r&=U(1-R^2/r^2)\\cos(\\theta) \\qquad r\\ge R \\\\\n",
    "v_\\theta&=-U(1+R^2/r^2)\\sin(\\theta) \\qquad r\\ge R\n",
    "\\end{split}$\n",
    "\n",
    "and is zero otherwise. The $x$ and $y$ components of the velocity vector may be obtained from the radial and tangential components as\n",
    "\n",
    "$\\begin{split}\n",
    "v_x&=v_r\\cos(\\theta) - v_\\theta\\sin(\\theta) \\\\\n",
    "v_y &= v_r\\sin(\\theta) + v_\\theta\\cos(\\theta) \n",
    "\\end{split}$\n",
    "\n",
    "Write a function that returns the $x$ and $y$ components of the velocity vector for fluid flow around a cylinder with $R=1.5$ and $U=2$. \n",
    "Test your function by making sure that at $(x,y) = (2,3)$ the velocity vector is $(v_x,v_y)=(2.1331, -0.3195)$.\n",
    "Compute the $x$ and $y$ components of the velocity vector (vectorization won't help here, as your function returns two values, so you need a double loop) on a grid of 50 by 50 points where `x` varies from -4 to +4, and `y` varies from -3 to 3. Create a stream plot using the cool function `plt.streamplot`, which takes four arguments: `x`, `y`, `vx`, `vy`."
   ]
  },
  {
   "cell_type": "code",
   "execution_count": null,
   "metadata": {},
   "outputs": [],
   "source": []
  },
  {
   "cell_type": "markdown",
   "metadata": {},
   "source": [
    "<a href=\"#ex4answer\">Answer to Exercise 4</a>"
   ]
  },
  {
   "cell_type": "markdown",
   "metadata": {},
   "source": [
    "### Exercise 5, <a name=\"back5\"></a>Derivative of a function\n",
    "The function `func`, which we wrote earlier in this notebook, implements the following function\n",
    "\n",
    "$f(x)= \\cos(x) \\qquad x <0$\n",
    "\n",
    "$f(x) = \\exp(-x) \\qquad x \\ge 0$\n",
    "\n",
    "Derive an analytic expression (by hand) for the first derivative of $f(x)$ and implement it in a Python function. Test your function by comparing its output to a numerical derivative using a central difference scheme \n",
    "\n",
    "$\\frac{\\text{d}f}{\\text{d}x}\\approx \\frac{f(x+d)-f(x-d)}{2d}$\n",
    "\n",
    "where $d$ is a small number. Test your function for both $x<0$ and $x>0$."
   ]
  },
  {
   "cell_type": "code",
   "execution_count": null,
   "metadata": {},
   "outputs": [],
   "source": []
  },
  {
   "cell_type": "markdown",
   "metadata": {},
   "source": [
    "<a href=\"#ex5answer\">Answer to Exercise 5</a>"
   ]
  },
  {
   "cell_type": "markdown",
   "metadata": {},
   "source": [
    "### Using a function as the argument of another function\n",
    "So far, we have used single values or arrays as input arguments of functions. But we can also use a function as one of the input arguments of another function. Consider, for example, a function called `takesquare` that takes two input arguments: a function `finput` and a value `x`, and it returns the function `finput` evaluated at `x` and then squared."
   ]
  },
  {
   "cell_type": "code",
   "execution_count": null,
   "metadata": {},
   "outputs": [],
   "source": [
    "def takesquare(finput, x):\n",
    "    return finput(x) ** 2"
   ]
  },
  {
   "cell_type": "markdown",
   "metadata": {},
   "source": [
    "We can now call `takesquare` with any function $f$ that can be called as $f(x)$ and returns one value. For example, we can call it with the cosine function, and we can test right away whether we got the right answer"
   ]
  },
  {
   "cell_type": "code",
   "execution_count": null,
   "metadata": {},
   "outputs": [],
   "source": [
    "print('takesquare result:', takesquare(np.cos, 2))\n",
    "print('correct value is: ', np.cos(2) ** 2)"
   ]
  },
  {
   "cell_type": "markdown",
   "metadata": {},
   "source": [
    "### Finding the zero of a function\n",
    "Finding the zero of a function is a common task in exploratory computing. The value where the function equals zero is also called the *root* and finding the zero is referred to as *root finding*. There exist a number of methods to find the zero of a function varying from robust but slow (so it always finds a zero but it takes quite a few function evaluations) to fast but not so robust (it can find the zero very fast, but it won't always find it). Here we'll use the latter one.\n",
    "\n",
    "Consider the function $f(x)=0.5-\\text{e}^{-x}$. The function is zero when $x=-\\ln(0.5)$, but let's pretend we don't know that and try to find it using a root finding method. First, we need to write a Python function for $f(x)$."
   ]
  },
  {
   "cell_type": "code",
   "execution_count": null,
   "metadata": {},
   "outputs": [],
   "source": [
    "def f(x):\n",
    "    return 0.5 - np.exp(-x)"
   ]
  },
  {
   "cell_type": "markdown",
   "metadata": {},
   "source": [
    "We will use the method `fsolve` to find the zero of a function. `fsolve` is part of the `scipy.optimize` package. `fsolve` takes two arguments: the function for which we want to find the zero, and a starting value for the search (not surpisingly, the closer the starting value is to the root, the higher the chance that `fsolve` will find it)."
   ]
  },
  {
   "cell_type": "code",
   "execution_count": null,
   "metadata": {},
   "outputs": [],
   "source": [
    "from scipy.optimize import fsolve\n",
    "xzero = fsolve(f,1)\n",
    "print('result of fsolve:', xzero)\n",
    "print('f(x) at xzero:   ', f(xzero))\n",
    "print('exact value of xzero:', -np.log(0.5))"
   ]
  },
  {
   "cell_type": "markdown",
   "metadata": {},
   "source": [
    "What now if you want to find the value of $x$ for which $f(x)=0.3$ (I know, it is $-\\ln(0.2)$). We could, of course, create a new function $f_2=f(x)-0.3$ and then try to find the zero of $f_2$. But if we do that, we might as well make it more generic. Let's try to find $f(x)=a$, so we create a function $f_2=f(x)-a$"
   ]
  },
  {
   "cell_type": "code",
   "execution_count": null,
   "metadata": {},
   "outputs": [],
   "source": [
    "def f2(x, a=0):\n",
    "    return f(x) - a"
   ]
  },
  {
   "cell_type": "markdown",
   "metadata": {},
   "source": [
    "When we use `fsolve` to find the zero of function `f2`, we need to pass it an additional argument: the value of `a`. This can be done using the keyword argument `args`, which is a tuple of additional arguments passed to the function for which `fsolve` tries to find the root. The keyword `args` can be multiple values, as long as they are separated by commas, but for our case the function `f2` only takes one additional argument."
   ]
  },
  {
   "cell_type": "code",
   "execution_count": null,
   "metadata": {},
   "outputs": [],
   "source": [
    "xroot = fsolve(f2, 1, args=(0.3))\n",
    "print('fsolve result:', xroot)\n",
    "print('f(xroot):     ', f(xroot))\n",
    "print('exact value:  ', -np.log(0.2))"
   ]
  },
  {
   "cell_type": "markdown",
   "metadata": {},
   "source": [
    "### Exercise <a name=\"back6\"></a>6\n",
    "The cumulative density distribution $F(x)$ of the Normal distribution is given by\n",
    "\n",
    "$F(x)=\\frac{1}{2}\\left[ 1 + \\text{erf}\\left(\\frac{x-\\mu}{\\sqrt{2\\sigma^2}}\\right)\\right] $\n",
    "\n",
    "where $\\mu$ is the mean, $\\sigma$ is the standard deviation, and erf is the error function. \n",
    "Recall the definition of a cumulative density distribution: When a random variable has a Normal distribution with mean $\\mu$ and standard deviation $\\sigma$, $F(x)$ is the probability that the random variable is less than $x$. Write a Python function for $F(x)$. The fist input argument should be $x$, followed by keyword arguments for $\\mu$ and $\\sigma$. The error function can be imported as\n",
    "\n",
    "`from scipy.special import erf`\n",
    "\n",
    "Test your function, for example by making sure that when $x=\\mu$, $F$ should return 0.5, and when $x=\\mu+1.96\\sigma$, $F$ should return 0.975 (remember that from your statistics class?).\n",
    "\n",
    "Next, find the value of $x$ for which $F(x)=p$, where $p$ is a probablity of interest (so it is between 0 and 1).\n",
    "Check you answer for $\\mu=3$, $\\sigma=2$, and find $x$ for $p=0.1$ and $p=0.9$. Substitute the roots you determine with `fsolve` back into $F(x)$ to make sure your code works properly."
   ]
  },
  {
   "cell_type": "code",
   "execution_count": null,
   "metadata": {
    "collapsed": true
   },
   "outputs": [],
   "source": []
  },
  {
   "cell_type": "markdown",
   "metadata": {},
   "source": [
    "<a href=\"#ex6answer\">Answer to Exercise 6</a>"
   ]
  },
  {
   "cell_type": "markdown",
   "metadata": {},
   "source": [
    "### Exercise <a name=\"back7\"></a>7. Numerical integration"
   ]
  },
  {
   "cell_type": "markdown",
   "metadata": {},
   "source": [
    "Numerical integration of a function is a common engineering task. \n",
    "The `scipy` package has a specific subpackage called `integrate` with a number of numerical integration functions. We will use the `quad` function. Use the `quad` function to integrate the function $f(x)=\\text{e}^{-x}$ from 1 till 5. Check that you did it right by doing the integration by hand (which is easy for this function). \n",
    "\n",
    "Next, compute the following integral:\n",
    "\n",
    "$$\\int_1^5 \\frac{\\text{e}^{-x}}{x}\\text{d}x$$ \n",
    "\n",
    "This integral is more difficult to do analytically. Perform the integration numerically with the `quad` function and  check your answer, for example, at the [wolframalpha website](https://www.wolframalpha.com) where you can simply type: `integrate exp(-x)/x from 1 to 5`."
   ]
  },
  {
   "cell_type": "code",
   "execution_count": null,
   "metadata": {},
   "outputs": [],
   "source": []
  },
  {
   "cell_type": "markdown",
   "metadata": {},
   "source": [
    "<a href=\"#ex7answer\">Answer to Exercise 7</a>"
   ]
  },
  {
   "cell_type": "markdown",
   "metadata": {},
   "source": [
    "### Answers to the exercises"
   ]
  },
  {
   "cell_type": "markdown",
   "metadata": {},
   "source": [
    "<a name=\"ex1answer\">Answer to Exercise 1</a>"
   ]
  },
  {
   "cell_type": "code",
   "execution_count": null,
   "metadata": {},
   "outputs": [],
   "source": [
    "def test(x, alpha):\n",
    "    return np.exp(-alpha * x) * np.cos(x)\n",
    "x = np.linspace(0, 10 * np.pi, 100)\n",
    "y1 = test(x, 0.1)  # This function can be called with an array\n",
    "y2 = test(x, 0.2)\n",
    "plt.plot(x, y1,'b', label=r'$\\alpha$=0.1') # if you specify a label, it will automatically be used in the legend\n",
    "plt.plot(x, y2,'r', label=r'$\\alpha$=0.2')\n",
    "plt.xlabel('x')\n",
    "plt.ylabel('f(x)')\n",
    "plt.legend();"
   ]
  },
  {
   "cell_type": "markdown",
   "metadata": {},
   "source": [
    " <a href=\"#back1\">Back to Exercise 1</a>\n",
    "\n",
    "<a name=\"ex2answer\">Answer to Exercise 2</a>"
   ]
  },
  {
   "cell_type": "code",
   "execution_count": null,
   "metadata": {},
   "outputs": [],
   "source": [
    "def psi(x, y, U=1, R=1):\n",
    "    r = np.sqrt(x ** 2 + y ** 2)\n",
    "    if r < R:\n",
    "        rv = 0.0\n",
    "    else:\n",
    "        theta = np.arctan2(y, x)\n",
    "        rv = U * (r - R ** 2 / r) * np.sin(theta)\n",
    "    return rv\n",
    "\n",
    "print(psi(2, 4, U=2, R=1.5))\n",
    "print(psi(0.5, 0, U=2, R=1.5))"
   ]
  },
  {
   "cell_type": "markdown",
   "metadata": {},
   "source": [
    "<a href=\"#back2\">Back to Exercise 2</a>\n",
    "\n",
    "<a name=\"ex3answer\">Answer to Exercise 3</a>"
   ]
  },
  {
   "cell_type": "code",
   "execution_count": null,
   "metadata": {},
   "outputs": [],
   "source": [
    "x,y = np.meshgrid(np.linspace(-4, 4, 100), np.linspace(-3, 3, 100))\n",
    "psivec = np.vectorize(psi)\n",
    "R = 1.5\n",
    "p = psivec(x, y, U=2, R=R)\n",
    "plt.contour(x, y, p, 50)\n",
    "alpha = np.linspace(0, 2 * np.pi, 100)\n",
    "plt.fill(R * np.cos(alpha), R * np.sin(alpha), ec='g', fc='g')\n",
    "plt.axis('scaled')"
   ]
  },
  {
   "cell_type": "markdown",
   "metadata": {},
   "source": [
    " <a href=\"#back3\">Back to Exercise 3</a>\n",
    "\n",
    "<a name=\"ex4answer\">Answer to Exercise 4</a>"
   ]
  },
  {
   "cell_type": "code",
   "execution_count": null,
   "metadata": {},
   "outputs": [],
   "source": [
    "def velocity(x, y, U=1, R=1):\n",
    "    r = np.sqrt(x**2 + y**2)\n",
    "    theta = np.arctan2(y, x)\n",
    "    if r > R:\n",
    "        vr =  U * (1 - R**2 / r**2) * np.cos(theta)\n",
    "        vt = -U * (1 + R**2 / r**2) * np.sin(theta)\n",
    "        vx = vr * np.cos(theta) - vt * np.sin(theta)\n",
    "        vy = vr * np.sin(theta) + vt * np.cos(theta)\n",
    "    else:\n",
    "        vx,vy = 0.0,0.0\n",
    "    return vx,vy\n",
    "\n",
    "print('velocity at (2,3): ', velocity(2, 3, U=2, R=1.5))\n",
    "x,y = np.meshgrid(np.linspace(-4, 4, 50), np.linspace(-3, 3, 50))\n",
    "vx, vy = np.zeros((50, 50)), np.zeros((50, 50))\n",
    "R = 1.5\n",
    "for i in range(50):\n",
    "    for j in range(50):\n",
    "        vx[i,j], vy[i,j] = velocity(x[i,j], y[i,j], U=2, R=R)\n",
    "alpha = np.linspace(0, 2 * np.pi, 100)\n",
    "plt.fill(R * np.cos(alpha), R * np.sin(alpha), ec='g', fc='g')\n",
    "plt.streamplot(x, y, vx, vy)\n",
    "plt.axis('scaled')\n",
    "plt.xlim(-4, 4)\n",
    "plt.ylim(-3, 3)"
   ]
  },
  {
   "cell_type": "markdown",
   "metadata": {},
   "source": [
    " <a href=\"#back4\">Back to Exercise 4</a>\n",
    "\n",
    "<a name=\"ex5answer\">Answer to Exercise 5</a>"
   ]
  },
  {
   "cell_type": "code",
   "execution_count": null,
   "metadata": {},
   "outputs": [],
   "source": [
    "def dfuncdx(x):\n",
    "    if x < 0:\n",
    "        rv = -np.sin(x)\n",
    "    else:\n",
    "        rv = -np.exp(-x)\n",
    "    return rv\n",
    "d = 1e-6\n",
    "x = -1\n",
    "dfdx = (func(x+d) - func(x-d)) / (2*d)\n",
    "print('True value   ', dfuncdx(x))\n",
    "print('Approx value ', dfdx)\n",
    "x = 1\n",
    "dfdx = (func(x+d) - func(x-d)) / (2*d)\n",
    "print('True value   ', dfuncdx(x))\n",
    "print('Approx value ', dfdx)"
   ]
  },
  {
   "cell_type": "markdown",
   "metadata": {},
   "source": [
    " <a href=\"#back5\">Back to Exercise 5</a>\n",
    "\n",
    "<a name=\"ex6answer\">Answer to Exercise 6</a>"
   ]
  },
  {
   "cell_type": "code",
   "execution_count": null,
   "metadata": {},
   "outputs": [],
   "source": [
    "from scipy.special import erf\n",
    "def F(x, mu=0, sigma=1, p=0):\n",
    "    rv = 0.5 * (1.0 + erf((x - mu) / np.sqrt(2 * sigma**2)))\n",
    "    return rv - p\n",
    "print('x=mu gives F(x)=', F(2, mu=2, sigma=1))\n",
    "print('x=mu+1.96sig gives:', F(2+1.96, mu=2, sigma=1))\n",
    "x1 = fsolve(F, 3, args=(3, 2, 0.1))\n",
    "x2 = fsolve(F, 3, args=(3, 2, 0.9))\n",
    "print('x1,F(x1):', x1, F(x1, mu=3, sigma=2))\n",
    "print('x2,F(x2):', x2, F(x2, mu=3, sigma=2))"
   ]
  },
  {
   "cell_type": "markdown",
   "metadata": {},
   "source": [
    " <a href=\"#back6\">Back to Exercise 6</a>\n",
    "\n",
    "<a name=\"ex7answer\">Answer to Exercise 7</a>"
   ]
  },
  {
   "cell_type": "code",
   "execution_count": null,
   "metadata": {},
   "outputs": [],
   "source": [
    "def func1(x):\n",
    "    return np.exp(-x)\n",
    "\n",
    "def func2(x):\n",
    "    return np.exp(-x) / x\n",
    "\n",
    "from scipy.integrate import quad\n",
    "print('func1:')\n",
    "print('numerical integration:', quad(func1, 1, 5))\n",
    "print('analytic integration:', -np.exp(-5) + np.exp(-1))\n",
    "\n",
    "print('func2:')\n",
    "print('numerical integration:', quad(func2, 1, 5))\n",
    "print('wolframalpha result:', 0.218236)"
   ]
  },
  {
   "cell_type": "markdown",
   "metadata": {},
   "source": [
    "<a href=\"#back7\">Back to Exercise 7</a>"
   ]
  }
 ],
 "metadata": {
  "anaconda-cloud": {},
  "kernelspec": {
   "display_name": "Python 3",
   "language": "python",
   "name": "python3"
  },
  "language_info": {
   "codemirror_mode": {
    "name": "ipython",
    "version": 3
   },
   "file_extension": ".py",
   "mimetype": "text/x-python",
   "name": "python",
   "nbconvert_exporter": "python",
   "pygments_lexer": "ipython3",
   "version": "3.6.5"
  },
  "widgets": {
   "state": {
    "52d1b36d44f743cb838f72e2387d8110": {
     "views": [
      {
       "cell_index": 68
      }
     ]
    }
   },
   "version": "1.2.0"
  }
 },
 "nbformat": 4,
 "nbformat_minor": 1
}
